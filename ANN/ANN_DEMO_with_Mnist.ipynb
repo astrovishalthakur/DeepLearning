{
  "nbformat": 4,
  "nbformat_minor": 0,
  "metadata": {
    "colab": {
      "name": "ANN_DEMO.ipynb",
      "provenance": [],
      "collapsed_sections": [],
      "mount_file_id": "1sd1NBSXJ5IHoI8alDtBufX5mwkWfxfZR",
      "authorship_tag": "ABX9TyNA5uNhMgvM47GZas27ackT",
      "include_colab_link": true
    },
    "kernelspec": {
      "name": "python3",
      "display_name": "Python 3"
    },
    "language_info": {
      "name": "python"
    },
    "accelerator": "GPU"
  },
  "cells": [
    {
      "cell_type": "markdown",
      "metadata": {
        "id": "view-in-github",
        "colab_type": "text"
      },
      "source": [
        "<a href=\"https://colab.research.google.com/github/astrovishalthakur/DeepLearning/blob/main/ANN/ANN_DEMO_with_Mnist.ipynb\" target=\"_parent\"><img src=\"https://colab.research.google.com/assets/colab-badge.svg\" alt=\"Open In Colab\"/></a>"
      ]
    },
    {
      "cell_type": "code",
      "execution_count": null,
      "metadata": {
        "id": "grC5rmpOXcPQ"
      },
      "outputs": [],
      "source": [
        "import tensorflow as tf"
      ]
    },
    {
      "cell_type": "code",
      "source": [
        "tf.__version__"
      ],
      "metadata": {
        "colab": {
          "base_uri": "https://localhost:8080/",
          "height": 35
        },
        "id": "eVokJ0zub1tq",
        "outputId": "644716eb-9339-4a0a-9ddf-f7448a48b778"
      },
      "execution_count": null,
      "outputs": [
        {
          "output_type": "execute_result",
          "data": {
            "text/plain": [
              "'2.8.0'"
            ],
            "application/vnd.google.colaboratory.intrinsic+json": {
              "type": "string"
            }
          },
          "metadata": {},
          "execution_count": 2
        }
      ]
    },
    {
      "cell_type": "code",
      "source": [
        "tf.keras.__version__"
      ],
      "metadata": {
        "colab": {
          "base_uri": "https://localhost:8080/",
          "height": 35
        },
        "id": "IxiyCQvqb5jO",
        "outputId": "05a659be-3fe3-4926-e9e6-aa5926885c82"
      },
      "execution_count": null,
      "outputs": [
        {
          "output_type": "execute_result",
          "data": {
            "text/plain": [
              "'2.8.0'"
            ],
            "application/vnd.google.colaboratory.intrinsic+json": {
              "type": "string"
            }
          },
          "metadata": {},
          "execution_count": 3
        }
      ]
    },
    {
      "cell_type": "markdown",
      "source": [
        "##### To see if <b>GPU</b> is available or not"
      ],
      "metadata": {
        "id": "VnwtMqBScI9H"
      }
    },
    {
      "cell_type": "code",
      "source": [
        "tf.config.list_physical_devices(\"GPU\")"
      ],
      "metadata": {
        "colab": {
          "base_uri": "https://localhost:8080/"
        },
        "id": "Z5UO0W4Zb_Lr",
        "outputId": "d439a3bf-59d6-48b1-9194-be20fd2b2946"
      },
      "execution_count": null,
      "outputs": [
        {
          "output_type": "execute_result",
          "data": {
            "text/plain": [
              "[PhysicalDevice(name='/physical_device:GPU:0', device_type='GPU')]"
            ]
          },
          "metadata": {},
          "execution_count": 4
        }
      ]
    },
    {
      "cell_type": "markdown",
      "source": [
        "## A Simple classifier using keras's Sequential API"
      ],
      "metadata": {
        "id": "KOrXXqSucdwC"
      }
    },
    {
      "cell_type": "markdown",
      "source": [
        "### Dataset MNIST\n",
        "\n",
        "1. Its dataset of handwritten digits\n",
        "2. each data point is 2d array of 28x28 size\n",
        "3. it has 10 classes 0-9\n",
        "4. aka hello world of tf"
      ],
      "metadata": {
        "id": "UHkTZ0Jrclgy"
      }
    },
    {
      "cell_type": "code",
      "source": [
        "import numpy as np\n",
        "import matplotlib.pyplot as plt\n",
        "import pandas as pd\n",
        "import tensorflow as tf"
      ],
      "metadata": {
        "id": "864z7NpVcEH4"
      },
      "execution_count": 1,
      "outputs": []
    },
    {
      "cell_type": "code",
      "source": [
        "from google.colab import drive\n",
        "drive.mount('/content/drive')"
      ],
      "metadata": {
        "colab": {
          "base_uri": "https://localhost:8080/"
        },
        "id": "oeAmk1W8X8S7",
        "outputId": "ba155052-de7a-4826-f420-a4fc57d3996c"
      },
      "execution_count": null,
      "outputs": [
        {
          "output_type": "stream",
          "name": "stdout",
          "text": [
            "Drive already mounted at /content/drive; to attempt to forcibly remount, call drive.mount(\"/content/drive\", force_remount=True).\n"
          ]
        }
      ]
    },
    {
      "cell_type": "code",
      "source": [
        "import os\n",
        "ROOT = \"/content/drive/MyDrive/Ineuron_ANN_Keras_MNIST\"\n",
        "os.chdir(ROOT)"
      ],
      "metadata": {
        "id": "mjhuIokOXOB1"
      },
      "execution_count": null,
      "outputs": []
    },
    {
      "cell_type": "code",
      "source": [
        "os.listdir()"
      ],
      "metadata": {
        "colab": {
          "base_uri": "https://localhost:8080/"
        },
        "id": "jJJXePDNYU8i",
        "outputId": "56c43cd9-19d6-4807-99f3-3b6d75d80004"
      },
      "execution_count": null,
      "outputs": [
        {
          "output_type": "execute_result",
          "data": {
            "text/plain": [
              "['ANN_DEMO.ipynb']"
            ]
          },
          "metadata": {},
          "execution_count": 8
        }
      ]
    },
    {
      "cell_type": "code",
      "source": [
        "mnist = tf.keras.datasets.mnist\n",
        "(X_train, y_train), (X_test, y_test) = mnist.load_data()"
      ],
      "metadata": {
        "colab": {
          "base_uri": "https://localhost:8080/"
        },
        "id": "PGVQFhEbccf_",
        "outputId": "5aaa8ded-83d2-48c3-ea15-8862786ae1c9"
      },
      "execution_count": 2,
      "outputs": [
        {
          "output_type": "stream",
          "name": "stdout",
          "text": [
            "Downloading data from https://storage.googleapis.com/tensorflow/tf-keras-datasets/mnist.npz\n",
            "11493376/11490434 [==============================] - 0s 0us/step\n",
            "11501568/11490434 [==============================] - 0s 0us/step\n"
          ]
        }
      ]
    },
    {
      "cell_type": "code",
      "source": [
        "X_train.shape, X_train.dtype"
      ],
      "metadata": {
        "colab": {
          "base_uri": "https://localhost:8080/"
        },
        "id": "42KLsjt3dRZI",
        "outputId": "8eb641c6-0508-41a8-bd4e-f78b19b03d26"
      },
      "execution_count": 3,
      "outputs": [
        {
          "output_type": "execute_result",
          "data": {
            "text/plain": [
              "((60000, 28, 28), dtype('uint8'))"
            ]
          },
          "metadata": {},
          "execution_count": 3
        }
      ]
    },
    {
      "cell_type": "code",
      "source": [
        "X_test.shape, y_test.shape, y_test.dtype"
      ],
      "metadata": {
        "colab": {
          "base_uri": "https://localhost:8080/"
        },
        "id": "xGFefFmodWkL",
        "outputId": "3c8c2d49-e420-47f3-d51d-1958c543d164"
      },
      "execution_count": 4,
      "outputs": [
        {
          "output_type": "execute_result",
          "data": {
            "text/plain": [
              "((10000, 28, 28), (10000,), dtype('uint8'))"
            ]
          },
          "metadata": {},
          "execution_count": 4
        }
      ]
    },
    {
      "cell_type": "code",
      "source": [
        "X_valid , X_train_ = X_train[: 5000] / 255, X_train[5000:] / 255\n",
        "y_valid, y_train_ = y_train[:5000], y_train[5000:] "
      ],
      "metadata": {
        "id": "QIGTRZFHdfPd"
      },
      "execution_count": 5,
      "outputs": []
    },
    {
      "cell_type": "code",
      "source": [
        "\n",
        "X_test = X_test/255"
      ],
      "metadata": {
        "id": "9b5X4dtseJ9F"
      },
      "execution_count": 6,
      "outputs": []
    },
    {
      "cell_type": "code",
      "source": [
        "plt.imshow(X_train[5000], cmap=\"binary\")\n",
        "plt.axis(\"off\")\n",
        "plt.show()\n",
        "y_train[5000]"
      ],
      "metadata": {
        "colab": {
          "base_uri": "https://localhost:8080/",
          "height": 265
        },
        "id": "oV5l6aOBeYuh",
        "outputId": "c29d92ed-18b4-4c01-9e65-3a41efb67769"
      },
      "execution_count": 7,
      "outputs": [
        {
          "output_type": "display_data",
          "data": {
            "text/plain": [
              "<Figure size 432x288 with 1 Axes>"
            ],
            "image/png": "[encoded data removed]"
          },
          "metadata": {
            "needs_background": "light"
          }
        },
        {
          "output_type": "execute_result",
          "data": {
            "text/plain": [
              "7"
            ]
          },
          "metadata": {},
          "execution_count": 7
        }
      ]
    },
    {
      "cell_type": "code",
      "source": [
        "plt.imshow(X_train_[0], cmap=\"binary\")\n",
        "plt.axis(\"off\")\n",
        "plt.show()\n",
        "y_train_[0]"
      ],
      "metadata": {
        "colab": {
          "base_uri": "https://localhost:8080/",
          "height": 265
        },
        "id": "FPqJ69gPel6y",
        "outputId": "586e4bdd-fdb2-4f1c-ba75-10b04bbcdfbb"
      },
      "execution_count": 8,
      "outputs": [
        {
          "output_type": "display_data",
          "data": {
            "text/plain": [
              "<Figure size 432x288 with 1 Axes>"
            ],
            "image/png": "[encoded data removed]"
          },
          "metadata": {
            "needs_background": "light"
          }
        },
        {
          "output_type": "execute_result",
          "data": {
            "text/plain": [
              "7"
            ]
          },
          "metadata": {},
          "execution_count": 8
        }
      ]
    },
    {
      "cell_type": "code",
      "source": [
        "import seaborn as sns\n",
        "plt.figure(figsize=(15, 15))\n",
        "sns.heatmap(X_train_[0], annot=True, cmap=\"binary\")"
      ],
      "metadata": {
        "colab": {
          "base_uri": "https://localhost:8080/",
          "height": 881
        },
        "id": "PzHswP_beqZI",
        "outputId": "26af99de-fa28-45d9-a6fe-ccecf2d123f2"
      },
      "execution_count": 9,
      "outputs": [
        {
          "output_type": "execute_result",
          "data": {
            "text/plain": [
              "<matplotlib.axes._subplots.AxesSubplot at 0x7f5c10b7ee90>"
            ]
          },
          "metadata": {},
          "execution_count": 9
        },
        {
          "output_type": "display_data",
          "data": {
            "text/plain": [
              "<Figure size 1080x1080 with 2 Axes>"
            ],
            "image/png": "[encoded data removed]"
          },
          "metadata": {
            "needs_background": "light"
          }
        }
      ]
    },
    {
      "cell_type": "markdown",
      "source": [
        "Sequential layer in keras means every layer is connected to next one, no layer is skipped"
      ],
      "metadata": {
        "id": "u-4iyMZzq2lz"
      }
    },
    {
      "cell_type": "markdown",
      "source": [
        "skipping layer is called skip correction\n"
      ],
      "metadata": {
        "id": "JeyR0SAlrU5k"
      }
    },
    {
      "cell_type": "markdown",
      "source": [
        "Defining list of layers"
      ],
      "metadata": {
        "id": "O5NEGv6erbdi"
      }
    },
    {
      "cell_type": "code",
      "source": [
        "LAYERS = [\n",
        "          tf.keras.layers.Flatten(input_shape=[28, 28], name=\"inputLayer\"),\n",
        "          tf.keras.layers.Dense(300, activation=\"relu\", name=\"hiddenLayer1\"),\n",
        "          tf.keras.layers.Dense(100, activation=\"relu\", name=\"hiddenLayer2\"),\n",
        "          tf.keras.layers.Dense(10, activation=\"softmax\", name=\"output\")\n",
        "]"
      ],
      "metadata": {
        "id": "PnZ577zypcaF"
      },
      "execution_count": 10,
      "outputs": []
    },
    {
      "cell_type": "code",
      "source": [
        "model = tf.keras.models.Sequential(LAYERS)"
      ],
      "metadata": {
        "id": "aj4XrU8mp8YS"
      },
      "execution_count": 11,
      "outputs": []
    },
    {
      "cell_type": "code",
      "source": [
        "model.summary()"
      ],
      "metadata": {
        "colab": {
          "base_uri": "https://localhost:8080/"
        },
        "id": "GuoZbTA9siEr",
        "outputId": "13dc7321-84da-4bf4-ea4f-e00e900d7107"
      },
      "execution_count": 12,
      "outputs": [
        {
          "output_type": "stream",
          "name": "stdout",
          "text": [
            "Model: \"sequential\"\n",
            "_________________________________________________________________\n",
            " Layer (type)                Output Shape              Param #   \n",
            "=================================================================\n",
            " inputLayer (Flatten)        (None, 784)               0         \n",
            "                                                                 \n",
            " hiddenLayer1 (Dense)        (None, 300)               235500    \n",
            "                                                                 \n",
            " hiddenLayer2 (Dense)        (None, 100)               30100     \n",
            "                                                                 \n",
            " output (Dense)              (None, 10)                1010      \n",
            "                                                                 \n",
            "=================================================================\n",
            "Total params: 266,610\n",
            "Trainable params: 266,610\n",
            "Non-trainable params: 0\n",
            "_________________________________________________________________\n"
          ]
        }
      ]
    },
    {
      "cell_type": "markdown",
      "source": [
        "###### How Params are calculated"
      ],
      "metadata": {
        "id": "pGR4xwVntQgu"
      }
    },
    {
      "cell_type": "code",
      "source": [
        "784*300 + 300"
      ],
      "metadata": {
        "colab": {
          "base_uri": "https://localhost:8080/"
        },
        "id": "4EPQNbtOtUHp",
        "outputId": "52164e78-8023-40de-f82f-fd41441b0b40"
      },
      "execution_count": 13,
      "outputs": [
        {
          "output_type": "execute_result",
          "data": {
            "text/plain": [
              "235500"
            ]
          },
          "metadata": {},
          "execution_count": 13
        }
      ]
    },
    {
      "cell_type": "code",
      "source": [
        "300*100 + 100"
      ],
      "metadata": {
        "colab": {
          "base_uri": "https://localhost:8080/"
        },
        "id": "eWLfjWZFtYWu",
        "outputId": "178f0e86-d625-47ba-db43-f6434ee8b343"
      },
      "execution_count": 14,
      "outputs": [
        {
          "output_type": "execute_result",
          "data": {
            "text/plain": [
              "30100"
            ]
          },
          "metadata": {},
          "execution_count": 14
        }
      ]
    },
    {
      "cell_type": "code",
      "source": [
        "100*10 + 10"
      ],
      "metadata": {
        "colab": {
          "base_uri": "https://localhost:8080/"
        },
        "id": "l-W7lX20tdcc",
        "outputId": "9f91947f-7fa5-464b-f6fc-0790113fdd49"
      },
      "execution_count": 15,
      "outputs": [
        {
          "output_type": "execute_result",
          "data": {
            "text/plain": [
              "1010"
            ]
          },
          "metadata": {},
          "execution_count": 15
        }
      ]
    },
    {
      "cell_type": "markdown",
      "source": [
        "##### It's shown that non trainable weights are 0. Its because we haven't frozen any weights. We freeze weights during transfer learning."
      ],
      "metadata": {
        "id": "k6fcRxaYticy"
      }
    },
    {
      "cell_type": "code",
      "source": [
        "model.layers"
      ],
      "metadata": {
        "colab": {
          "base_uri": "https://localhost:8080/"
        },
        "id": "Sro_O_05sk5F",
        "outputId": "9a009950-e607-4271-f89e-8c30bf44b3af"
      },
      "execution_count": 16,
      "outputs": [
        {
          "output_type": "execute_result",
          "data": {
            "text/plain": [
              "[<keras.layers.core.flatten.Flatten at 0x7f5c0ce7f110>,\n",
              " <keras.layers.core.dense.Dense at 0x7f5c0ce7f6d0>,\n",
              " <keras.layers.core.dense.Dense at 0x7f5c0ce12a90>,\n",
              " <keras.layers.core.dense.Dense at 0x7f5c0ce12d50>]"
            ]
          },
          "metadata": {},
          "execution_count": 16
        }
      ]
    },
    {
      "cell_type": "code",
      "source": [
        "hidden1 = model.layers[1]\n",
        "model.get_layer(hidden1.name)"
      ],
      "metadata": {
        "colab": {
          "base_uri": "https://localhost:8080/"
        },
        "id": "le7UdjSOsmju",
        "outputId": "b56166dd-1ed5-475a-cf9a-4e59c8b8597c"
      },
      "execution_count": 17,
      "outputs": [
        {
          "output_type": "execute_result",
          "data": {
            "text/plain": [
              "<keras.layers.core.dense.Dense at 0x7f5c0ce7f6d0>"
            ]
          },
          "metadata": {},
          "execution_count": 17
        }
      ]
    },
    {
      "cell_type": "markdown",
      "source": [
        "###### Weights and biases"
      ],
      "metadata": {
        "id": "QIIWaArNuOmU"
      }
    },
    {
      "cell_type": "code",
      "source": [
        "hidden1.get_weights()"
      ],
      "metadata": {
        "colab": {
          "base_uri": "https://localhost:8080/"
        },
        "id": "8imuROOQuGKb",
        "outputId": "518e0f0f-1bd5-4d4d-8e4f-01a93ccf12fb"
      },
      "execution_count": 18,
      "outputs": [
        {
          "output_type": "execute_result",
          "data": {
            "text/plain": [
              "[array([[ 0.06391332,  0.06303675,  0.04613013, ..., -0.05147759,\n",
              "         -0.06212723, -0.06767094],\n",
              "        [-0.03410138,  0.07168642,  0.0729963 , ...,  0.03346212,\n",
              "          0.06453799, -0.00173973],\n",
              "        [-0.02409636,  0.0683995 ,  0.06271666, ..., -0.05025203,\n",
              "         -0.07300844,  0.06674011],\n",
              "        ...,\n",
              "        [-0.05388549, -0.02356726, -0.02206727, ..., -0.01888147,\n",
              "         -0.00305568,  0.00048004],\n",
              "        [ 0.01184791,  0.02673174,  0.04253747, ...,  0.02403953,\n",
              "         -0.0047892 ,  0.07258141],\n",
              "        [ 0.04654383,  0.04621539,  0.02885294, ...,  0.02368532,\n",
              "         -0.03009897, -0.00092334]], dtype=float32),\n",
              " array([0., 0., 0., 0., 0., 0., 0., 0., 0., 0., 0., 0., 0., 0., 0., 0., 0.,\n",
              "        0., 0., 0., 0., 0., 0., 0., 0., 0., 0., 0., 0., 0., 0., 0., 0., 0.,\n",
              "        0., 0., 0., 0., 0., 0., 0., 0., 0., 0., 0., 0., 0., 0., 0., 0., 0.,\n",
              "        0., 0., 0., 0., 0., 0., 0., 0., 0., 0., 0., 0., 0., 0., 0., 0., 0.,\n",
              "        0., 0., 0., 0., 0., 0., 0., 0., 0., 0., 0., 0., 0., 0., 0., 0., 0.,\n",
              "        0., 0., 0., 0., 0., 0., 0., 0., 0., 0., 0., 0., 0., 0., 0., 0., 0.,\n",
              "        0., 0., 0., 0., 0., 0., 0., 0., 0., 0., 0., 0., 0., 0., 0., 0., 0.,\n",
              "        0., 0., 0., 0., 0., 0., 0., 0., 0., 0., 0., 0., 0., 0., 0., 0., 0.,\n",
              "        0., 0., 0., 0., 0., 0., 0., 0., 0., 0., 0., 0., 0., 0., 0., 0., 0.,\n",
              "        0., 0., 0., 0., 0., 0., 0., 0., 0., 0., 0., 0., 0., 0., 0., 0., 0.,\n",
              "        0., 0., 0., 0., 0., 0., 0., 0., 0., 0., 0., 0., 0., 0., 0., 0., 0.,\n",
              "        0., 0., 0., 0., 0., 0., 0., 0., 0., 0., 0., 0., 0., 0., 0., 0., 0.,\n",
              "        0., 0., 0., 0., 0., 0., 0., 0., 0., 0., 0., 0., 0., 0., 0., 0., 0.,\n",
              "        0., 0., 0., 0., 0., 0., 0., 0., 0., 0., 0., 0., 0., 0., 0., 0., 0.,\n",
              "        0., 0., 0., 0., 0., 0., 0., 0., 0., 0., 0., 0., 0., 0., 0., 0., 0.,\n",
              "        0., 0., 0., 0., 0., 0., 0., 0., 0., 0., 0., 0., 0., 0., 0., 0., 0.,\n",
              "        0., 0., 0., 0., 0., 0., 0., 0., 0., 0., 0., 0., 0., 0., 0., 0., 0.,\n",
              "        0., 0., 0., 0., 0., 0., 0., 0., 0., 0., 0.], dtype=float32)]"
            ]
          },
          "metadata": {},
          "execution_count": 18
        }
      ]
    },
    {
      "cell_type": "code",
      "source": [
        "weights, biases = hidden1.get_weights()"
      ],
      "metadata": {
        "id": "9c0efeLJuLRP"
      },
      "execution_count": 19,
      "outputs": []
    },
    {
      "cell_type": "code",
      "source": [
        "weights.shape, biases.shape"
      ],
      "metadata": {
        "colab": {
          "base_uri": "https://localhost:8080/"
        },
        "id": "QHXA9iT1uY3R",
        "outputId": "76a90cff-c7a2-49c5-919c-9f589743f455"
      },
      "execution_count": 20,
      "outputs": [
        {
          "output_type": "execute_result",
          "data": {
            "text/plain": [
              "((784, 300), (300,))"
            ]
          },
          "metadata": {},
          "execution_count": 20
        }
      ]
    },
    {
      "cell_type": "markdown",
      "source": [
        "*loss_function(actual, pred) = error*"
      ],
      "metadata": {
        "id": "d5MpbbfUu40i"
      }
    },
    {
      "cell_type": "code",
      "source": [
        "LOSS_FUNCTION = \"sparse_categorical_crossentropy\"\n",
        "OPTIMIZER = \"SGD\"\n",
        "METRICS = [\"accuracy\"]"
      ],
      "metadata": {
        "id": "7n9ZPcKHub5I"
      },
      "execution_count": 21,
      "outputs": []
    },
    {
      "cell_type": "markdown",
      "source": [
        "we are using <b> Sparse categorical cross entropy</b> as loss function.\n",
        "There is another loss function called categorical cross entropy.\n",
        "We are using first one because we don't need to one hot encode our labels which are in the form 0, 1, 2, 3, 4, 5, 6, 7, 8, 9.\n",
        "\n",
        "In <b>categorical cross entropy</b>, we need to one hot encode the labels as well."
      ],
      "metadata": {
        "id": "O0ifiISAxP1A"
      }
    },
    {
      "cell_type": "code",
      "source": [
        "model.compile(loss=LOSS_FUNCTION,\n",
        "              optimizer=OPTIMIZER,\n",
        "              metrics=METRICS)"
      ],
      "metadata": {
        "id": "_Tgr2UPyxPUt"
      },
      "execution_count": 22,
      "outputs": []
    },
    {
      "cell_type": "code",
      "source": [
        "EPOCHS = 30\n",
        "VALIDATION_SET = (X_valid, y_valid)\n",
        "\n",
        "history = model.fit(X_train_, y_train_,\n",
        "                    epochs=EPOCHS,\n",
        "                    validation_data=VALIDATION_SET)"
      ],
      "metadata": {
        "colab": {
          "base_uri": "https://localhost:8080/"
        },
        "id": "LhIjcYOUxd58",
        "outputId": "bcdcf322-3cf2-4507-8e4a-1931e812ff23"
      },
      "execution_count": 23,
      "outputs": [
        {
          "output_type": "stream",
          "name": "stdout",
          "text": [
            "Epoch 1/30\n",
            "1719/1719 [==============================] - 7s 3ms/step - loss: 0.6179 - accuracy: 0.8409 - val_loss: 0.3049 - val_accuracy: 0.9186\n",
            "Epoch 2/30\n",
            "1719/1719 [==============================] - 4s 3ms/step - loss: 0.2820 - accuracy: 0.9187 - val_loss: 0.2354 - val_accuracy: 0.9332\n",
            "Epoch 3/30\n",
            "1719/1719 [==============================] - 5s 3ms/step - loss: 0.2309 - accuracy: 0.9344 - val_loss: 0.2018 - val_accuracy: 0.9444\n",
            "Epoch 4/30\n",
            "1719/1719 [==============================] - 4s 2ms/step - loss: 0.1972 - accuracy: 0.9433 - val_loss: 0.1793 - val_accuracy: 0.9490\n",
            "Epoch 5/30\n",
            "1719/1719 [==============================] - 4s 3ms/step - loss: 0.1728 - accuracy: 0.9505 - val_loss: 0.1585 - val_accuracy: 0.9566\n",
            "Epoch 6/30\n",
            "1719/1719 [==============================] - 4s 3ms/step - loss: 0.1532 - accuracy: 0.9562 - val_loss: 0.1432 - val_accuracy: 0.9618\n",
            "Epoch 7/30\n",
            "1719/1719 [==============================] - 4s 3ms/step - loss: 0.1373 - accuracy: 0.9608 - val_loss: 0.1332 - val_accuracy: 0.9636\n",
            "Epoch 8/30\n",
            "1719/1719 [==============================] - 4s 3ms/step - loss: 0.1245 - accuracy: 0.9648 - val_loss: 0.1254 - val_accuracy: 0.9646\n",
            "Epoch 9/30\n",
            "1719/1719 [==============================] - 4s 3ms/step - loss: 0.1131 - accuracy: 0.9676 - val_loss: 0.1173 - val_accuracy: 0.9674\n",
            "Epoch 10/30\n",
            "1719/1719 [==============================] - 4s 3ms/step - loss: 0.1038 - accuracy: 0.9703 - val_loss: 0.1120 - val_accuracy: 0.9680\n",
            "Epoch 11/30\n",
            "1719/1719 [==============================] - 4s 3ms/step - loss: 0.0950 - accuracy: 0.9733 - val_loss: 0.1027 - val_accuracy: 0.9716\n",
            "Epoch 12/30\n",
            "1719/1719 [==============================] - 4s 3ms/step - loss: 0.0874 - accuracy: 0.9756 - val_loss: 0.0976 - val_accuracy: 0.9728\n",
            "Epoch 13/30\n",
            "1719/1719 [==============================] - 4s 3ms/step - loss: 0.0811 - accuracy: 0.9775 - val_loss: 0.0958 - val_accuracy: 0.9732\n",
            "Epoch 14/30\n",
            "1719/1719 [==============================] - 4s 3ms/step - loss: 0.0752 - accuracy: 0.9793 - val_loss: 0.0905 - val_accuracy: 0.9750\n",
            "Epoch 15/30\n",
            "1719/1719 [==============================] - 4s 3ms/step - loss: 0.0699 - accuracy: 0.9814 - val_loss: 0.0919 - val_accuracy: 0.9744\n",
            "Epoch 16/30\n",
            "1719/1719 [==============================] - 4s 3ms/step - loss: 0.0654 - accuracy: 0.9819 - val_loss: 0.0848 - val_accuracy: 0.9760\n",
            "Epoch 17/30\n",
            "1719/1719 [==============================] - 4s 3ms/step - loss: 0.0607 - accuracy: 0.9838 - val_loss: 0.0831 - val_accuracy: 0.9752\n",
            "Epoch 18/30\n",
            "1719/1719 [==============================] - 4s 3ms/step - loss: 0.0568 - accuracy: 0.9848 - val_loss: 0.0798 - val_accuracy: 0.9766\n",
            "Epoch 19/30\n",
            "1719/1719 [==============================] - 4s 3ms/step - loss: 0.0531 - accuracy: 0.9858 - val_loss: 0.0792 - val_accuracy: 0.9780\n",
            "Epoch 20/30\n",
            "1719/1719 [==============================] - 4s 2ms/step - loss: 0.0499 - accuracy: 0.9868 - val_loss: 0.0764 - val_accuracy: 0.9772\n",
            "Epoch 21/30\n",
            "1719/1719 [==============================] - 4s 3ms/step - loss: 0.0470 - accuracy: 0.9877 - val_loss: 0.0744 - val_accuracy: 0.9774\n",
            "Epoch 22/30\n",
            "1719/1719 [==============================] - 4s 2ms/step - loss: 0.0439 - accuracy: 0.9887 - val_loss: 0.0742 - val_accuracy: 0.9776\n",
            "Epoch 23/30\n",
            "1719/1719 [==============================] - 4s 3ms/step - loss: 0.0412 - accuracy: 0.9897 - val_loss: 0.0742 - val_accuracy: 0.9786\n",
            "Epoch 24/30\n",
            "1719/1719 [==============================] - 4s 2ms/step - loss: 0.0388 - accuracy: 0.9906 - val_loss: 0.0726 - val_accuracy: 0.9774\n",
            "Epoch 25/30\n",
            "1719/1719 [==============================] - 4s 3ms/step - loss: 0.0365 - accuracy: 0.9911 - val_loss: 0.0718 - val_accuracy: 0.9782\n",
            "Epoch 26/30\n",
            "1719/1719 [==============================] - 4s 3ms/step - loss: 0.0342 - accuracy: 0.9913 - val_loss: 0.0708 - val_accuracy: 0.9786\n",
            "Epoch 27/30\n",
            "1719/1719 [==============================] - 4s 3ms/step - loss: 0.0323 - accuracy: 0.9923 - val_loss: 0.0707 - val_accuracy: 0.9792\n",
            "Epoch 28/30\n",
            "1719/1719 [==============================] - 4s 3ms/step - loss: 0.0305 - accuracy: 0.9929 - val_loss: 0.0708 - val_accuracy: 0.9788\n",
            "Epoch 29/30\n",
            "1719/1719 [==============================] - 4s 3ms/step - loss: 0.0285 - accuracy: 0.9937 - val_loss: 0.0746 - val_accuracy: 0.9776\n",
            "Epoch 30/30\n",
            "1719/1719 [==============================] - 4s 3ms/step - loss: 0.0272 - accuracy: 0.9940 - val_loss: 0.0691 - val_accuracy: 0.9796\n"
          ]
        }
      ]
    },
    {
      "cell_type": "markdown",
      "source": [
        "In above output, 1719 is no. of batches.\n",
        "\n",
        "no. of batch = total points / no. of points in one batch\n",
        "\n",
        "total point in x_train = 55000<br>\n",
        "batch size = 32\n"
      ],
      "metadata": {
        "id": "POzOuKh9T7b2"
      }
    },
    {
      "cell_type": "code",
      "source": [
        "print(\"no. of batches = \", 55000/32)"
      ],
      "metadata": {
        "colab": {
          "base_uri": "https://localhost:8080/"
        },
        "id": "fQ3wH54vx_jo",
        "outputId": "a499e6f1-9d73-42f0-f44e-cecf96c8ac5d"
      },
      "execution_count": 24,
      "outputs": [
        {
          "output_type": "stream",
          "name": "stdout",
          "text": [
            "no. of batches =  1718.75\n"
          ]
        }
      ]
    },
    {
      "cell_type": "code",
      "source": [
        "model.evaluate(X_test, y_test)"
      ],
      "metadata": {
        "colab": {
          "base_uri": "https://localhost:8080/"
        },
        "id": "51Bu7WJbUXeu",
        "outputId": "6dd7d436-d4e3-4f9d-eb3d-b0e0927314ce"
      },
      "execution_count": 25,
      "outputs": [
        {
          "output_type": "stream",
          "name": "stdout",
          "text": [
            "313/313 [==============================] - 1s 2ms/step - loss: 0.0664 - accuracy: 0.9801\n"
          ]
        },
        {
          "output_type": "execute_result",
          "data": {
            "text/plain": [
              "[0.06638985872268677, 0.9800999760627747]"
            ]
          },
          "metadata": {},
          "execution_count": 25
        }
      ]
    },
    {
      "cell_type": "markdown",
      "source": [
        "# Saving model"
      ],
      "metadata": {
        "id": "TJblNkohUqG9"
      }
    },
    {
      "cell_type": "code",
      "source": [
        "model.save(\"model.h5\")"
      ],
      "metadata": {
        "id": "l9vzvXeLUme8"
      },
      "execution_count": null,
      "outputs": []
    },
    {
      "cell_type": "markdown",
      "source": [
        ".h5 is extension to save keras model"
      ],
      "metadata": {
        "id": "ks0vDL7MU0wb"
      }
    },
    {
      "cell_type": "code",
      "source": [
        "pd.DataFrame(history.history).plot(figsize=(8,5))\n",
        "plt.grid(True)\n",
        "plt.gca().set_ylim(0, 1)\n",
        "plt.show()"
      ],
      "metadata": {
        "id": "985hpOOpUxVo",
        "colab": {
          "base_uri": "https://localhost:8080/",
          "height": 324
        },
        "outputId": "fb22e5c8-bbb3-4de3-a591-73a47e0f470b"
      },
      "execution_count": 26,
      "outputs": [
        {
          "output_type": "display_data",
          "data": {
            "text/plain": [
              "<Figure size 576x360 with 1 Axes>"
            ],
            "image/png": "[encoded data removed]"
          },
          "metadata": {
            "needs_background": "light"
          }
        }
      ]
    },
    {
      "cell_type": "code",
      "source": [
        "plt.plot(history.history[\"loss\"])\n",
        "plt.plot(history.history[\"val_loss\"])"
      ],
      "metadata": {
        "colab": {
          "base_uri": "https://localhost:8080/",
          "height": 283
        },
        "id": "hDks-PoRZM-4",
        "outputId": "626a5193-f225-4946-f569-51b72cff1597"
      },
      "execution_count": 27,
      "outputs": [
        {
          "output_type": "execute_result",
          "data": {
            "text/plain": [
              "[<matplotlib.lines.Line2D at 0x7f5b8e2764d0>]"
            ]
          },
          "metadata": {},
          "execution_count": 27
        },
        {
          "output_type": "display_data",
          "data": {
            "text/plain": [
              "<Figure size 432x288 with 1 Axes>"
            ],
            "image/png": "[encoded data removed]"
          },
          "metadata": {
            "needs_background": "light"
          }
        }
      ]
    },
    {
      "cell_type": "code",
      "source": [
        "X_new = X_test[:3]\n",
        "y_new = y_test[:3]\n",
        "y_prob = model.predict(X_new)\n",
        "y_prob"
      ],
      "metadata": {
        "colab": {
          "base_uri": "https://localhost:8080/"
        },
        "id": "b7tu9bzCZtva",
        "outputId": "00ba1567-629c-48be-9850-76349ccec11d"
      },
      "execution_count": 28,
      "outputs": [
        {
          "output_type": "execute_result",
          "data": {
            "text/plain": [
              "array([[4.00947692e-06, 4.75503441e-07, 7.05445200e-05, 8.76068196e-04,\n",
              "        8.01610867e-09, 8.96002291e-07, 4.09706514e-12, 9.98953938e-01,\n",
              "        1.13683391e-05, 8.26232208e-05],\n",
              "       [1.15212956e-07, 1.06906136e-05, 9.99854684e-01, 1.21410754e-04,\n",
              "        7.86639471e-13, 3.54017357e-06, 5.14721705e-07, 9.62857745e-12,\n",
              "        8.93970537e-06, 2.00659433e-12],\n",
              "       [1.95041557e-05, 9.97098327e-01, 5.99950727e-04, 1.41861863e-04,\n",
              "        2.92962563e-04, 1.57021670e-04, 8.41012879e-05, 8.44867551e-04,\n",
              "        7.30546366e-04, 3.08950803e-05]], dtype=float32)"
            ]
          },
          "metadata": {},
          "execution_count": 28
        }
      ]
    },
    {
      "cell_type": "code",
      "source": [
        "y_prob.round(2)"
      ],
      "metadata": {
        "colab": {
          "base_uri": "https://localhost:8080/"
        },
        "id": "vHXth7wDZ6B8",
        "outputId": "da92cb4e-4df0-4825-97ee-83600717cfef"
      },
      "execution_count": 29,
      "outputs": [
        {
          "output_type": "execute_result",
          "data": {
            "text/plain": [
              "array([[0., 0., 0., 0., 0., 0., 0., 1., 0., 0.],\n",
              "       [0., 0., 1., 0., 0., 0., 0., 0., 0., 0.],\n",
              "       [0., 1., 0., 0., 0., 0., 0., 0., 0., 0.]], dtype=float32)"
            ]
          },
          "metadata": {},
          "execution_count": 29
        }
      ]
    },
    {
      "cell_type": "markdown",
      "source": [
        "argmax gives index of highest argument"
      ],
      "metadata": {
        "id": "fZ6hA7gbafRc"
      }
    },
    {
      "cell_type": "code",
      "source": [
        "y_pred = np.argmax(y_prob, axis=-1)\n",
        "y_pred, y_new"
      ],
      "metadata": {
        "colab": {
          "base_uri": "https://localhost:8080/"
        },
        "id": "fwOVDDBgaLQP",
        "outputId": "b4a60f2d-4e7a-4927-c73e-15da7bf37ad5"
      },
      "execution_count": 30,
      "outputs": [
        {
          "output_type": "execute_result",
          "data": {
            "text/plain": [
              "(array([7, 2, 1]), array([7, 2, 1], dtype=uint8))"
            ]
          },
          "metadata": {},
          "execution_count": 30
        }
      ]
    },
    {
      "cell_type": "code",
      "source": [
        "for data, pred, actual in zip(X_new, y_pred, y_new):\n",
        "    plt.imshow(data, cmap=\"binary\")\n",
        "    plt.title(f\"Predicted: {pred}, Actual: {actual}\")\n",
        "    plt.axis(\"off\")\n",
        "    plt.show()\n",
        "    print(\"---\"*20)"
      ],
      "metadata": {
        "colab": {
          "base_uri": "https://localhost:8080/",
          "height": 810
        },
        "id": "urBTpdvaaaU1",
        "outputId": "2f871bd8-3e80-45ee-8e5a-9cb45e444742"
      },
      "execution_count": 31,
      "outputs": [
        {
          "output_type": "display_data",
          "data": {
            "text/plain": [
              "<Figure size 432x288 with 1 Axes>"
            ],
            "image/png": "[encoded data removed]"
          },
          "metadata": {
            "needs_background": "light"
          }
        },
        {
          "output_type": "stream",
          "name": "stdout",
          "text": [
            "------------------------------------------------------------\n"
          ]
        },
        {
          "output_type": "display_data",
          "data": {
            "text/plain": [
              "<Figure size 432x288 with 1 Axes>"
            ],
            "image/png": "[encoded data removed]"
          },
          "metadata": {
            "needs_background": "light"
          }
        },
        {
          "output_type": "stream",
          "name": "stdout",
          "text": [
            "------------------------------------------------------------\n"
          ]
        },
        {
          "output_type": "display_data",
          "data": {
            "text/plain": [
              "<Figure size 432x288 with 1 Axes>"
            ],
            "image/png": "[encoded data removed]"
          },
          "metadata": {
            "needs_background": "light"
          }
        },
        {
          "output_type": "stream",
          "name": "stdout",
          "text": [
            "------------------------------------------------------------\n"
          ]
        }
      ]
    },
    {
      "cell_type": "code",
      "source": [
        ""
      ],
      "metadata": {
        "id": "bnTDgnwzbUrb"
      },
      "execution_count": null,
      "outputs": []
    }
  ]
}