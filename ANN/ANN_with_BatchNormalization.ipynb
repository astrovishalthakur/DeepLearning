{
  "nbformat": 4,
  "nbformat_minor": 0,
  "metadata": {
    "colab": {
      "name": "ANN_with_BatchNormalization.ipynb",
      "provenance": [],
      "collapsed_sections": [],
      "mount_file_id": "1sd1NBSXJ5IHoI8alDtBufX5mwkWfxfZR",
      "authorship_tag": "ABX9TyORaTsSxL03cLLppmGusY2U",
      "include_colab_link": true
    },
    "kernelspec": {
      "name": "python3",
      "display_name": "Python 3"
    },
    "language_info": {
      "name": "python"
    },
    "accelerator": "GPU"
  },
  "cells": [
    {
      "cell_type": "markdown",
      "metadata": {
        "id": "view-in-github",
        "colab_type": "text"
      },
      "source": [
        "<a href=\"https://colab.research.google.com/github/astrovishalthakur/DeepLearning/blob/main/ANN/ANN_with_BatchNormalization.ipynb\" target=\"_parent\"><img src=\"https://colab.research.google.com/assets/colab-badge.svg\" alt=\"Open In Colab\"/></a>"
      ]
    },
    {
      "cell_type": "code",
      "execution_count": 1,
      "metadata": {
        "id": "grC5rmpOXcPQ"
      },
      "outputs": [],
      "source": [
        "import tensorflow as tf"
      ]
    },
    {
      "cell_type": "code",
      "source": [
        "tf.__version__"
      ],
      "metadata": {
        "colab": {
          "base_uri": "https://localhost:8080/",
          "height": 35
        },
        "id": "eVokJ0zub1tq",
        "outputId": "a5833068-e88d-4d46-d9b8-a168a55b6745"
      },
      "execution_count": 2,
      "outputs": [
        {
          "output_type": "execute_result",
          "data": {
            "text/plain": [
              "'2.8.0'"
            ],
            "application/vnd.google.colaboratory.intrinsic+json": {
              "type": "string"
            }
          },
          "metadata": {},
          "execution_count": 2
        }
      ]
    },
    {
      "cell_type": "code",
      "source": [
        "tf.keras.__version__"
      ],
      "metadata": {
        "colab": {
          "base_uri": "https://localhost:8080/",
          "height": 35
        },
        "id": "IxiyCQvqb5jO",
        "outputId": "9bbb6ea6-06e7-4c0f-8d16-c80ebe7ed5f9"
      },
      "execution_count": 3,
      "outputs": [
        {
          "output_type": "execute_result",
          "data": {
            "text/plain": [
              "'2.8.0'"
            ],
            "application/vnd.google.colaboratory.intrinsic+json": {
              "type": "string"
            }
          },
          "metadata": {},
          "execution_count": 3
        }
      ]
    },
    {
      "cell_type": "markdown",
      "source": [
        "##### To see if <b>GPU</b> is available or not"
      ],
      "metadata": {
        "id": "VnwtMqBScI9H"
      }
    },
    {
      "cell_type": "code",
      "source": [
        "tf.config.list_physical_devices(\"GPU\")"
      ],
      "metadata": {
        "colab": {
          "base_uri": "https://localhost:8080/"
        },
        "id": "Z5UO0W4Zb_Lr",
        "outputId": "d68a985e-1196-4765-f5cc-7c3992c83337"
      },
      "execution_count": 4,
      "outputs": [
        {
          "output_type": "execute_result",
          "data": {
            "text/plain": [
              "[PhysicalDevice(name='/physical_device:GPU:0', device_type='GPU')]"
            ]
          },
          "metadata": {},
          "execution_count": 4
        }
      ]
    },
    {
      "cell_type": "markdown",
      "source": [
        "## A Simple classifier using keras's Sequential API"
      ],
      "metadata": {
        "id": "KOrXXqSucdwC"
      }
    },
    {
      "cell_type": "markdown",
      "source": [
        "### Dataset MNIST\n",
        "\n",
        "1. Its dataset of handwritten digits\n",
        "2. each data point is 2d array of 28x28 size\n",
        "3. it has 10 classes 0-9\n",
        "4. aka hello world of tf"
      ],
      "metadata": {
        "id": "UHkTZ0Jrclgy"
      }
    },
    {
      "cell_type": "code",
      "source": [
        "import numpy as np\n",
        "import matplotlib.pyplot as plt\n",
        "import pandas as pd\n",
        "import tensorflow as tf"
      ],
      "metadata": {
        "id": "864z7NpVcEH4"
      },
      "execution_count": 5,
      "outputs": []
    },
    {
      "cell_type": "code",
      "source": [
        "# import os\n",
        "# ROOT = \"/content/drive/MyDrive/Ineuron_ANN_Keras_MNIST\"\n",
        "# os.chdir(ROOT)"
      ],
      "metadata": {
        "id": "mjhuIokOXOB1"
      },
      "execution_count": 6,
      "outputs": []
    },
    {
      "cell_type": "code",
      "source": [
        "# os.listdir()"
      ],
      "metadata": {
        "id": "jJJXePDNYU8i"
      },
      "execution_count": 7,
      "outputs": []
    },
    {
      "cell_type": "code",
      "source": [
        "f_mnist = tf.keras.datasets.fashion_mnist\n",
        "(X_train, y_train), (X_test, y_test) = f_mnist.load_data()"
      ],
      "metadata": {
        "colab": {
          "base_uri": "https://localhost:8080/"
        },
        "id": "PGVQFhEbccf_",
        "outputId": "cdeb5c69-9974-42b1-de54-b222319a80ec"
      },
      "execution_count": 8,
      "outputs": [
        {
          "output_type": "stream",
          "name": "stdout",
          "text": [
            "Downloading data from https://storage.googleapis.com/tensorflow/tf-keras-datasets/train-labels-idx1-ubyte.gz\n",
            "32768/29515 [=================================] - 0s 0us/step\n",
            "40960/29515 [=========================================] - 0s 0us/step\n",
            "Downloading data from https://storage.googleapis.com/tensorflow/tf-keras-datasets/train-images-idx3-ubyte.gz\n",
            "26427392/26421880 [==============================] - 0s 0us/step\n",
            "26435584/26421880 [==============================] - 0s 0us/step\n",
            "Downloading data from https://storage.googleapis.com/tensorflow/tf-keras-datasets/t10k-labels-idx1-ubyte.gz\n",
            "16384/5148 [===============================================================================================] - 0s 0us/step\n",
            "Downloading data from https://storage.googleapis.com/tensorflow/tf-keras-datasets/t10k-images-idx3-ubyte.gz\n",
            "4423680/4422102 [==============================] - 0s 0us/step\n",
            "4431872/4422102 [==============================] - 0s 0us/step\n"
          ]
        }
      ]
    },
    {
      "cell_type": "markdown",
      "source": [
        "Label-->Description\n",
        "0.\tT-shirt/top\n",
        "1.\tTrouser\n",
        "2.\tPullover\n",
        "3.\tDress\n",
        "4.\tCoat\n",
        "5.\tSandal\n",
        "6.\tShirt\n",
        "7.\tSneaker\n",
        "8.\tBag\n",
        "9.\tAnkle boot"
      ],
      "metadata": {
        "id": "xysvwVjk0Poy"
      }
    },
    {
      "cell_type": "code",
      "source": [
        "X_train.shape, X_train.dtype"
      ],
      "metadata": {
        "colab": {
          "base_uri": "https://localhost:8080/"
        },
        "id": "42KLsjt3dRZI",
        "outputId": "37a1f2ab-7077-40d6-8511-e9c881901a89"
      },
      "execution_count": 9,
      "outputs": [
        {
          "output_type": "execute_result",
          "data": {
            "text/plain": [
              "((60000, 28, 28), dtype('uint8'))"
            ]
          },
          "metadata": {},
          "execution_count": 9
        }
      ]
    },
    {
      "cell_type": "code",
      "source": [
        "X_test.shape, y_test.shape, y_test.dtype"
      ],
      "metadata": {
        "colab": {
          "base_uri": "https://localhost:8080/"
        },
        "id": "xGFefFmodWkL",
        "outputId": "f3590e94-4e24-4c5c-c3a2-9e79b9341c3b"
      },
      "execution_count": 10,
      "outputs": [
        {
          "output_type": "execute_result",
          "data": {
            "text/plain": [
              "((10000, 28, 28), (10000,), dtype('uint8'))"
            ]
          },
          "metadata": {},
          "execution_count": 10
        }
      ]
    },
    {
      "cell_type": "code",
      "source": [
        "X_valid , X_train_ = X_train[: 5000] / 255, X_train[5000:] / 255\n",
        "y_valid, y_train_ = y_train[:5000], y_train[5000:] "
      ],
      "metadata": {
        "id": "QIGTRZFHdfPd"
      },
      "execution_count": 11,
      "outputs": []
    },
    {
      "cell_type": "code",
      "source": [
        "X_test = X_test/255"
      ],
      "metadata": {
        "id": "9b5X4dtseJ9F"
      },
      "execution_count": 12,
      "outputs": []
    },
    {
      "cell_type": "code",
      "source": [
        "plt.imshow(X_train[5000], cmap=\"binary\")\n",
        "plt.axis(\"off\")\n",
        "plt.show()\n",
        "y_train[5000]"
      ],
      "metadata": {
        "colab": {
          "base_uri": "https://localhost:8080/",
          "height": 265
        },
        "id": "oV5l6aOBeYuh",
        "outputId": "01f6438e-eada-4144-82bf-445e14447eb9"
      },
      "execution_count": 13,
      "outputs": [
        {
          "output_type": "display_data",
          "data": {
            "text/plain": [
              "<Figure size 432x288 with 1 Axes>"
            ],
            "image/png": "[encoded data removed]"
          },
          "metadata": {
            "needs_background": "light"
          }
        },
        {
          "output_type": "execute_result",
          "data": {
            "text/plain": [
              "4"
            ]
          },
          "metadata": {},
          "execution_count": 13
        }
      ]
    },
    {
      "cell_type": "code",
      "source": [
        "plt.imshow(X_train_[0], cmap=\"binary\")\n",
        "plt.axis(\"off\")\n",
        "plt.show()\n",
        "y_train_[0]"
      ],
      "metadata": {
        "colab": {
          "base_uri": "https://localhost:8080/",
          "height": 265
        },
        "id": "FPqJ69gPel6y",
        "outputId": "dcbb296a-27ff-4d96-f09e-31592a6034a9"
      },
      "execution_count": 14,
      "outputs": [
        {
          "output_type": "display_data",
          "data": {
            "text/plain": [
              "<Figure size 432x288 with 1 Axes>"
            ],
            "image/png": "[encoded data removed]"
          },
          "metadata": {
            "needs_background": "light"
          }
        },
        {
          "output_type": "execute_result",
          "data": {
            "text/plain": [
              "4"
            ]
          },
          "metadata": {},
          "execution_count": 14
        }
      ]
    },
    {
      "cell_type": "code",
      "source": [
        "import seaborn as sns\n",
        "plt.figure(figsize=(15, 15))\n",
        "sns.heatmap(X_train_[0], annot=True, cmap=\"binary\")"
      ],
      "metadata": {
        "colab": {
          "base_uri": "https://localhost:8080/",
          "height": 885
        },
        "id": "PzHswP_beqZI",
        "outputId": "c5ac7af8-81ae-48bc-d84f-91f7de884424"
      },
      "execution_count": 15,
      "outputs": [
        {
          "output_type": "execute_result",
          "data": {
            "text/plain": [
              "<matplotlib.axes._subplots.AxesSubplot at 0x7f3021fd8810>"
            ]
          },
          "metadata": {},
          "execution_count": 15
        },
        {
          "output_type": "display_data",
          "data": {
            "text/plain": [
              "<Figure size 1080x1080 with 2 Axes>"
            ],
            "image/png": "[encoded data removed]"
          },
          "metadata": {
            "needs_background": "light"
          }
        }
      ]
    },
    {
      "cell_type": "markdown",
      "source": [
        "Sequential layer in keras means every layer is connected to next one, no layer is skipped"
      ],
      "metadata": {
        "id": "u-4iyMZzq2lz"
      }
    },
    {
      "cell_type": "markdown",
      "source": [
        "skipping layer is called skip correction\n"
      ],
      "metadata": {
        "id": "JeyR0SAlrU5k"
      }
    },
    {
      "cell_type": "markdown",
      "source": [
        "Defining list of layers"
      ],
      "metadata": {
        "id": "O5NEGv6erbdi"
      }
    },
    {
      "cell_type": "code",
      "source": [
        "LAYERS = [\n",
        "          tf.keras.layers.Flatten(input_shape=[28, 28], name=\"inputLayer\"),\n",
        "          tf.keras.layers.Dense(300, activation=\"relu\", name=\"hiddenLayer1\"),\n",
        "          tf.keras.layers.Dense(100, activation=\"relu\", name=\"hiddenLayer2\"),\n",
        "          tf.keras.layers.Dense(10, activation=\"softmax\", name=\"output\")\n",
        "]"
      ],
      "metadata": {
        "id": "PnZ577zypcaF"
      },
      "execution_count": 16,
      "outputs": []
    },
    {
      "cell_type": "code",
      "source": [
        "model = tf.keras.models.Sequential(LAYERS)"
      ],
      "metadata": {
        "id": "aj4XrU8mp8YS"
      },
      "execution_count": 17,
      "outputs": []
    },
    {
      "cell_type": "code",
      "source": [
        "model.summary()"
      ],
      "metadata": {
        "colab": {
          "base_uri": "https://localhost:8080/"
        },
        "id": "GuoZbTA9siEr",
        "outputId": "9b407c62-3d0d-412f-b049-43febe441abc"
      },
      "execution_count": 18,
      "outputs": [
        {
          "output_type": "stream",
          "name": "stdout",
          "text": [
            "Model: \"sequential\"\n",
            "_________________________________________________________________\n",
            " Layer (type)                Output Shape              Param #   \n",
            "=================================================================\n",
            " inputLayer (Flatten)        (None, 784)               0         \n",
            "                                                                 \n",
            " hiddenLayer1 (Dense)        (None, 300)               235500    \n",
            "                                                                 \n",
            " hiddenLayer2 (Dense)        (None, 100)               30100     \n",
            "                                                                 \n",
            " output (Dense)              (None, 10)                1010      \n",
            "                                                                 \n",
            "=================================================================\n",
            "Total params: 266,610\n",
            "Trainable params: 266,610\n",
            "Non-trainable params: 0\n",
            "_________________________________________________________________\n"
          ]
        }
      ]
    },
    {
      "cell_type": "markdown",
      "source": [
        "###### How Params are calculated"
      ],
      "metadata": {
        "id": "pGR4xwVntQgu"
      }
    },
    {
      "cell_type": "code",
      "source": [
        "784*300 + 300"
      ],
      "metadata": {
        "colab": {
          "base_uri": "https://localhost:8080/"
        },
        "id": "4EPQNbtOtUHp",
        "outputId": "8c38e1b6-4349-4129-9c9c-6905f526858d"
      },
      "execution_count": 19,
      "outputs": [
        {
          "output_type": "execute_result",
          "data": {
            "text/plain": [
              "235500"
            ]
          },
          "metadata": {},
          "execution_count": 19
        }
      ]
    },
    {
      "cell_type": "code",
      "source": [
        "300*100 + 100"
      ],
      "metadata": {
        "colab": {
          "base_uri": "https://localhost:8080/"
        },
        "id": "eWLfjWZFtYWu",
        "outputId": "71da0ed5-80dc-4653-fdf4-48928622878e"
      },
      "execution_count": 20,
      "outputs": [
        {
          "output_type": "execute_result",
          "data": {
            "text/plain": [
              "30100"
            ]
          },
          "metadata": {},
          "execution_count": 20
        }
      ]
    },
    {
      "cell_type": "code",
      "source": [
        "100*10 + 10"
      ],
      "metadata": {
        "colab": {
          "base_uri": "https://localhost:8080/"
        },
        "id": "l-W7lX20tdcc",
        "outputId": "0bb9e7dd-4cc1-4bf8-ab2f-a092ce99ce0d"
      },
      "execution_count": 21,
      "outputs": [
        {
          "output_type": "execute_result",
          "data": {
            "text/plain": [
              "1010"
            ]
          },
          "metadata": {},
          "execution_count": 21
        }
      ]
    },
    {
      "cell_type": "markdown",
      "source": [
        "##### It's shown that non trainable weights are 0. Its because we haven't frozen any weights. We freeze weights during transfer learning."
      ],
      "metadata": {
        "id": "k6fcRxaYticy"
      }
    },
    {
      "cell_type": "code",
      "source": [
        "model.layers"
      ],
      "metadata": {
        "colab": {
          "base_uri": "https://localhost:8080/"
        },
        "id": "Sro_O_05sk5F",
        "outputId": "0cbce243-22ff-48da-e888-37fe814d9a00"
      },
      "execution_count": 22,
      "outputs": [
        {
          "output_type": "execute_result",
          "data": {
            "text/plain": [
              "[<keras.layers.core.flatten.Flatten at 0x7f30217bfdd0>,\n",
              " <keras.layers.core.dense.Dense at 0x7f30208bf7d0>,\n",
              " <keras.layers.core.dense.Dense at 0x7f3020f4a290>,\n",
              " <keras.layers.core.dense.Dense at 0x7f3020803090>]"
            ]
          },
          "metadata": {},
          "execution_count": 22
        }
      ]
    },
    {
      "cell_type": "code",
      "source": [
        "hidden1 = model.layers[1]\n",
        "model.get_layer(hidden1.name)"
      ],
      "metadata": {
        "colab": {
          "base_uri": "https://localhost:8080/"
        },
        "id": "le7UdjSOsmju",
        "outputId": "5c91562d-171b-4776-ffad-26bc183e01c0"
      },
      "execution_count": 23,
      "outputs": [
        {
          "output_type": "execute_result",
          "data": {
            "text/plain": [
              "<keras.layers.core.dense.Dense at 0x7f30208bf7d0>"
            ]
          },
          "metadata": {},
          "execution_count": 23
        }
      ]
    },
    {
      "cell_type": "markdown",
      "source": [
        "###### Weights and biases"
      ],
      "metadata": {
        "id": "QIIWaArNuOmU"
      }
    },
    {
      "cell_type": "code",
      "source": [
        "hidden1.get_weights()"
      ],
      "metadata": {
        "colab": {
          "base_uri": "https://localhost:8080/"
        },
        "id": "8imuROOQuGKb",
        "outputId": "293f108b-6f05-440f-865a-b450de89abc3"
      },
      "execution_count": 24,
      "outputs": [
        {
          "output_type": "execute_result",
          "data": {
            "text/plain": [
              "[array([[-0.02260934,  0.04242638, -0.06602024, ..., -0.06287984,\n",
              "          0.07090192,  0.0565336 ],\n",
              "        [ 0.0421014 ,  0.04389626,  0.00261211, ..., -0.0169576 ,\n",
              "         -0.01267068,  0.00941166],\n",
              "        [ 0.00738327, -0.07067903,  0.04520135, ..., -0.03216907,\n",
              "          0.06240246,  0.05858389],\n",
              "        ...,\n",
              "        [-0.013988  ,  0.03975924,  0.02703558, ...,  0.04866478,\n",
              "         -0.02402108, -0.04286654],\n",
              "        [-0.03635105,  0.05659504, -0.06679709, ...,  0.06162223,\n",
              "         -0.06065278, -0.0106861 ],\n",
              "        [-0.04704237,  0.05517708,  0.00270041, ...,  0.02079501,\n",
              "          0.03161907, -0.01473404]], dtype=float32),\n",
              " array([0., 0., 0., 0., 0., 0., 0., 0., 0., 0., 0., 0., 0., 0., 0., 0., 0.,\n",
              "        0., 0., 0., 0., 0., 0., 0., 0., 0., 0., 0., 0., 0., 0., 0., 0., 0.,\n",
              "        0., 0., 0., 0., 0., 0., 0., 0., 0., 0., 0., 0., 0., 0., 0., 0., 0.,\n",
              "        0., 0., 0., 0., 0., 0., 0., 0., 0., 0., 0., 0., 0., 0., 0., 0., 0.,\n",
              "        0., 0., 0., 0., 0., 0., 0., 0., 0., 0., 0., 0., 0., 0., 0., 0., 0.,\n",
              "        0., 0., 0., 0., 0., 0., 0., 0., 0., 0., 0., 0., 0., 0., 0., 0., 0.,\n",
              "        0., 0., 0., 0., 0., 0., 0., 0., 0., 0., 0., 0., 0., 0., 0., 0., 0.,\n",
              "        0., 0., 0., 0., 0., 0., 0., 0., 0., 0., 0., 0., 0., 0., 0., 0., 0.,\n",
              "        0., 0., 0., 0., 0., 0., 0., 0., 0., 0., 0., 0., 0., 0., 0., 0., 0.,\n",
              "        0., 0., 0., 0., 0., 0., 0., 0., 0., 0., 0., 0., 0., 0., 0., 0., 0.,\n",
              "        0., 0., 0., 0., 0., 0., 0., 0., 0., 0., 0., 0., 0., 0., 0., 0., 0.,\n",
              "        0., 0., 0., 0., 0., 0., 0., 0., 0., 0., 0., 0., 0., 0., 0., 0., 0.,\n",
              "        0., 0., 0., 0., 0., 0., 0., 0., 0., 0., 0., 0., 0., 0., 0., 0., 0.,\n",
              "        0., 0., 0., 0., 0., 0., 0., 0., 0., 0., 0., 0., 0., 0., 0., 0., 0.,\n",
              "        0., 0., 0., 0., 0., 0., 0., 0., 0., 0., 0., 0., 0., 0., 0., 0., 0.,\n",
              "        0., 0., 0., 0., 0., 0., 0., 0., 0., 0., 0., 0., 0., 0., 0., 0., 0.,\n",
              "        0., 0., 0., 0., 0., 0., 0., 0., 0., 0., 0., 0., 0., 0., 0., 0., 0.,\n",
              "        0., 0., 0., 0., 0., 0., 0., 0., 0., 0., 0.], dtype=float32)]"
            ]
          },
          "metadata": {},
          "execution_count": 24
        }
      ]
    },
    {
      "cell_type": "code",
      "source": [
        "weights, biases = hidden1.get_weights()"
      ],
      "metadata": {
        "id": "9c0efeLJuLRP"
      },
      "execution_count": 25,
      "outputs": []
    },
    {
      "cell_type": "code",
      "source": [
        "weights.shape, biases.shape"
      ],
      "metadata": {
        "colab": {
          "base_uri": "https://localhost:8080/"
        },
        "id": "QHXA9iT1uY3R",
        "outputId": "dd5b29cc-57ae-4647-c22e-421fb1acac17"
      },
      "execution_count": 26,
      "outputs": [
        {
          "output_type": "execute_result",
          "data": {
            "text/plain": [
              "((784, 300), (300,))"
            ]
          },
          "metadata": {},
          "execution_count": 26
        }
      ]
    },
    {
      "cell_type": "markdown",
      "source": [
        "*loss_function(actual, pred) = error*"
      ],
      "metadata": {
        "id": "d5MpbbfUu40i"
      }
    },
    {
      "cell_type": "code",
      "source": [
        "LOSS_FUNCTION = \"sparse_categorical_crossentropy\"\n",
        "OPTIMIZER = \"SGD\"\n",
        "METRICS = [\"accuracy\"]"
      ],
      "metadata": {
        "id": "7n9ZPcKHub5I"
      },
      "execution_count": 27,
      "outputs": []
    },
    {
      "cell_type": "markdown",
      "source": [
        "we are using <b> Sparse categorical cross entropy</b> as loss function.\n",
        "There is another loss function called categorical cross entropy.\n",
        "We are using first one because we don't need to one hot encode our labels which are in the form 0, 1, 2, 3, 4, 5, 6, 7, 8, 9.\n",
        "\n",
        "In <b>categorical cross entropy</b>, we need to one hot encode the labels as well."
      ],
      "metadata": {
        "id": "O0ifiISAxP1A"
      }
    },
    {
      "cell_type": "code",
      "source": [
        "model.compile(loss=LOSS_FUNCTION,\n",
        "              optimizer=OPTIMIZER,\n",
        "              metrics=METRICS)"
      ],
      "metadata": {
        "id": "_Tgr2UPyxPUt"
      },
      "execution_count": 28,
      "outputs": []
    },
    {
      "cell_type": "code",
      "source": [
        "EPOCHS = 5\n",
        "VALIDATION_SET = (X_valid, y_valid)\n",
        "\n",
        "history = model.fit(X_train_, y_train_,\n",
        "                    epochs=EPOCHS,\n",
        "                    validation_data=VALIDATION_SET)"
      ],
      "metadata": {
        "colab": {
          "base_uri": "https://localhost:8080/"
        },
        "id": "LhIjcYOUxd58",
        "outputId": "463fe509-291a-40bd-c173-e8b3962dbaa6"
      },
      "execution_count": 29,
      "outputs": [
        {
          "output_type": "stream",
          "name": "stdout",
          "text": [
            "Epoch 1/5\n",
            "1719/1719 [==============================] - 9s 4ms/step - loss: 0.7038 - accuracy: 0.7684 - val_loss: 0.4918 - val_accuracy: 0.8374\n",
            "Epoch 2/5\n",
            "1719/1719 [==============================] - 6s 3ms/step - loss: 0.4876 - accuracy: 0.8307 - val_loss: 0.4341 - val_accuracy: 0.8538\n",
            "Epoch 3/5\n",
            "1719/1719 [==============================] - 6s 3ms/step - loss: 0.4429 - accuracy: 0.8454 - val_loss: 0.4108 - val_accuracy: 0.8592\n",
            "Epoch 4/5\n",
            "1719/1719 [==============================] - 6s 3ms/step - loss: 0.4162 - accuracy: 0.8533 - val_loss: 0.4092 - val_accuracy: 0.8604\n",
            "Epoch 5/5\n",
            "1719/1719 [==============================] - 6s 3ms/step - loss: 0.3966 - accuracy: 0.8610 - val_loss: 0.4407 - val_accuracy: 0.8508\n"
          ]
        }
      ]
    },
    {
      "cell_type": "markdown",
      "source": [
        "In above output, 1719 is no. of batches.\n",
        "\n",
        "no. of batch = total points / no. of points in one batch\n",
        "\n",
        "total point in x_train = 55000<br>\n",
        "batch size = 32\n"
      ],
      "metadata": {
        "id": "POzOuKh9T7b2"
      }
    },
    {
      "cell_type": "code",
      "source": [
        "print(\"no. of batches = \", 55000/32)"
      ],
      "metadata": {
        "colab": {
          "base_uri": "https://localhost:8080/"
        },
        "id": "fQ3wH54vx_jo",
        "outputId": "d09f7ad5-26f5-4913-e990-45357d743132"
      },
      "execution_count": 30,
      "outputs": [
        {
          "output_type": "stream",
          "name": "stdout",
          "text": [
            "no. of batches =  1718.75\n"
          ]
        }
      ]
    },
    {
      "cell_type": "code",
      "source": [
        "model.evaluate(X_test, y_test)"
      ],
      "metadata": {
        "colab": {
          "base_uri": "https://localhost:8080/"
        },
        "id": "51Bu7WJbUXeu",
        "outputId": "299f1e85-9491-42aa-a086-501653106adf"
      },
      "execution_count": 31,
      "outputs": [
        {
          "output_type": "stream",
          "name": "stdout",
          "text": [
            "313/313 [==============================] - 1s 3ms/step - loss: 0.4833 - accuracy: 0.8299\n"
          ]
        },
        {
          "output_type": "execute_result",
          "data": {
            "text/plain": [
              "[0.48331260681152344, 0.8299000263214111]"
            ]
          },
          "metadata": {},
          "execution_count": 31
        }
      ]
    },
    {
      "cell_type": "markdown",
      "source": [
        "# Saving model"
      ],
      "metadata": {
        "id": "TJblNkohUqG9"
      }
    },
    {
      "cell_type": "code",
      "source": [
        "# model.save(\"model.h5\")"
      ],
      "metadata": {
        "id": "l9vzvXeLUme8"
      },
      "execution_count": 32,
      "outputs": []
    },
    {
      "cell_type": "markdown",
      "source": [
        ".h5 is extension to save keras model"
      ],
      "metadata": {
        "id": "ks0vDL7MU0wb"
      }
    },
    {
      "cell_type": "code",
      "source": [
        "pd.DataFrame(history.history)"
      ],
      "metadata": {
        "colab": {
          "base_uri": "https://localhost:8080/",
          "height": 206
        },
        "id": "RM0JlvNW1peO",
        "outputId": "82899279-10ec-4417-d83f-7ba4cc78f363"
      },
      "execution_count": 33,
      "outputs": [
        {
          "output_type": "execute_result",
          "data": {
            "text/plain": [
              "       loss  accuracy  val_loss  val_accuracy\n",
              "0  0.703763  0.768400  0.491776        0.8374\n",
              "1  0.487619  0.830709  0.434085        0.8538\n",
              "2  0.442854  0.845382  0.410820        0.8592\n",
              "3  0.416166  0.853327  0.409173        0.8604\n",
              "4  0.396640  0.861000  0.440657        0.8508"
            ],
            "text/html": [
              "\n",
              "  <div id=\"df-91a4c765-e0b1-482a-b693-0623dc4cc9ac\">\n",
              "    <div class=\"colab-df-container\">\n",
              "      <div>\n",
              "<style scoped>\n",
              "    .dataframe tbody tr th:only-of-type {\n",
              "        vertical-align: middle;\n",
              "    }\n",
              "\n",
              "    .dataframe tbody tr th {\n",
              "        vertical-align: top;\n",
              "    }\n",
              "\n",
              "    .dataframe thead th {\n",
              "        text-align: right;\n",
              "    }\n",
              "</style>\n",
              "<table border=\"1\" class=\"dataframe\">\n",
              "  <thead>\n",
              "    <tr style=\"text-align: right;\">\n",
              "      <th></th>\n",
              "      <th>loss</th>\n",
              "      <th>accuracy</th>\n",
              "      <th>val_loss</th>\n",
              "      <th>val_accuracy</th>\n",
              "    </tr>\n",
              "  </thead>\n",
              "  <tbody>\n",
              "    <tr>\n",
              "      <th>0</th>\n",
              "      <td>0.703763</td>\n",
              "      <td>0.768400</td>\n",
              "      <td>0.491776</td>\n",
              "      <td>0.8374</td>\n",
              "    </tr>\n",
              "    <tr>\n",
              "      <th>1</th>\n",
              "      <td>0.487619</td>\n",
              "      <td>0.830709</td>\n",
              "      <td>0.434085</td>\n",
              "      <td>0.8538</td>\n",
              "    </tr>\n",
              "    <tr>\n",
              "      <th>2</th>\n",
              "      <td>0.442854</td>\n",
              "      <td>0.845382</td>\n",
              "      <td>0.410820</td>\n",
              "      <td>0.8592</td>\n",
              "    </tr>\n",
              "    <tr>\n",
              "      <th>3</th>\n",
              "      <td>0.416166</td>\n",
              "      <td>0.853327</td>\n",
              "      <td>0.409173</td>\n",
              "      <td>0.8604</td>\n",
              "    </tr>\n",
              "    <tr>\n",
              "      <th>4</th>\n",
              "      <td>0.396640</td>\n",
              "      <td>0.861000</td>\n",
              "      <td>0.440657</td>\n",
              "      <td>0.8508</td>\n",
              "    </tr>\n",
              "  </tbody>\n",
              "</table>\n",
              "</div>\n",
              "      <button class=\"colab-df-convert\" onclick=\"convertToInteractive('df-91a4c765-e0b1-482a-b693-0623dc4cc9ac')\"\n",
              "              title=\"Convert this dataframe to an interactive table.\"\n",
              "              style=\"display:none;\">\n",
              "        \n",
              "  <svg xmlns=\"http://www.w3.org/2000/svg\" height=\"24px\"viewBox=\"0 0 24 24\"\n",
              "       width=\"24px\">\n",
              "    <path d=\"M0 0h24v24H0V0z\" fill=\"none\"/>\n",
              "    <path d=\"M18.56 5.44l.94 2.06.94-2.06 2.06-.94-2.06-.94-.94-2.06-.94 2.06-2.06.94zm-11 1L8.5 8.5l.94-2.06 2.06-.94-2.06-.94L8.5 2.5l-.94 2.06-2.06.94zm10 10l.94 2.06.94-2.06 2.06-.94-2.06-.94-.94-2.06-.94 2.06-2.06.94z\"/><path d=\"M17.41 7.96l-1.37-1.37c-.4-.4-.92-.59-1.43-.59-.52 0-1.04.2-1.43.59L10.3 9.45l-7.72 7.72c-.78.78-.78 2.05 0 2.83L4 21.41c.39.39.9.59 1.41.59.51 0 1.02-.2 1.41-.59l7.78-7.78 2.81-2.81c.8-.78.8-2.07 0-2.86zM5.41 20L4 18.59l7.72-7.72 1.47 1.35L5.41 20z\"/>\n",
              "  </svg>\n",
              "      </button>\n",
              "      \n",
              "  <style>\n",
              "    .colab-df-container {\n",
              "      display:flex;\n",
              "      flex-wrap:wrap;\n",
              "      gap: 12px;\n",
              "    }\n",
              "\n",
              "    .colab-df-convert {\n",
              "      background-color: #E8F0FE;\n",
              "      border: none;\n",
              "      border-radius: 50%;\n",
              "      cursor: pointer;\n",
              "      display: none;\n",
              "      fill: #1967D2;\n",
              "      height: 32px;\n",
              "      padding: 0 0 0 0;\n",
              "      width: 32px;\n",
              "    }\n",
              "\n",
              "    .colab-df-convert:hover {\n",
              "      background-color: #E2EBFA;\n",
              "      box-shadow: 0px 1px 2px rgba(60, 64, 67, 0.3), 0px 1px 3px 1px rgba(60, 64, 67, 0.15);\n",
              "      fill: #174EA6;\n",
              "    }\n",
              "\n",
              "    [theme=dark] .colab-df-convert {\n",
              "      background-color: #3B4455;\n",
              "      fill: #D2E3FC;\n",
              "    }\n",
              "\n",
              "    [theme=dark] .colab-df-convert:hover {\n",
              "      background-color: #434B5C;\n",
              "      box-shadow: 0px 1px 3px 1px rgba(0, 0, 0, 0.15);\n",
              "      filter: drop-shadow(0px 1px 2px rgba(0, 0, 0, 0.3));\n",
              "      fill: #FFFFFF;\n",
              "    }\n",
              "  </style>\n",
              "\n",
              "      <script>\n",
              "        const buttonEl =\n",
              "          document.querySelector('#df-91a4c765-e0b1-482a-b693-0623dc4cc9ac button.colab-df-convert');\n",
              "        buttonEl.style.display =\n",
              "          google.colab.kernel.accessAllowed ? 'block' : 'none';\n",
              "\n",
              "        async function convertToInteractive(key) {\n",
              "          const element = document.querySelector('#df-91a4c765-e0b1-482a-b693-0623dc4cc9ac');\n",
              "          const dataTable =\n",
              "            await google.colab.kernel.invokeFunction('convertToInteractive',\n",
              "                                                     [key], {});\n",
              "          if (!dataTable) return;\n",
              "\n",
              "          const docLinkHtml = 'Like what you see? Visit the ' +\n",
              "            '<a target=\"_blank\" href=https://colab.research.google.com/notebooks/data_table.ipynb>data table notebook</a>'\n",
              "            + ' to learn more about interactive tables.';\n",
              "          element.innerHTML = '';\n",
              "          dataTable['output_type'] = 'display_data';\n",
              "          await google.colab.output.renderOutput(dataTable, element);\n",
              "          const docLink = document.createElement('div');\n",
              "          docLink.innerHTML = docLinkHtml;\n",
              "          element.appendChild(docLink);\n",
              "        }\n",
              "      </script>\n",
              "    </div>\n",
              "  </div>\n",
              "  "
            ]
          },
          "metadata": {},
          "execution_count": 33
        }
      ]
    },
    {
      "cell_type": "code",
      "source": [
        "pd.DataFrame(history.history).plot(figsize=(8,5))\n",
        "plt.grid(True)\n",
        "plt.gca().set_ylim(0, 1)\n",
        "plt.show()"
      ],
      "metadata": {
        "id": "985hpOOpUxVo",
        "colab": {
          "base_uri": "https://localhost:8080/",
          "height": 324
        },
        "outputId": "3a976de9-c43d-481e-b3ae-5153f68590a9"
      },
      "execution_count": 34,
      "outputs": [
        {
          "output_type": "display_data",
          "data": {
            "text/plain": [
              "<Figure size 576x360 with 1 Axes>"
            ],
            "image/png": "[encoded data removed]"
          },
          "metadata": {
            "needs_background": "light"
          }
        }
      ]
    },
    {
      "cell_type": "code",
      "source": [
        "plt.plot(history.history[\"loss\"])\n",
        "plt.plot(history.history[\"val_loss\"])"
      ],
      "metadata": {
        "colab": {
          "base_uri": "https://localhost:8080/",
          "height": 283
        },
        "id": "hDks-PoRZM-4",
        "outputId": "a738303e-76b0-42f7-91a4-891938c445f1"
      },
      "execution_count": 35,
      "outputs": [
        {
          "output_type": "execute_result",
          "data": {
            "text/plain": [
              "[<matplotlib.lines.Line2D at 0x7f30203b5b90>]"
            ]
          },
          "metadata": {},
          "execution_count": 35
        },
        {
          "output_type": "display_data",
          "data": {
            "text/plain": [
              "<Figure size 432x288 with 1 Axes>"
            ],
            "image/png": "[encoded data removed]"
          },
          "metadata": {
            "needs_background": "light"
          }
        }
      ]
    },
    {
      "cell_type": "code",
      "source": [
        "X_new = X_test[:3]\n",
        "y_new = y_test[:3]\n",
        "y_prob = model.predict(X_new)\n",
        "y_prob"
      ],
      "metadata": {
        "colab": {
          "base_uri": "https://localhost:8080/"
        },
        "id": "b7tu9bzCZtva",
        "outputId": "990cf0e6-d4be-4292-8c2d-66243f1d911c"
      },
      "execution_count": 36,
      "outputs": [
        {
          "output_type": "execute_result",
          "data": {
            "text/plain": [
              "array([[3.0870964e-05, 5.7277894e-06, 4.4448210e-05, 4.0747731e-05,\n",
              "        8.3150690e-06, 6.5086223e-02, 1.2013922e-04, 1.4494170e-01,\n",
              "        8.3260881e-03, 7.8139573e-01],\n",
              "       [3.4939429e-05, 5.0281591e-07, 9.9612939e-01, 2.2279133e-05,\n",
              "        1.9493754e-03, 7.2891018e-09, 1.8588826e-03, 1.6684618e-10,\n",
              "        4.5690858e-06, 7.2386155e-09],\n",
              "       [3.0691896e-05, 9.9976152e-01, 2.3549310e-05, 1.5631736e-04,\n",
              "        2.3819561e-05, 3.0262790e-08, 9.4218031e-08, 5.1288833e-07,\n",
              "        3.3485367e-06, 8.4962203e-08]], dtype=float32)"
            ]
          },
          "metadata": {},
          "execution_count": 36
        }
      ]
    },
    {
      "cell_type": "code",
      "source": [
        "y_prob.round(2)"
      ],
      "metadata": {
        "colab": {
          "base_uri": "https://localhost:8080/"
        },
        "id": "vHXth7wDZ6B8",
        "outputId": "44a9fd46-4a66-4f43-f575-db413a97170e"
      },
      "execution_count": 37,
      "outputs": [
        {
          "output_type": "execute_result",
          "data": {
            "text/plain": [
              "array([[0.  , 0.  , 0.  , 0.  , 0.  , 0.07, 0.  , 0.14, 0.01, 0.78],\n",
              "       [0.  , 0.  , 1.  , 0.  , 0.  , 0.  , 0.  , 0.  , 0.  , 0.  ],\n",
              "       [0.  , 1.  , 0.  , 0.  , 0.  , 0.  , 0.  , 0.  , 0.  , 0.  ]],\n",
              "      dtype=float32)"
            ]
          },
          "metadata": {},
          "execution_count": 37
        }
      ]
    },
    {
      "cell_type": "markdown",
      "source": [
        "argmax gives index of highest argument"
      ],
      "metadata": {
        "id": "fZ6hA7gbafRc"
      }
    },
    {
      "cell_type": "code",
      "source": [
        "y_pred = np.argmax(y_prob, axis=-1)\n",
        "y_pred, y_new"
      ],
      "metadata": {
        "colab": {
          "base_uri": "https://localhost:8080/"
        },
        "id": "fwOVDDBgaLQP",
        "outputId": "bb5a760b-5cb0-468a-f27a-f5fa68295c9d"
      },
      "execution_count": 38,
      "outputs": [
        {
          "output_type": "execute_result",
          "data": {
            "text/plain": [
              "(array([9, 2, 1]), array([9, 2, 1], dtype=uint8))"
            ]
          },
          "metadata": {},
          "execution_count": 38
        }
      ]
    },
    {
      "cell_type": "code",
      "source": [
        "for data, pred, actual in zip(X_new, y_pred, y_new):\n",
        "    plt.imshow(data, cmap=\"binary\")\n",
        "    plt.title(f\"Predicted: {pred}, Actual: {actual}\")\n",
        "    plt.axis(\"off\")\n",
        "    plt.show()\n",
        "    print(\"---\"*20)"
      ],
      "metadata": {
        "colab": {
          "base_uri": "https://localhost:8080/",
          "height": 810
        },
        "id": "urBTpdvaaaU1",
        "outputId": "94ec9f17-e98d-4991-e902-628d05fcdd53"
      },
      "execution_count": 39,
      "outputs": [
        {
          "output_type": "display_data",
          "data": {
            "text/plain": [
              "<Figure size 432x288 with 1 Axes>"
            ],
            "image/png": "[encoded data removed]"
          },
          "metadata": {
            "needs_background": "light"
          }
        },
        {
          "output_type": "stream",
          "name": "stdout",
          "text": [
            "------------------------------------------------------------\n"
          ]
        },
        {
          "output_type": "display_data",
          "data": {
            "text/plain": [
              "<Figure size 432x288 with 1 Axes>"
            ],
            "image/png": "[encoded data removed]"
          },
          "metadata": {
            "needs_background": "light"
          }
        },
        {
          "output_type": "stream",
          "name": "stdout",
          "text": [
            "------------------------------------------------------------\n"
          ]
        },
        {
          "output_type": "display_data",
          "data": {
            "text/plain": [
              "<Figure size 432x288 with 1 Axes>"
            ],
            "image/png": "[encoded data removed]"
          },
          "metadata": {
            "needs_background": "light"
          }
        },
        {
          "output_type": "stream",
          "name": "stdout",
          "text": [
            "------------------------------------------------------------\n"
          ]
        }
      ]
    },
    {
      "cell_type": "markdown",
      "source": [
        "# BN Approach One"
      ],
      "metadata": {
        "id": "U-Wzm0dd1yvx"
      }
    },
    {
      "cell_type": "code",
      "source": [
        "del model"
      ],
      "metadata": {
        "id": "5EOmZk0v2FEt"
      },
      "execution_count": 40,
      "outputs": []
    },
    {
      "cell_type": "code",
      "source": [
        "LAYERS_BN_ONE = [\n",
        "          tf.keras.layers.Flatten(input_shape=[28, 28], name=\"inputLayer\"),\n",
        "          tf.keras.layers.BatchNormalization(),\n",
        "          tf.keras.layers.Dense(300, activation=\"relu\", name=\"hiddenLayer1\"),\n",
        "          tf.keras.layers.BatchNormalization(),\n",
        "          tf.keras.layers.Dense(100, activation=\"relu\", name=\"hiddenLayer2\"),\n",
        "          tf.keras.layers.BatchNormalization(),\n",
        "          tf.keras.layers.Dense(10, activation=\"softmax\", name=\"output\")\n",
        "]"
      ],
      "metadata": {
        "id": "bnTDgnwzbUrb"
      },
      "execution_count": 41,
      "outputs": []
    },
    {
      "cell_type": "code",
      "source": [
        "model = tf.keras.models.Sequential(LAYERS_BN_ONE)"
      ],
      "metadata": {
        "id": "N4_6S-Wu19vE"
      },
      "execution_count": 42,
      "outputs": []
    },
    {
      "cell_type": "code",
      "source": [
        "model.layers"
      ],
      "metadata": {
        "colab": {
          "base_uri": "https://localhost:8080/"
        },
        "id": "YShRybZ42bvq",
        "outputId": "cebecd87-a111-483e-c0d1-25cce60a1edb"
      },
      "execution_count": 43,
      "outputs": [
        {
          "output_type": "execute_result",
          "data": {
            "text/plain": [
              "[<keras.layers.core.flatten.Flatten at 0x7f302033fd90>,\n",
              " <keras.layers.normalization.batch_normalization.BatchNormalization at 0x7f30203c22d0>,\n",
              " <keras.layers.core.dense.Dense at 0x7f3020750f10>,\n",
              " <keras.layers.normalization.batch_normalization.BatchNormalization at 0x7f302033f850>,\n",
              " <keras.layers.core.dense.Dense at 0x7f30203613d0>,\n",
              " <keras.layers.normalization.batch_normalization.BatchNormalization at 0x7f302039fe10>,\n",
              " <keras.layers.core.dense.Dense at 0x7f3020242110>]"
            ]
          },
          "metadata": {},
          "execution_count": 43
        }
      ]
    },
    {
      "cell_type": "code",
      "source": [
        "model.summary()"
      ],
      "metadata": {
        "colab": {
          "base_uri": "https://localhost:8080/"
        },
        "id": "IA9uyjCT2djZ",
        "outputId": "c0b81fd9-4db9-40b6-9bfb-537d40feda4e"
      },
      "execution_count": 44,
      "outputs": [
        {
          "output_type": "stream",
          "name": "stdout",
          "text": [
            "Model: \"sequential_1\"\n",
            "_________________________________________________________________\n",
            " Layer (type)                Output Shape              Param #   \n",
            "=================================================================\n",
            " inputLayer (Flatten)        (None, 784)               0         \n",
            "                                                                 \n",
            " batch_normalization (BatchN  (None, 784)              3136      \n",
            " ormalization)                                                   \n",
            "                                                                 \n",
            " hiddenLayer1 (Dense)        (None, 300)               235500    \n",
            "                                                                 \n",
            " batch_normalization_1 (Batc  (None, 300)              1200      \n",
            " hNormalization)                                                 \n",
            "                                                                 \n",
            " hiddenLayer2 (Dense)        (None, 100)               30100     \n",
            "                                                                 \n",
            " batch_normalization_2 (Batc  (None, 100)              400       \n",
            " hNormalization)                                                 \n",
            "                                                                 \n",
            " output (Dense)              (None, 10)                1010      \n",
            "                                                                 \n",
            "=================================================================\n",
            "Total params: 271,346\n",
            "Trainable params: 268,978\n",
            "Non-trainable params: 2,368\n",
            "_________________________________________________________________\n"
          ]
        }
      ]
    },
    {
      "cell_type": "code",
      "source": [
        "784 * 4, 300 * 4, 100 * 4"
      ],
      "metadata": {
        "colab": {
          "base_uri": "https://localhost:8080/"
        },
        "id": "o0_xThpi2gP4",
        "outputId": "ebaa045b-8717-4005-db6a-bf0986296cb0"
      },
      "execution_count": 45,
      "outputs": [
        {
          "output_type": "execute_result",
          "data": {
            "text/plain": [
              "(3136, 1200, 400)"
            ]
          },
          "metadata": {},
          "execution_count": 45
        }
      ]
    },
    {
      "cell_type": "code",
      "source": [
        "parameter_bn = sum((3136, 1200, 400))\n",
        "parameter_bn"
      ],
      "metadata": {
        "colab": {
          "base_uri": "https://localhost:8080/"
        },
        "id": "2qvhGuWd2rw7",
        "outputId": "250593b5-0f11-4496-de64-e0ce52cf9711"
      },
      "execution_count": 46,
      "outputs": [
        {
          "output_type": "execute_result",
          "data": {
            "text/plain": [
              "4736"
            ]
          },
          "metadata": {},
          "execution_count": 46
        }
      ]
    },
    {
      "cell_type": "code",
      "source": [
        "non_trainable = parameter_bn/2\n",
        "non_trainable"
      ],
      "metadata": {
        "colab": {
          "base_uri": "https://localhost:8080/"
        },
        "id": "jO8F8rfi22BE",
        "outputId": "8fe67aed-20be-4f87-bdcd-b03c49213673"
      },
      "execution_count": 47,
      "outputs": [
        {
          "output_type": "execute_result",
          "data": {
            "text/plain": [
              "2368.0"
            ]
          },
          "metadata": {},
          "execution_count": 47
        }
      ]
    },
    {
      "cell_type": "markdown",
      "source": [
        "## It's just like what we studied.\n",
        "\n",
        "### New parameters introduced due to Batch Normalization = $$β, γ, μ, σ$$\n",
        "\n",
        "### out of the 4, only $$β, γ$$ are trainable."
      ],
      "metadata": {
        "id": "sI1dOGik3Mqa"
      }
    },
    {
      "cell_type": "code",
      "source": [
        "LOSS_FUNCTION = \"sparse_categorical_crossentropy\"\n",
        "OPTIMIZER = \"SGD\"\n",
        "METRICS = [\"accuracy\"]"
      ],
      "metadata": {
        "id": "YFIyjlfe3Il-"
      },
      "execution_count": 48,
      "outputs": []
    },
    {
      "cell_type": "code",
      "source": [
        "model.compile(loss=LOSS_FUNCTION,\n",
        "              optimizer=OPTIMIZER,\n",
        "              metrics=METRICS)"
      ],
      "metadata": {
        "id": "1OEx-Xse5FrK"
      },
      "execution_count": 49,
      "outputs": []
    },
    {
      "cell_type": "code",
      "source": [
        "EPOCHS = 5\n",
        "VALIDATION_SET = (X_valid, y_valid)\n",
        "\n",
        "history = model.fit(X_train_, y_train_,\n",
        "                    epochs=EPOCHS,\n",
        "                    validation_data=VALIDATION_SET)"
      ],
      "metadata": {
        "colab": {
          "base_uri": "https://localhost:8080/"
        },
        "id": "YEEXphpy5I5S",
        "outputId": "06d9c7c8-b0d2-4e7b-d5d0-567ae3f08ccd"
      },
      "execution_count": 50,
      "outputs": [
        {
          "output_type": "stream",
          "name": "stdout",
          "text": [
            "Epoch 1/5\n",
            "1719/1719 [==============================] - 11s 5ms/step - loss: 0.5315 - accuracy: 0.8146 - val_loss: 0.3810 - val_accuracy: 0.8678\n",
            "Epoch 2/5\n",
            "1719/1719 [==============================] - 8s 5ms/step - loss: 0.3927 - accuracy: 0.8584 - val_loss: 0.3519 - val_accuracy: 0.8770\n",
            "Epoch 3/5\n",
            "1719/1719 [==============================] - 9s 5ms/step - loss: 0.3508 - accuracy: 0.8738 - val_loss: 0.3289 - val_accuracy: 0.8818\n",
            "Epoch 4/5\n",
            "1719/1719 [==============================] - 8s 5ms/step - loss: 0.3287 - accuracy: 0.8804 - val_loss: 0.3182 - val_accuracy: 0.8830\n",
            "Epoch 5/5\n",
            "1719/1719 [==============================] - 8s 5ms/step - loss: 0.3082 - accuracy: 0.8875 - val_loss: 0.3182 - val_accuracy: 0.8842\n"
          ]
        }
      ]
    },
    {
      "cell_type": "code",
      "source": [
        "model.evaluate(X_test, y_test)"
      ],
      "metadata": {
        "colab": {
          "base_uri": "https://localhost:8080/"
        },
        "id": "gYdPGmh-5L8I",
        "outputId": "9d8bf645-8781-4d27-cfe8-0bacac980b64"
      },
      "execution_count": 51,
      "outputs": [
        {
          "output_type": "stream",
          "name": "stdout",
          "text": [
            "313/313 [==============================] - 1s 3ms/step - loss: 0.3503 - accuracy: 0.8719\n"
          ]
        },
        {
          "output_type": "execute_result",
          "data": {
            "text/plain": [
              "[0.35030674934387207, 0.8719000220298767]"
            ]
          },
          "metadata": {},
          "execution_count": 51
        }
      ]
    },
    {
      "cell_type": "code",
      "source": [
        "pd.DataFrame(history.history)"
      ],
      "metadata": {
        "colab": {
          "base_uri": "https://localhost:8080/",
          "height": 206
        },
        "id": "rT_-M5R65eLC",
        "outputId": "23071a67-5293-4660-fdb6-eea64a430878"
      },
      "execution_count": 52,
      "outputs": [
        {
          "output_type": "execute_result",
          "data": {
            "text/plain": [
              "       loss  accuracy  val_loss  val_accuracy\n",
              "0  0.531451  0.814618  0.380962        0.8678\n",
              "1  0.392691  0.858400  0.351929        0.8770\n",
              "2  0.350810  0.873800  0.328941        0.8818\n",
              "3  0.328698  0.880400  0.318211        0.8830\n",
              "4  0.308165  0.887473  0.318193        0.8842"
            ],
            "text/html": [
              "\n",
              "  <div id=\"df-c9e0114e-24bc-46de-a396-d8b3badebab0\">\n",
              "    <div class=\"colab-df-container\">\n",
              "      <div>\n",
              "<style scoped>\n",
              "    .dataframe tbody tr th:only-of-type {\n",
              "        vertical-align: middle;\n",
              "    }\n",
              "\n",
              "    .dataframe tbody tr th {\n",
              "        vertical-align: top;\n",
              "    }\n",
              "\n",
              "    .dataframe thead th {\n",
              "        text-align: right;\n",
              "    }\n",
              "</style>\n",
              "<table border=\"1\" class=\"dataframe\">\n",
              "  <thead>\n",
              "    <tr style=\"text-align: right;\">\n",
              "      <th></th>\n",
              "      <th>loss</th>\n",
              "      <th>accuracy</th>\n",
              "      <th>val_loss</th>\n",
              "      <th>val_accuracy</th>\n",
              "    </tr>\n",
              "  </thead>\n",
              "  <tbody>\n",
              "    <tr>\n",
              "      <th>0</th>\n",
              "      <td>0.531451</td>\n",
              "      <td>0.814618</td>\n",
              "      <td>0.380962</td>\n",
              "      <td>0.8678</td>\n",
              "    </tr>\n",
              "    <tr>\n",
              "      <th>1</th>\n",
              "      <td>0.392691</td>\n",
              "      <td>0.858400</td>\n",
              "      <td>0.351929</td>\n",
              "      <td>0.8770</td>\n",
              "    </tr>\n",
              "    <tr>\n",
              "      <th>2</th>\n",
              "      <td>0.350810</td>\n",
              "      <td>0.873800</td>\n",
              "      <td>0.328941</td>\n",
              "      <td>0.8818</td>\n",
              "    </tr>\n",
              "    <tr>\n",
              "      <th>3</th>\n",
              "      <td>0.328698</td>\n",
              "      <td>0.880400</td>\n",
              "      <td>0.318211</td>\n",
              "      <td>0.8830</td>\n",
              "    </tr>\n",
              "    <tr>\n",
              "      <th>4</th>\n",
              "      <td>0.308165</td>\n",
              "      <td>0.887473</td>\n",
              "      <td>0.318193</td>\n",
              "      <td>0.8842</td>\n",
              "    </tr>\n",
              "  </tbody>\n",
              "</table>\n",
              "</div>\n",
              "      <button class=\"colab-df-convert\" onclick=\"convertToInteractive('df-c9e0114e-24bc-46de-a396-d8b3badebab0')\"\n",
              "              title=\"Convert this dataframe to an interactive table.\"\n",
              "              style=\"display:none;\">\n",
              "        \n",
              "  <svg xmlns=\"http://www.w3.org/2000/svg\" height=\"24px\"viewBox=\"0 0 24 24\"\n",
              "       width=\"24px\">\n",
              "    <path d=\"M0 0h24v24H0V0z\" fill=\"none\"/>\n",
              "    <path d=\"M18.56 5.44l.94 2.06.94-2.06 2.06-.94-2.06-.94-.94-2.06-.94 2.06-2.06.94zm-11 1L8.5 8.5l.94-2.06 2.06-.94-2.06-.94L8.5 2.5l-.94 2.06-2.06.94zm10 10l.94 2.06.94-2.06 2.06-.94-2.06-.94-.94-2.06-.94 2.06-2.06.94z\"/><path d=\"M17.41 7.96l-1.37-1.37c-.4-.4-.92-.59-1.43-.59-.52 0-1.04.2-1.43.59L10.3 9.45l-7.72 7.72c-.78.78-.78 2.05 0 2.83L4 21.41c.39.39.9.59 1.41.59.51 0 1.02-.2 1.41-.59l7.78-7.78 2.81-2.81c.8-.78.8-2.07 0-2.86zM5.41 20L4 18.59l7.72-7.72 1.47 1.35L5.41 20z\"/>\n",
              "  </svg>\n",
              "      </button>\n",
              "      \n",
              "  <style>\n",
              "    .colab-df-container {\n",
              "      display:flex;\n",
              "      flex-wrap:wrap;\n",
              "      gap: 12px;\n",
              "    }\n",
              "\n",
              "    .colab-df-convert {\n",
              "      background-color: #E8F0FE;\n",
              "      border: none;\n",
              "      border-radius: 50%;\n",
              "      cursor: pointer;\n",
              "      display: none;\n",
              "      fill: #1967D2;\n",
              "      height: 32px;\n",
              "      padding: 0 0 0 0;\n",
              "      width: 32px;\n",
              "    }\n",
              "\n",
              "    .colab-df-convert:hover {\n",
              "      background-color: #E2EBFA;\n",
              "      box-shadow: 0px 1px 2px rgba(60, 64, 67, 0.3), 0px 1px 3px 1px rgba(60, 64, 67, 0.15);\n",
              "      fill: #174EA6;\n",
              "    }\n",
              "\n",
              "    [theme=dark] .colab-df-convert {\n",
              "      background-color: #3B4455;\n",
              "      fill: #D2E3FC;\n",
              "    }\n",
              "\n",
              "    [theme=dark] .colab-df-convert:hover {\n",
              "      background-color: #434B5C;\n",
              "      box-shadow: 0px 1px 3px 1px rgba(0, 0, 0, 0.15);\n",
              "      filter: drop-shadow(0px 1px 2px rgba(0, 0, 0, 0.3));\n",
              "      fill: #FFFFFF;\n",
              "    }\n",
              "  </style>\n",
              "\n",
              "      <script>\n",
              "        const buttonEl =\n",
              "          document.querySelector('#df-c9e0114e-24bc-46de-a396-d8b3badebab0 button.colab-df-convert');\n",
              "        buttonEl.style.display =\n",
              "          google.colab.kernel.accessAllowed ? 'block' : 'none';\n",
              "\n",
              "        async function convertToInteractive(key) {\n",
              "          const element = document.querySelector('#df-c9e0114e-24bc-46de-a396-d8b3badebab0');\n",
              "          const dataTable =\n",
              "            await google.colab.kernel.invokeFunction('convertToInteractive',\n",
              "                                                     [key], {});\n",
              "          if (!dataTable) return;\n",
              "\n",
              "          const docLinkHtml = 'Like what you see? Visit the ' +\n",
              "            '<a target=\"_blank\" href=https://colab.research.google.com/notebooks/data_table.ipynb>data table notebook</a>'\n",
              "            + ' to learn more about interactive tables.';\n",
              "          element.innerHTML = '';\n",
              "          dataTable['output_type'] = 'display_data';\n",
              "          await google.colab.output.renderOutput(dataTable, element);\n",
              "          const docLink = document.createElement('div');\n",
              "          docLink.innerHTML = docLinkHtml;\n",
              "          element.appendChild(docLink);\n",
              "        }\n",
              "      </script>\n",
              "    </div>\n",
              "  </div>\n",
              "  "
            ]
          },
          "metadata": {},
          "execution_count": 52
        }
      ]
    },
    {
      "cell_type": "code",
      "source": [
        "pd.DataFrame(history.history).plot(figsize=(8,5))\n",
        "plt.grid(True)\n",
        "plt.gca().set_ylim(0, 1)\n",
        "plt.title(\"Using Batch Normalization Approach 1\")\n",
        "plt.show()"
      ],
      "metadata": {
        "colab": {
          "base_uri": "https://localhost:8080/",
          "height": 336
        },
        "id": "f36DvQka5g1g",
        "outputId": "42368f70-8bbc-4d81-cfc5-74d7eb362ad8"
      },
      "execution_count": 53,
      "outputs": [
        {
          "output_type": "display_data",
          "data": {
            "text/plain": [
              "<Figure size 576x360 with 1 Axes>"
            ],
            "image/png": "[encoded data removed]"
          },
          "metadata": {
            "needs_background": "light"
          }
        }
      ]
    },
    {
      "cell_type": "code",
      "source": [
        "plt.plot(history.history[\"loss\"], label=\"Loss\")\n",
        "plt.plot(history.history[\"val_loss\"], label=\"Val_Loss\")\n",
        "plt.title(\"BN approach 1\")\n",
        "plt.xlabel(\"Epochs-->\")\n",
        "plt.ylabel(\"Loss-->\")\n",
        "plt.legend()"
      ],
      "metadata": {
        "colab": {
          "base_uri": "https://localhost:8080/",
          "height": 313
        },
        "id": "51iCNEWO5i3e",
        "outputId": "d609e8db-701c-4e15-c6aa-55815bbfb0cd"
      },
      "execution_count": 74,
      "outputs": [
        {
          "output_type": "execute_result",
          "data": {
            "text/plain": [
              "<matplotlib.legend.Legend at 0x7f2fa854ae90>"
            ]
          },
          "metadata": {},
          "execution_count": 74
        },
        {
          "output_type": "display_data",
          "data": {
            "text/plain": [
              "<Figure size 432x288 with 1 Axes>"
            ],
            "image/png": "[encoded data removed]"
          },
          "metadata": {
            "needs_background": "light"
          }
        }
      ]
    },
    {
      "cell_type": "markdown",
      "source": [
        "# Batch Normalization Approach 2"
      ],
      "metadata": {
        "id": "ieuxAkVEKC-8"
      }
    },
    {
      "cell_type": "code",
      "source": [
        "del model"
      ],
      "metadata": {
        "id": "Wxana_1fKbGd"
      },
      "execution_count": 56,
      "outputs": []
    },
    {
      "cell_type": "code",
      "source": [
        "LAYERS_BN_TWO = [\n",
        "          tf.keras.layers.Flatten(input_shape=[28, 28], name=\"inputLayer\"),\n",
        "          tf.keras.layers.BatchNormalization(),\n",
        "          tf.keras.layers.Dense(300, name=\"hiddenLayer1\"),\n",
        "          tf.keras.layers.BatchNormalization(),\n",
        "          tf.keras.layers.Activation(\"relu\"),\n",
        "          tf.keras.layers.Dense(100, name=\"hiddenLayer2\"),\n",
        "          tf.keras.layers.BatchNormalization(),\n",
        "          tf.keras.layers.Activation(\"relu\"),\n",
        "          tf.keras.layers.Dense(10, activation=\"softmax\", name=\"output\")\n",
        "]"
      ],
      "metadata": {
        "id": "ukpzj80z5koN"
      },
      "execution_count": 57,
      "outputs": []
    },
    {
      "cell_type": "code",
      "source": [
        "model = tf.keras.models.Sequential(LAYERS_BN_TWO)"
      ],
      "metadata": {
        "id": "8L6v_pzcL3vz"
      },
      "execution_count": 58,
      "outputs": []
    },
    {
      "cell_type": "code",
      "source": [
        "model.summary()"
      ],
      "metadata": {
        "colab": {
          "base_uri": "https://localhost:8080/"
        },
        "id": "vSLFqYWQMVHz",
        "outputId": "69345965-ecbf-4839-b34b-6ae9bfbd8251"
      },
      "execution_count": 59,
      "outputs": [
        {
          "output_type": "stream",
          "name": "stdout",
          "text": [
            "Model: \"sequential_2\"\n",
            "_________________________________________________________________\n",
            " Layer (type)                Output Shape              Param #   \n",
            "=================================================================\n",
            " inputLayer (Flatten)        (None, 784)               0         \n",
            "                                                                 \n",
            " batch_normalization_3 (Batc  (None, 784)              3136      \n",
            " hNormalization)                                                 \n",
            "                                                                 \n",
            " hiddenLayer1 (Dense)        (None, 300)               235500    \n",
            "                                                                 \n",
            " batch_normalization_4 (Batc  (None, 300)              1200      \n",
            " hNormalization)                                                 \n",
            "                                                                 \n",
            " activation (Activation)     (None, 300)               0         \n",
            "                                                                 \n",
            " hiddenLayer2 (Dense)        (None, 100)               30100     \n",
            "                                                                 \n",
            " batch_normalization_5 (Batc  (None, 100)              400       \n",
            " hNormalization)                                                 \n",
            "                                                                 \n",
            " activation_1 (Activation)   (None, 100)               0         \n",
            "                                                                 \n",
            " output (Dense)              (None, 10)                1010      \n",
            "                                                                 \n",
            "=================================================================\n",
            "Total params: 271,346\n",
            "Trainable params: 268,978\n",
            "Non-trainable params: 2,368\n",
            "_________________________________________________________________\n"
          ]
        }
      ]
    },
    {
      "cell_type": "code",
      "source": [
        "model.layers"
      ],
      "metadata": {
        "colab": {
          "base_uri": "https://localhost:8080/"
        },
        "id": "_c4DcMo_MW_6",
        "outputId": "c3e4fa56-0dc6-447b-9286-279270b49d52"
      },
      "execution_count": 60,
      "outputs": [
        {
          "output_type": "execute_result",
          "data": {
            "text/plain": [
              "[<keras.layers.core.flatten.Flatten at 0x7f2faa678350>,\n",
              " <keras.layers.normalization.batch_normalization.BatchNormalization at 0x7f2faa425610>,\n",
              " <keras.layers.core.dense.Dense at 0x7f2faa428e50>,\n",
              " <keras.layers.normalization.batch_normalization.BatchNormalization at 0x7f2faa503b10>,\n",
              " <keras.layers.core.activation.Activation at 0x7f2faa38dc90>,\n",
              " <keras.layers.core.dense.Dense at 0x7f2faa38dbd0>,\n",
              " <keras.layers.normalization.batch_normalization.BatchNormalization at 0x7f2faa5ca5d0>,\n",
              " <keras.layers.core.activation.Activation at 0x7f2faa428850>,\n",
              " <keras.layers.core.dense.Dense at 0x7f2faa42ac10>]"
            ]
          },
          "metadata": {},
          "execution_count": 60
        }
      ]
    },
    {
      "cell_type": "code",
      "source": [
        "for variable in model.layers[1].variables:\n",
        "    print(variable.name, variable.trainable)"
      ],
      "metadata": {
        "colab": {
          "base_uri": "https://localhost:8080/"
        },
        "id": "esskrpcXMeZj",
        "outputId": "bc0c6320-6970-4062-a252-b6b0c6026eed"
      },
      "execution_count": 62,
      "outputs": [
        {
          "output_type": "stream",
          "name": "stdout",
          "text": [
            "batch_normalization_3/gamma:0 True\n",
            "batch_normalization_3/beta:0 True\n",
            "batch_normalization_3/moving_mean:0 False\n",
            "batch_normalization_3/moving_variance:0 False\n"
          ]
        }
      ]
    },
    {
      "cell_type": "code",
      "source": [
        "LOSS_FUNCTION = \"sparse_categorical_crossentropy\"\n",
        "OPTIMIZER = \"SGD\"\n",
        "METRICS = [\"accuracy\"]"
      ],
      "metadata": {
        "id": "7fXyg0tFMyPc"
      },
      "execution_count": 63,
      "outputs": []
    },
    {
      "cell_type": "code",
      "source": [
        "model.compile(loss=LOSS_FUNCTION,\n",
        "              optimizer=OPTIMIZER,\n",
        "              metrics=METRICS)"
      ],
      "metadata": {
        "id": "JvrQfjPHNLb9"
      },
      "execution_count": 65,
      "outputs": []
    },
    {
      "cell_type": "code",
      "source": [
        "EPOCHS = 5\n",
        "VALIDATION_SET = (X_valid, y_valid)\n",
        "\n",
        "history = model.fit(X_train_, y_train_,\n",
        "                    epochs=EPOCHS,\n",
        "                    validation_data=VALIDATION_SET)"
      ],
      "metadata": {
        "colab": {
          "base_uri": "https://localhost:8080/"
        },
        "id": "lP8irRKNNEp0",
        "outputId": "a2dc7342-0177-4ee3-fa35-4e8801590e3f"
      },
      "execution_count": 66,
      "outputs": [
        {
          "output_type": "stream",
          "name": "stdout",
          "text": [
            "Epoch 1/5\n",
            "1719/1719 [==============================] - 9s 5ms/step - loss: 0.5864 - accuracy: 0.8037 - val_loss: 0.4016 - val_accuracy: 0.8592\n",
            "Epoch 2/5\n",
            "1719/1719 [==============================] - 8s 5ms/step - loss: 0.4142 - accuracy: 0.8552 - val_loss: 0.3650 - val_accuracy: 0.8722\n",
            "Epoch 3/5\n",
            "1719/1719 [==============================] - 9s 5ms/step - loss: 0.3692 - accuracy: 0.8690 - val_loss: 0.3389 - val_accuracy: 0.8806\n",
            "Epoch 4/5\n",
            "1719/1719 [==============================] - 9s 5ms/step - loss: 0.3416 - accuracy: 0.8784 - val_loss: 0.3224 - val_accuracy: 0.8822\n",
            "Epoch 5/5\n",
            "1719/1719 [==============================] - 8s 5ms/step - loss: 0.3201 - accuracy: 0.8855 - val_loss: 0.3278 - val_accuracy: 0.8842\n"
          ]
        }
      ]
    },
    {
      "cell_type": "code",
      "source": [
        "model.evaluate(X_test, y_test)"
      ],
      "metadata": {
        "colab": {
          "base_uri": "https://localhost:8080/"
        },
        "id": "loCqFEoLNJK1",
        "outputId": "05993fba-4fbe-4169-8409-2f248710177f"
      },
      "execution_count": 67,
      "outputs": [
        {
          "output_type": "stream",
          "name": "stdout",
          "text": [
            "313/313 [==============================] - 1s 3ms/step - loss: 0.3572 - accuracy: 0.8727\n"
          ]
        },
        {
          "output_type": "execute_result",
          "data": {
            "text/plain": [
              "[0.35717663168907166, 0.8726999759674072]"
            ]
          },
          "metadata": {},
          "execution_count": 67
        }
      ]
    },
    {
      "cell_type": "code",
      "source": [
        "pd.DataFrame(history.history)"
      ],
      "metadata": {
        "colab": {
          "base_uri": "https://localhost:8080/",
          "height": 206
        },
        "id": "kF0_n1k1Nd9j",
        "outputId": "4879d1c0-e658-40d5-f0a4-48d871596bf1"
      },
      "execution_count": 68,
      "outputs": [
        {
          "output_type": "execute_result",
          "data": {
            "text/plain": [
              "       loss  accuracy  val_loss  val_accuracy\n",
              "0  0.586386  0.803727  0.401587        0.8592\n",
              "1  0.414182  0.855164  0.365008        0.8722\n",
              "2  0.369153  0.869000  0.338916        0.8806\n",
              "3  0.341568  0.878364  0.322429        0.8822\n",
              "4  0.320127  0.885491  0.327756        0.8842"
            ],
            "text/html": [
              "\n",
              "  <div id=\"df-dca0fd5e-5617-4647-a01e-42350823ca30\">\n",
              "    <div class=\"colab-df-container\">\n",
              "      <div>\n",
              "<style scoped>\n",
              "    .dataframe tbody tr th:only-of-type {\n",
              "        vertical-align: middle;\n",
              "    }\n",
              "\n",
              "    .dataframe tbody tr th {\n",
              "        vertical-align: top;\n",
              "    }\n",
              "\n",
              "    .dataframe thead th {\n",
              "        text-align: right;\n",
              "    }\n",
              "</style>\n",
              "<table border=\"1\" class=\"dataframe\">\n",
              "  <thead>\n",
              "    <tr style=\"text-align: right;\">\n",
              "      <th></th>\n",
              "      <th>loss</th>\n",
              "      <th>accuracy</th>\n",
              "      <th>val_loss</th>\n",
              "      <th>val_accuracy</th>\n",
              "    </tr>\n",
              "  </thead>\n",
              "  <tbody>\n",
              "    <tr>\n",
              "      <th>0</th>\n",
              "      <td>0.586386</td>\n",
              "      <td>0.803727</td>\n",
              "      <td>0.401587</td>\n",
              "      <td>0.8592</td>\n",
              "    </tr>\n",
              "    <tr>\n",
              "      <th>1</th>\n",
              "      <td>0.414182</td>\n",
              "      <td>0.855164</td>\n",
              "      <td>0.365008</td>\n",
              "      <td>0.8722</td>\n",
              "    </tr>\n",
              "    <tr>\n",
              "      <th>2</th>\n",
              "      <td>0.369153</td>\n",
              "      <td>0.869000</td>\n",
              "      <td>0.338916</td>\n",
              "      <td>0.8806</td>\n",
              "    </tr>\n",
              "    <tr>\n",
              "      <th>3</th>\n",
              "      <td>0.341568</td>\n",
              "      <td>0.878364</td>\n",
              "      <td>0.322429</td>\n",
              "      <td>0.8822</td>\n",
              "    </tr>\n",
              "    <tr>\n",
              "      <th>4</th>\n",
              "      <td>0.320127</td>\n",
              "      <td>0.885491</td>\n",
              "      <td>0.327756</td>\n",
              "      <td>0.8842</td>\n",
              "    </tr>\n",
              "  </tbody>\n",
              "</table>\n",
              "</div>\n",
              "      <button class=\"colab-df-convert\" onclick=\"convertToInteractive('df-dca0fd5e-5617-4647-a01e-42350823ca30')\"\n",
              "              title=\"Convert this dataframe to an interactive table.\"\n",
              "              style=\"display:none;\">\n",
              "        \n",
              "  <svg xmlns=\"http://www.w3.org/2000/svg\" height=\"24px\"viewBox=\"0 0 24 24\"\n",
              "       width=\"24px\">\n",
              "    <path d=\"M0 0h24v24H0V0z\" fill=\"none\"/>\n",
              "    <path d=\"M18.56 5.44l.94 2.06.94-2.06 2.06-.94-2.06-.94-.94-2.06-.94 2.06-2.06.94zm-11 1L8.5 8.5l.94-2.06 2.06-.94-2.06-.94L8.5 2.5l-.94 2.06-2.06.94zm10 10l.94 2.06.94-2.06 2.06-.94-2.06-.94-.94-2.06-.94 2.06-2.06.94z\"/><path d=\"M17.41 7.96l-1.37-1.37c-.4-.4-.92-.59-1.43-.59-.52 0-1.04.2-1.43.59L10.3 9.45l-7.72 7.72c-.78.78-.78 2.05 0 2.83L4 21.41c.39.39.9.59 1.41.59.51 0 1.02-.2 1.41-.59l7.78-7.78 2.81-2.81c.8-.78.8-2.07 0-2.86zM5.41 20L4 18.59l7.72-7.72 1.47 1.35L5.41 20z\"/>\n",
              "  </svg>\n",
              "      </button>\n",
              "      \n",
              "  <style>\n",
              "    .colab-df-container {\n",
              "      display:flex;\n",
              "      flex-wrap:wrap;\n",
              "      gap: 12px;\n",
              "    }\n",
              "\n",
              "    .colab-df-convert {\n",
              "      background-color: #E8F0FE;\n",
              "      border: none;\n",
              "      border-radius: 50%;\n",
              "      cursor: pointer;\n",
              "      display: none;\n",
              "      fill: #1967D2;\n",
              "      height: 32px;\n",
              "      padding: 0 0 0 0;\n",
              "      width: 32px;\n",
              "    }\n",
              "\n",
              "    .colab-df-convert:hover {\n",
              "      background-color: #E2EBFA;\n",
              "      box-shadow: 0px 1px 2px rgba(60, 64, 67, 0.3), 0px 1px 3px 1px rgba(60, 64, 67, 0.15);\n",
              "      fill: #174EA6;\n",
              "    }\n",
              "\n",
              "    [theme=dark] .colab-df-convert {\n",
              "      background-color: #3B4455;\n",
              "      fill: #D2E3FC;\n",
              "    }\n",
              "\n",
              "    [theme=dark] .colab-df-convert:hover {\n",
              "      background-color: #434B5C;\n",
              "      box-shadow: 0px 1px 3px 1px rgba(0, 0, 0, 0.15);\n",
              "      filter: drop-shadow(0px 1px 2px rgba(0, 0, 0, 0.3));\n",
              "      fill: #FFFFFF;\n",
              "    }\n",
              "  </style>\n",
              "\n",
              "      <script>\n",
              "        const buttonEl =\n",
              "          document.querySelector('#df-dca0fd5e-5617-4647-a01e-42350823ca30 button.colab-df-convert');\n",
              "        buttonEl.style.display =\n",
              "          google.colab.kernel.accessAllowed ? 'block' : 'none';\n",
              "\n",
              "        async function convertToInteractive(key) {\n",
              "          const element = document.querySelector('#df-dca0fd5e-5617-4647-a01e-42350823ca30');\n",
              "          const dataTable =\n",
              "            await google.colab.kernel.invokeFunction('convertToInteractive',\n",
              "                                                     [key], {});\n",
              "          if (!dataTable) return;\n",
              "\n",
              "          const docLinkHtml = 'Like what you see? Visit the ' +\n",
              "            '<a target=\"_blank\" href=https://colab.research.google.com/notebooks/data_table.ipynb>data table notebook</a>'\n",
              "            + ' to learn more about interactive tables.';\n",
              "          element.innerHTML = '';\n",
              "          dataTable['output_type'] = 'display_data';\n",
              "          await google.colab.output.renderOutput(dataTable, element);\n",
              "          const docLink = document.createElement('div');\n",
              "          docLink.innerHTML = docLinkHtml;\n",
              "          element.appendChild(docLink);\n",
              "        }\n",
              "      </script>\n",
              "    </div>\n",
              "  </div>\n",
              "  "
            ]
          },
          "metadata": {},
          "execution_count": 68
        }
      ]
    },
    {
      "cell_type": "code",
      "source": [
        "pd.DataFrame(history.history).plot(figsize=(8,5))\n",
        "plt.grid(True)\n",
        "plt.gca().set_ylim(0, 1)\n",
        "plt.title(\"Using Batch Normalization Approach 1\")\n",
        "plt.show()"
      ],
      "metadata": {
        "colab": {
          "base_uri": "https://localhost:8080/",
          "height": 336
        },
        "id": "kCoLCFP4Nj_j",
        "outputId": "fb3726e6-efe8-458c-b410-6e192fffb880"
      },
      "execution_count": 69,
      "outputs": [
        {
          "output_type": "display_data",
          "data": {
            "text/plain": [
              "<Figure size 576x360 with 1 Axes>"
            ],
            "image/png": "[encoded data removed]"
          },
          "metadata": {
            "needs_background": "light"
          }
        }
      ]
    },
    {
      "cell_type": "code",
      "source": [
        "plt.plot(history.history[\"loss\"], label=\"Loss\")\n",
        "plt.plot(history.history[\"val_loss\"], label=\"Val_Loss\")\n",
        "plt.title(\"BN approach 1\")\n",
        "plt.xlabel(\"Epochs-->\")\n",
        "plt.ylabel(\"Loss -->\")\n",
        "plt.legend()"
      ],
      "metadata": {
        "colab": {
          "base_uri": "https://localhost:8080/",
          "height": 313
        },
        "id": "mi_L-SWVNlBc",
        "outputId": "772b7b1a-7684-423f-c572-a79938b331da"
      },
      "execution_count": 73,
      "outputs": [
        {
          "output_type": "execute_result",
          "data": {
            "text/plain": [
              "<matplotlib.legend.Legend at 0x7f2fa85bd0d0>"
            ]
          },
          "metadata": {},
          "execution_count": 73
        },
        {
          "output_type": "display_data",
          "data": {
            "text/plain": [
              "<Figure size 432x288 with 1 Axes>"
            ],
            "image/png": "[encoded data removed]"
          },
          "metadata": {
            "needs_background": "light"
          }
        }
      ]
    },
    {
      "cell_type": "code",
      "source": [
        ""
      ],
      "metadata": {
        "id": "pBk32zlKNluv"
      },
      "execution_count": null,
      "outputs": []
    }
  ]
}