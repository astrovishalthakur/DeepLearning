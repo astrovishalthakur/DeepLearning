{
  "nbformat": 4,
  "nbformat_minor": 0,
  "metadata": {
    "colab": {
      "name": "07.09_Dropout.ipynb",
      "provenance": [],
      "collapsed_sections": [],
      "include_colab_link": true
    },
    "kernelspec": {
      "name": "python3",
      "display_name": "Python 3"
    },
    "language_info": {
      "name": "python"
    }
  },
  "cells": [
    {
      "cell_type": "markdown",
      "metadata": {
        "id": "view-in-github",
        "colab_type": "text"
      },
      "source": [
        "<a href=\"https://colab.research.google.com/github/astrovishalthakur/DeepLearning/blob/main/ANN/Dropout.ipynb\" target=\"_parent\"><img src=\"https://colab.research.google.com/assets/colab-badge.svg\" alt=\"Open In Colab\"/></a>"
      ]
    },
    {
      "cell_type": "markdown",
      "metadata": {
        "id": "_CBBo-q5-Xr1"
      },
      "source": [
        "## Bernouli Random Variable"
      ]
    },
    {
      "cell_type": "code",
      "metadata": {
        "id": "AYknCZZb4KSj"
      },
      "source": [
        "import tensorflow_probability as tfp\n",
        "import tensorflow as tf\n"
      ],
      "execution_count": null,
      "outputs": []
    },
    {
      "cell_type": "code",
      "metadata": {
        "id": "Rwav4Wrt4Sk0"
      },
      "source": [
        "keeping_prob = 0.7\n",
        "r = tfp.distributions.Bernoulli(probs=keeping_prob, dtype=tf.float32).sample(sample_shape=(10, 1))"
      ],
      "execution_count": null,
      "outputs": []
    },
    {
      "cell_type": "code",
      "metadata": {
        "colab": {
          "base_uri": "https://localhost:8080/"
        },
        "id": "B-XkUthE4fY0",
        "outputId": "e50a650a-b62e-431f-ae9f-d406b4fa4f1a"
      },
      "source": [
        "r"
      ],
      "execution_count": null,
      "outputs": [
        {
          "output_type": "execute_result",
          "data": {
            "text/plain": [
              "<tf.Tensor: shape=(10, 1), dtype=float32, numpy=\n",
              "array([[0.],\n",
              "       [1.],\n",
              "       [1.],\n",
              "       [1.],\n",
              "       [1.],\n",
              "       [0.],\n",
              "       [1.],\n",
              "       [1.],\n",
              "       [1.],\n",
              "       [1.]], dtype=float32)>"
            ]
          },
          "metadata": {},
          "execution_count": 11
        }
      ]
    },
    {
      "cell_type": "code",
      "metadata": {
        "colab": {
          "base_uri": "https://localhost:8080/"
        },
        "id": "y9tpdQQX4j_b",
        "outputId": "f2962f74-13ea-4ef2-d714-30e2ef62a728"
      },
      "source": [
        "y_prev = tf.random.normal((10, 1))\n",
        "y_prev"
      ],
      "execution_count": null,
      "outputs": [
        {
          "output_type": "execute_result",
          "data": {
            "text/plain": [
              "<tf.Tensor: shape=(10, 1), dtype=float32, numpy=\n",
              "array([[-0.30535084],\n",
              "       [-1.2872857 ],\n",
              "       [-0.9808804 ],\n",
              "       [ 0.52876496],\n",
              "       [-1.3633162 ],\n",
              "       [ 0.59784055],\n",
              "       [-1.662759  ],\n",
              "       [ 0.8442763 ],\n",
              "       [ 0.01131978],\n",
              "       [ 1.3368016 ]], dtype=float32)>"
            ]
          },
          "metadata": {},
          "execution_count": 12
        }
      ]
    },
    {
      "cell_type": "code",
      "metadata": {
        "colab": {
          "base_uri": "https://localhost:8080/"
        },
        "id": "NbcWGgf86aLq",
        "outputId": "08ebf05f-1256-42fe-838f-30142ab1446f"
      },
      "source": [
        "y_new = tf.math.multiply(y_prev, r)\n",
        "y_new"
      ],
      "execution_count": null,
      "outputs": [
        {
          "output_type": "execute_result",
          "data": {
            "text/plain": [
              "<tf.Tensor: shape=(10, 1), dtype=float32, numpy=\n",
              "array([[-0.        ],\n",
              "       [-1.2872857 ],\n",
              "       [-0.9808804 ],\n",
              "       [ 0.52876496],\n",
              "       [-1.3633162 ],\n",
              "       [ 0.        ],\n",
              "       [-1.662759  ],\n",
              "       [ 0.8442763 ],\n",
              "       [ 0.01131978],\n",
              "       [ 1.3368016 ]], dtype=float32)>"
            ]
          },
          "metadata": {},
          "execution_count": 13
        }
      ]
    },
    {
      "cell_type": "markdown",
      "metadata": {
        "id": "eivhzI3o-fww"
      },
      "source": [
        "## Use Dropout Layer"
      ]
    },
    {
      "cell_type": "code",
      "metadata": {
        "id": "CEPIgOQ-6iCb"
      },
      "source": [
        "from tensorflow import keras"
      ],
      "execution_count": null,
      "outputs": []
    },
    {
      "cell_type": "code",
      "source": [
        ""
      ],
      "metadata": {
        "id": "3v9MiiAZ3TF8"
      },
      "execution_count": null,
      "outputs": []
    },
    {
      "cell_type": "code",
      "metadata": {
        "id": "HpJCdOL8JVY8"
      },
      "source": [
        "model = keras.models.Sequential([\n",
        "    keras.layers.Flatten(input_shape=[28, 28]),\n",
        "    keras.layers.Dropout(rate=0.5),\n",
        "    keras.layers.Dense(300, activation=\"elu\", kernel_initializer=\"he_normal\"),\n",
        "    keras.layers.Dropout(rate=0.5),\n",
        "    keras.layers.Dense(100, activation=\"elu\", kernel_initializer=\"he_normal\"),\n",
        "    keras.layers.Dropout(rate=0.5),\n",
        "    keras.layers.Dense(10, activation=\"softmax\")\n",
        "])\n",
        "model.compile(loss=\"sparse_categorical_crossentropy\", optimizer=\"nadam\", metrics=[\"accuracy\"])\n",
        "# n_epochs = 2\n",
        "# history = model.fit(X_train_scaled, y_train, epochs=n_epochs,\n",
        "#                     validation_data=(X_valid_scaled, y_valid))"
      ],
      "execution_count": null,
      "outputs": []
    },
    {
      "cell_type": "code",
      "metadata": {
        "colab": {
          "base_uri": "https://localhost:8080/"
        },
        "id": "6FtEAJ3idk2j",
        "outputId": "929ab70b-bcee-4548-81b1-04488b3a2022"
      },
      "source": [
        "model.summary()\n"
      ],
      "execution_count": null,
      "outputs": [
        {
          "output_type": "stream",
          "text": [
            "Model: \"sequential_3\"\n",
            "_________________________________________________________________\n",
            "Layer (type)                 Output Shape              Param #   \n",
            "=================================================================\n",
            "flatten_3 (Flatten)          (None, 784)               0         \n",
            "_________________________________________________________________\n",
            "dropout (Dropout)            (None, 784)               0         \n",
            "_________________________________________________________________\n",
            "dense_10 (Dense)             (None, 300)               235500    \n",
            "_________________________________________________________________\n",
            "dropout_1 (Dropout)          (None, 300)               0         \n",
            "_________________________________________________________________\n",
            "dense_11 (Dense)             (None, 100)               30100     \n",
            "_________________________________________________________________\n",
            "dropout_2 (Dropout)          (None, 100)               0         \n",
            "_________________________________________________________________\n",
            "dense_12 (Dense)             (None, 10)                1010      \n",
            "=================================================================\n",
            "Total params: 266,610\n",
            "Trainable params: 266,610\n",
            "Non-trainable params: 0\n",
            "_________________________________________________________________\n"
          ],
          "name": "stdout"
        }
      ]
    }
  ]
}