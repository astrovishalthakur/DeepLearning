{
  "nbformat": 4,
  "nbformat_minor": 0,
  "metadata": {
    "colab": {
      "name": "KerasDemoCreditCardChurnPredictin.ipynb",
      "provenance": [],
      "authorship_tag": "ABX9TyNFlKD4NIodqi0YqNkoy1RO",
      "include_colab_link": true
    },
    "kernelspec": {
      "name": "python3",
      "display_name": "Python 3"
    },
    "language_info": {
      "name": "python"
    }
  },
  "cells": [
    {
      "cell_type": "markdown",
      "metadata": {
        "id": "view-in-github",
        "colab_type": "text"
      },
      "source": [
        "<a href=\"https://colab.research.google.com/github/astrovishalthakur/DeepLearning/blob/main/Keras/KerasDemoCreditCardChurnPrediction.ipynb\" target=\"_parent\"><img src=\"https://colab.research.google.com/assets/colab-badge.svg\" alt=\"Open In Colab\"/></a>"
      ]
    },
    {
      "cell_type": "code",
      "execution_count": 1,
      "metadata": {
        "colab": {
          "base_uri": "https://localhost:8080/"
        },
        "id": "73NONV8Nep_L",
        "outputId": "c4d87431-7b0c-48bc-d527-9106817dff6d"
      },
      "outputs": [
        {
          "output_type": "stream",
          "name": "stdout",
          "text": [
            "Requirement already satisfied: kaggle in /usr/local/lib/python3.7/dist-packages (1.5.12)\n",
            "Requirement already satisfied: tqdm in /usr/local/lib/python3.7/dist-packages (from kaggle) (4.63.0)\n",
            "Requirement already satisfied: requests in /usr/local/lib/python3.7/dist-packages (from kaggle) (2.23.0)\n",
            "Requirement already satisfied: python-dateutil in /usr/local/lib/python3.7/dist-packages (from kaggle) (2.8.2)\n",
            "Requirement already satisfied: python-slugify in /usr/local/lib/python3.7/dist-packages (from kaggle) (6.1.1)\n",
            "Requirement already satisfied: urllib3 in /usr/local/lib/python3.7/dist-packages (from kaggle) (1.24.3)\n",
            "Requirement already satisfied: six>=1.10 in /usr/local/lib/python3.7/dist-packages (from kaggle) (1.15.0)\n",
            "Requirement already satisfied: certifi in /usr/local/lib/python3.7/dist-packages (from kaggle) (2021.10.8)\n",
            "Requirement already satisfied: text-unidecode>=1.3 in /usr/local/lib/python3.7/dist-packages (from python-slugify->kaggle) (1.3)\n",
            "Requirement already satisfied: idna<3,>=2.5 in /usr/local/lib/python3.7/dist-packages (from requests->kaggle) (2.10)\n",
            "Requirement already satisfied: chardet<4,>=3.0.2 in /usr/local/lib/python3.7/dist-packages (from requests->kaggle) (3.0.4)\n"
          ]
        }
      ],
      "source": [
        "! pip install kaggle"
      ]
    },
    {
      "cell_type": "code",
      "source": [
        "from google.colab import drive\n",
        "drive.mount(\"/content/drive\")"
      ],
      "metadata": {
        "colab": {
          "base_uri": "https://localhost:8080/"
        },
        "id": "VQumVZUae69Z",
        "outputId": "ed132baf-58b8-4cda-f4cd-3465195f7b99"
      },
      "execution_count": 2,
      "outputs": [
        {
          "output_type": "stream",
          "name": "stdout",
          "text": [
            "Mounted at /content/drive\n"
          ]
        }
      ]
    },
    {
      "cell_type": "code",
      "source": [
        "! mkdir ~/.kaggle"
      ],
      "metadata": {
        "id": "9ItH0S6YfEav"
      },
      "execution_count": 3,
      "outputs": []
    },
    {
      "cell_type": "code",
      "source": [
        "# or do from gdrive\n",
        "!cp /content/drive/MyDrive/kaggle/kaggle.json ~/.kaggle/kaggle.json"
      ],
      "metadata": {
        "id": "FgvCM0ouVmRy"
      },
      "execution_count": 4,
      "outputs": []
    },
    {
      "cell_type": "code",
      "source": [
        "! kaggle datasets download -d rjmanoj/credit-card-customer-churn-prediction"
      ],
      "metadata": {
        "colab": {
          "base_uri": "https://localhost:8080/"
        },
        "id": "MoGqAlJkfOOl",
        "outputId": "67dff3ea-5e9c-4e4c-8fed-078cfbb9cedb"
      },
      "execution_count": 5,
      "outputs": [
        {
          "output_type": "stream",
          "name": "stdout",
          "text": [
            "Downloading credit-card-customer-churn-prediction.zip to /content\n",
            "\r  0% 0.00/262k [00:00<?, ?B/s]\n",
            "\r100% 262k/262k [00:00<00:00, 87.5MB/s]\n"
          ]
        }
      ]
    },
    {
      "cell_type": "code",
      "source": [
        "! unzip credit-card-customer-churn-prediction.zip"
      ],
      "metadata": {
        "colab": {
          "base_uri": "https://localhost:8080/"
        },
        "id": "dnLi3FSRfbs1",
        "outputId": "11dabe5b-3370-4c44-97c9-6a2c7b3af299"
      },
      "execution_count": 6,
      "outputs": [
        {
          "output_type": "stream",
          "name": "stdout",
          "text": [
            "Archive:  credit-card-customer-churn-prediction.zip\n",
            "  inflating: Churn_Modelling.csv     \n"
          ]
        }
      ]
    },
    {
      "cell_type": "code",
      "source": [
        "import pandas as pd"
      ],
      "metadata": {
        "id": "K7piKUumfgqY"
      },
      "execution_count": 7,
      "outputs": []
    },
    {
      "cell_type": "code",
      "source": [
        "df = pd.read_csv(\"Churn_Modelling.csv\")"
      ],
      "metadata": {
        "id": "QroUOqSMfjFN"
      },
      "execution_count": 8,
      "outputs": []
    },
    {
      "cell_type": "code",
      "source": [
        "df.head()"
      ],
      "metadata": {
        "colab": {
          "base_uri": "https://localhost:8080/",
          "height": 270
        },
        "id": "aFiTopk9fnXp",
        "outputId": "a1436338-3a4f-4c26-be11-4a631dcf3dcb"
      },
      "execution_count": 9,
      "outputs": [
        {
          "output_type": "execute_result",
          "data": {
            "text/plain": [
              "   RowNumber  CustomerId   Surname  CreditScore Geography  Gender  Age  \\\n",
              "0          1    15634602  Hargrave          619    France  Female   42   \n",
              "1          2    15647311      Hill          608     Spain  Female   41   \n",
              "2          3    15619304      Onio          502    France  Female   42   \n",
              "3          4    15701354      Boni          699    France  Female   39   \n",
              "4          5    15737888  Mitchell          850     Spain  Female   43   \n",
              "\n",
              "   Tenure    Balance  NumOfProducts  HasCrCard  IsActiveMember  \\\n",
              "0       2       0.00              1          1               1   \n",
              "1       1   83807.86              1          0               1   \n",
              "2       8  159660.80              3          1               0   \n",
              "3       1       0.00              2          0               0   \n",
              "4       2  125510.82              1          1               1   \n",
              "\n",
              "   EstimatedSalary  Exited  \n",
              "0        101348.88       1  \n",
              "1        112542.58       0  \n",
              "2        113931.57       1  \n",
              "3         93826.63       0  \n",
              "4         79084.10       0  "
            ],
            "text/html": [
              "\n",
              "  <div id=\"df-f869dc55-0038-4b6f-b45a-a6b57b2af293\">\n",
              "    <div class=\"colab-df-container\">\n",
              "      <div>\n",
              "<style scoped>\n",
              "    .dataframe tbody tr th:only-of-type {\n",
              "        vertical-align: middle;\n",
              "    }\n",
              "\n",
              "    .dataframe tbody tr th {\n",
              "        vertical-align: top;\n",
              "    }\n",
              "\n",
              "    .dataframe thead th {\n",
              "        text-align: right;\n",
              "    }\n",
              "</style>\n",
              "<table border=\"1\" class=\"dataframe\">\n",
              "  <thead>\n",
              "    <tr style=\"text-align: right;\">\n",
              "      <th></th>\n",
              "      <th>RowNumber</th>\n",
              "      <th>CustomerId</th>\n",
              "      <th>Surname</th>\n",
              "      <th>CreditScore</th>\n",
              "      <th>Geography</th>\n",
              "      <th>Gender</th>\n",
              "      <th>Age</th>\n",
              "      <th>Tenure</th>\n",
              "      <th>Balance</th>\n",
              "      <th>NumOfProducts</th>\n",
              "      <th>HasCrCard</th>\n",
              "      <th>IsActiveMember</th>\n",
              "      <th>EstimatedSalary</th>\n",
              "      <th>Exited</th>\n",
              "    </tr>\n",
              "  </thead>\n",
              "  <tbody>\n",
              "    <tr>\n",
              "      <th>0</th>\n",
              "      <td>1</td>\n",
              "      <td>15634602</td>\n",
              "      <td>Hargrave</td>\n",
              "      <td>619</td>\n",
              "      <td>France</td>\n",
              "      <td>Female</td>\n",
              "      <td>42</td>\n",
              "      <td>2</td>\n",
              "      <td>0.00</td>\n",
              "      <td>1</td>\n",
              "      <td>1</td>\n",
              "      <td>1</td>\n",
              "      <td>101348.88</td>\n",
              "      <td>1</td>\n",
              "    </tr>\n",
              "    <tr>\n",
              "      <th>1</th>\n",
              "      <td>2</td>\n",
              "      <td>15647311</td>\n",
              "      <td>Hill</td>\n",
              "      <td>608</td>\n",
              "      <td>Spain</td>\n",
              "      <td>Female</td>\n",
              "      <td>41</td>\n",
              "      <td>1</td>\n",
              "      <td>83807.86</td>\n",
              "      <td>1</td>\n",
              "      <td>0</td>\n",
              "      <td>1</td>\n",
              "      <td>112542.58</td>\n",
              "      <td>0</td>\n",
              "    </tr>\n",
              "    <tr>\n",
              "      <th>2</th>\n",
              "      <td>3</td>\n",
              "      <td>15619304</td>\n",
              "      <td>Onio</td>\n",
              "      <td>502</td>\n",
              "      <td>France</td>\n",
              "      <td>Female</td>\n",
              "      <td>42</td>\n",
              "      <td>8</td>\n",
              "      <td>159660.80</td>\n",
              "      <td>3</td>\n",
              "      <td>1</td>\n",
              "      <td>0</td>\n",
              "      <td>113931.57</td>\n",
              "      <td>1</td>\n",
              "    </tr>\n",
              "    <tr>\n",
              "      <th>3</th>\n",
              "      <td>4</td>\n",
              "      <td>15701354</td>\n",
              "      <td>Boni</td>\n",
              "      <td>699</td>\n",
              "      <td>France</td>\n",
              "      <td>Female</td>\n",
              "      <td>39</td>\n",
              "      <td>1</td>\n",
              "      <td>0.00</td>\n",
              "      <td>2</td>\n",
              "      <td>0</td>\n",
              "      <td>0</td>\n",
              "      <td>93826.63</td>\n",
              "      <td>0</td>\n",
              "    </tr>\n",
              "    <tr>\n",
              "      <th>4</th>\n",
              "      <td>5</td>\n",
              "      <td>15737888</td>\n",
              "      <td>Mitchell</td>\n",
              "      <td>850</td>\n",
              "      <td>Spain</td>\n",
              "      <td>Female</td>\n",
              "      <td>43</td>\n",
              "      <td>2</td>\n",
              "      <td>125510.82</td>\n",
              "      <td>1</td>\n",
              "      <td>1</td>\n",
              "      <td>1</td>\n",
              "      <td>79084.10</td>\n",
              "      <td>0</td>\n",
              "    </tr>\n",
              "  </tbody>\n",
              "</table>\n",
              "</div>\n",
              "      <button class=\"colab-df-convert\" onclick=\"convertToInteractive('df-f869dc55-0038-4b6f-b45a-a6b57b2af293')\"\n",
              "              title=\"Convert this dataframe to an interactive table.\"\n",
              "              style=\"display:none;\">\n",
              "        \n",
              "  <svg xmlns=\"http://www.w3.org/2000/svg\" height=\"24px\"viewBox=\"0 0 24 24\"\n",
              "       width=\"24px\">\n",
              "    <path d=\"M0 0h24v24H0V0z\" fill=\"none\"/>\n",
              "    <path d=\"M18.56 5.44l.94 2.06.94-2.06 2.06-.94-2.06-.94-.94-2.06-.94 2.06-2.06.94zm-11 1L8.5 8.5l.94-2.06 2.06-.94-2.06-.94L8.5 2.5l-.94 2.06-2.06.94zm10 10l.94 2.06.94-2.06 2.06-.94-2.06-.94-.94-2.06-.94 2.06-2.06.94z\"/><path d=\"M17.41 7.96l-1.37-1.37c-.4-.4-.92-.59-1.43-.59-.52 0-1.04.2-1.43.59L10.3 9.45l-7.72 7.72c-.78.78-.78 2.05 0 2.83L4 21.41c.39.39.9.59 1.41.59.51 0 1.02-.2 1.41-.59l7.78-7.78 2.81-2.81c.8-.78.8-2.07 0-2.86zM5.41 20L4 18.59l7.72-7.72 1.47 1.35L5.41 20z\"/>\n",
              "  </svg>\n",
              "      </button>\n",
              "      \n",
              "  <style>\n",
              "    .colab-df-container {\n",
              "      display:flex;\n",
              "      flex-wrap:wrap;\n",
              "      gap: 12px;\n",
              "    }\n",
              "\n",
              "    .colab-df-convert {\n",
              "      background-color: #E8F0FE;\n",
              "      border: none;\n",
              "      border-radius: 50%;\n",
              "      cursor: pointer;\n",
              "      display: none;\n",
              "      fill: #1967D2;\n",
              "      height: 32px;\n",
              "      padding: 0 0 0 0;\n",
              "      width: 32px;\n",
              "    }\n",
              "\n",
              "    .colab-df-convert:hover {\n",
              "      background-color: #E2EBFA;\n",
              "      box-shadow: 0px 1px 2px rgba(60, 64, 67, 0.3), 0px 1px 3px 1px rgba(60, 64, 67, 0.15);\n",
              "      fill: #174EA6;\n",
              "    }\n",
              "\n",
              "    [theme=dark] .colab-df-convert {\n",
              "      background-color: #3B4455;\n",
              "      fill: #D2E3FC;\n",
              "    }\n",
              "\n",
              "    [theme=dark] .colab-df-convert:hover {\n",
              "      background-color: #434B5C;\n",
              "      box-shadow: 0px 1px 3px 1px rgba(0, 0, 0, 0.15);\n",
              "      filter: drop-shadow(0px 1px 2px rgba(0, 0, 0, 0.3));\n",
              "      fill: #FFFFFF;\n",
              "    }\n",
              "  </style>\n",
              "\n",
              "      <script>\n",
              "        const buttonEl =\n",
              "          document.querySelector('#df-f869dc55-0038-4b6f-b45a-a6b57b2af293 button.colab-df-convert');\n",
              "        buttonEl.style.display =\n",
              "          google.colab.kernel.accessAllowed ? 'block' : 'none';\n",
              "\n",
              "        async function convertToInteractive(key) {\n",
              "          const element = document.querySelector('#df-f869dc55-0038-4b6f-b45a-a6b57b2af293');\n",
              "          const dataTable =\n",
              "            await google.colab.kernel.invokeFunction('convertToInteractive',\n",
              "                                                     [key], {});\n",
              "          if (!dataTable) return;\n",
              "\n",
              "          const docLinkHtml = 'Like what you see? Visit the ' +\n",
              "            '<a target=\"_blank\" href=https://colab.research.google.com/notebooks/data_table.ipynb>data table notebook</a>'\n",
              "            + ' to learn more about interactive tables.';\n",
              "          element.innerHTML = '';\n",
              "          dataTable['output_type'] = 'display_data';\n",
              "          await google.colab.output.renderOutput(dataTable, element);\n",
              "          const docLink = document.createElement('div');\n",
              "          docLink.innerHTML = docLinkHtml;\n",
              "          element.appendChild(docLink);\n",
              "        }\n",
              "      </script>\n",
              "    </div>\n",
              "  </div>\n",
              "  "
            ]
          },
          "metadata": {},
          "execution_count": 9
        }
      ]
    },
    {
      "cell_type": "code",
      "source": [
        "df.shape"
      ],
      "metadata": {
        "colab": {
          "base_uri": "https://localhost:8080/"
        },
        "id": "qMd1gPrIfoWS",
        "outputId": "de482100-7813-4f5c-94c3-5dc98a1fe3a3"
      },
      "execution_count": 10,
      "outputs": [
        {
          "output_type": "execute_result",
          "data": {
            "text/plain": [
              "(10000, 14)"
            ]
          },
          "metadata": {},
          "execution_count": 10
        }
      ]
    },
    {
      "cell_type": "code",
      "source": [
        "import numpy as np\n"
      ],
      "metadata": {
        "id": "sXVcSRcgfqUb"
      },
      "execution_count": 11,
      "outputs": []
    },
    {
      "cell_type": "code",
      "source": [
        "df.info()"
      ],
      "metadata": {
        "colab": {
          "base_uri": "https://localhost:8080/"
        },
        "id": "WLBpjUoYf1RI",
        "outputId": "61e69229-a71f-421c-8f78-3722ef5c207b"
      },
      "execution_count": 12,
      "outputs": [
        {
          "output_type": "stream",
          "name": "stdout",
          "text": [
            "<class 'pandas.core.frame.DataFrame'>\n",
            "RangeIndex: 10000 entries, 0 to 9999\n",
            "Data columns (total 14 columns):\n",
            " #   Column           Non-Null Count  Dtype  \n",
            "---  ------           --------------  -----  \n",
            " 0   RowNumber        10000 non-null  int64  \n",
            " 1   CustomerId       10000 non-null  int64  \n",
            " 2   Surname          10000 non-null  object \n",
            " 3   CreditScore      10000 non-null  int64  \n",
            " 4   Geography        10000 non-null  object \n",
            " 5   Gender           10000 non-null  object \n",
            " 6   Age              10000 non-null  int64  \n",
            " 7   Tenure           10000 non-null  int64  \n",
            " 8   Balance          10000 non-null  float64\n",
            " 9   NumOfProducts    10000 non-null  int64  \n",
            " 10  HasCrCard        10000 non-null  int64  \n",
            " 11  IsActiveMember   10000 non-null  int64  \n",
            " 12  EstimatedSalary  10000 non-null  float64\n",
            " 13  Exited           10000 non-null  int64  \n",
            "dtypes: float64(2), int64(9), object(3)\n",
            "memory usage: 1.1+ MB\n"
          ]
        }
      ]
    },
    {
      "cell_type": "code",
      "source": [
        "df.isna().values.any()"
      ],
      "metadata": {
        "colab": {
          "base_uri": "https://localhost:8080/"
        },
        "id": "fxHMpOj7gmGb",
        "outputId": "3afb208c-2ff5-4084-822c-1103a4fceff6"
      },
      "execution_count": 13,
      "outputs": [
        {
          "output_type": "execute_result",
          "data": {
            "text/plain": [
              "False"
            ]
          },
          "metadata": {},
          "execution_count": 13
        }
      ]
    },
    {
      "cell_type": "code",
      "source": [
        "df.duplicated().sum()"
      ],
      "metadata": {
        "colab": {
          "base_uri": "https://localhost:8080/"
        },
        "id": "Mi9voQFzgrNs",
        "outputId": "bcd8c4f0-12c7-4a7e-cdc1-178ec09fb20f"
      },
      "execution_count": 15,
      "outputs": [
        {
          "output_type": "execute_result",
          "data": {
            "text/plain": [
              "0"
            ]
          },
          "metadata": {},
          "execution_count": 15
        }
      ]
    },
    {
      "cell_type": "code",
      "source": [
        "pd.Series([True, False, True, True]).sum()"
      ],
      "metadata": {
        "colab": {
          "base_uri": "https://localhost:8080/"
        },
        "id": "W002lRxkgsVH",
        "outputId": "d693bc00-54eb-4fc1-9b35-eab8a0115746"
      },
      "execution_count": 17,
      "outputs": [
        {
          "output_type": "execute_result",
          "data": {
            "text/plain": [
              "3"
            ]
          },
          "metadata": {},
          "execution_count": 17
        }
      ]
    },
    {
      "cell_type": "code",
      "source": [
        "df.Geography.value_counts()"
      ],
      "metadata": {
        "colab": {
          "base_uri": "https://localhost:8080/"
        },
        "id": "vNRvxWhtg0ro",
        "outputId": "a89d36c9-c550-4ffe-dfb6-f8363947f5b5"
      },
      "execution_count": 18,
      "outputs": [
        {
          "output_type": "execute_result",
          "data": {
            "text/plain": [
              "France     5014\n",
              "Germany    2509\n",
              "Spain      2477\n",
              "Name: Geography, dtype: int64"
            ]
          },
          "metadata": {},
          "execution_count": 18
        }
      ]
    },
    {
      "cell_type": "code",
      "source": [
        "df.Gender.value_counts()"
      ],
      "metadata": {
        "colab": {
          "base_uri": "https://localhost:8080/"
        },
        "id": "irawPVeBhBTj",
        "outputId": "c6f07af6-946f-46d9-f456-0f43061770ba"
      },
      "execution_count": 19,
      "outputs": [
        {
          "output_type": "execute_result",
          "data": {
            "text/plain": [
              "Male      5457\n",
              "Female    4543\n",
              "Name: Gender, dtype: int64"
            ]
          },
          "metadata": {},
          "execution_count": 19
        }
      ]
    },
    {
      "cell_type": "code",
      "source": [
        "df.drop(columns=[\"RowNumber\", \"CustomerId\", \"Surname\"], inplace=True)"
      ],
      "metadata": {
        "id": "JyFMfv1FhGxX"
      },
      "execution_count": 21,
      "outputs": []
    },
    {
      "cell_type": "code",
      "source": [
        "df.head()"
      ],
      "metadata": {
        "colab": {
          "base_uri": "https://localhost:8080/",
          "height": 206
        },
        "id": "3SV54fUNhRX9",
        "outputId": "646923da-0b76-4e69-fba4-91f24ac1c502"
      },
      "execution_count": 23,
      "outputs": [
        {
          "output_type": "execute_result",
          "data": {
            "text/plain": [
              "   CreditScore Geography  Gender  Age  Tenure    Balance  NumOfProducts  \\\n",
              "0          619    France  Female   42       2       0.00              1   \n",
              "1          608     Spain  Female   41       1   83807.86              1   \n",
              "2          502    France  Female   42       8  159660.80              3   \n",
              "3          699    France  Female   39       1       0.00              2   \n",
              "4          850     Spain  Female   43       2  125510.82              1   \n",
              "\n",
              "   HasCrCard  IsActiveMember  EstimatedSalary  Exited  \n",
              "0          1               1        101348.88       1  \n",
              "1          0               1        112542.58       0  \n",
              "2          1               0        113931.57       1  \n",
              "3          0               0         93826.63       0  \n",
              "4          1               1         79084.10       0  "
            ],
            "text/html": [
              "\n",
              "  <div id=\"df-9a183f77-8ed7-47b2-a57b-baefe81fa966\">\n",
              "    <div class=\"colab-df-container\">\n",
              "      <div>\n",
              "<style scoped>\n",
              "    .dataframe tbody tr th:only-of-type {\n",
              "        vertical-align: middle;\n",
              "    }\n",
              "\n",
              "    .dataframe tbody tr th {\n",
              "        vertical-align: top;\n",
              "    }\n",
              "\n",
              "    .dataframe thead th {\n",
              "        text-align: right;\n",
              "    }\n",
              "</style>\n",
              "<table border=\"1\" class=\"dataframe\">\n",
              "  <thead>\n",
              "    <tr style=\"text-align: right;\">\n",
              "      <th></th>\n",
              "      <th>CreditScore</th>\n",
              "      <th>Geography</th>\n",
              "      <th>Gender</th>\n",
              "      <th>Age</th>\n",
              "      <th>Tenure</th>\n",
              "      <th>Balance</th>\n",
              "      <th>NumOfProducts</th>\n",
              "      <th>HasCrCard</th>\n",
              "      <th>IsActiveMember</th>\n",
              "      <th>EstimatedSalary</th>\n",
              "      <th>Exited</th>\n",
              "    </tr>\n",
              "  </thead>\n",
              "  <tbody>\n",
              "    <tr>\n",
              "      <th>0</th>\n",
              "      <td>619</td>\n",
              "      <td>France</td>\n",
              "      <td>Female</td>\n",
              "      <td>42</td>\n",
              "      <td>2</td>\n",
              "      <td>0.00</td>\n",
              "      <td>1</td>\n",
              "      <td>1</td>\n",
              "      <td>1</td>\n",
              "      <td>101348.88</td>\n",
              "      <td>1</td>\n",
              "    </tr>\n",
              "    <tr>\n",
              "      <th>1</th>\n",
              "      <td>608</td>\n",
              "      <td>Spain</td>\n",
              "      <td>Female</td>\n",
              "      <td>41</td>\n",
              "      <td>1</td>\n",
              "      <td>83807.86</td>\n",
              "      <td>1</td>\n",
              "      <td>0</td>\n",
              "      <td>1</td>\n",
              "      <td>112542.58</td>\n",
              "      <td>0</td>\n",
              "    </tr>\n",
              "    <tr>\n",
              "      <th>2</th>\n",
              "      <td>502</td>\n",
              "      <td>France</td>\n",
              "      <td>Female</td>\n",
              "      <td>42</td>\n",
              "      <td>8</td>\n",
              "      <td>159660.80</td>\n",
              "      <td>3</td>\n",
              "      <td>1</td>\n",
              "      <td>0</td>\n",
              "      <td>113931.57</td>\n",
              "      <td>1</td>\n",
              "    </tr>\n",
              "    <tr>\n",
              "      <th>3</th>\n",
              "      <td>699</td>\n",
              "      <td>France</td>\n",
              "      <td>Female</td>\n",
              "      <td>39</td>\n",
              "      <td>1</td>\n",
              "      <td>0.00</td>\n",
              "      <td>2</td>\n",
              "      <td>0</td>\n",
              "      <td>0</td>\n",
              "      <td>93826.63</td>\n",
              "      <td>0</td>\n",
              "    </tr>\n",
              "    <tr>\n",
              "      <th>4</th>\n",
              "      <td>850</td>\n",
              "      <td>Spain</td>\n",
              "      <td>Female</td>\n",
              "      <td>43</td>\n",
              "      <td>2</td>\n",
              "      <td>125510.82</td>\n",
              "      <td>1</td>\n",
              "      <td>1</td>\n",
              "      <td>1</td>\n",
              "      <td>79084.10</td>\n",
              "      <td>0</td>\n",
              "    </tr>\n",
              "  </tbody>\n",
              "</table>\n",
              "</div>\n",
              "      <button class=\"colab-df-convert\" onclick=\"convertToInteractive('df-9a183f77-8ed7-47b2-a57b-baefe81fa966')\"\n",
              "              title=\"Convert this dataframe to an interactive table.\"\n",
              "              style=\"display:none;\">\n",
              "        \n",
              "  <svg xmlns=\"http://www.w3.org/2000/svg\" height=\"24px\"viewBox=\"0 0 24 24\"\n",
              "       width=\"24px\">\n",
              "    <path d=\"M0 0h24v24H0V0z\" fill=\"none\"/>\n",
              "    <path d=\"M18.56 5.44l.94 2.06.94-2.06 2.06-.94-2.06-.94-.94-2.06-.94 2.06-2.06.94zm-11 1L8.5 8.5l.94-2.06 2.06-.94-2.06-.94L8.5 2.5l-.94 2.06-2.06.94zm10 10l.94 2.06.94-2.06 2.06-.94-2.06-.94-.94-2.06-.94 2.06-2.06.94z\"/><path d=\"M17.41 7.96l-1.37-1.37c-.4-.4-.92-.59-1.43-.59-.52 0-1.04.2-1.43.59L10.3 9.45l-7.72 7.72c-.78.78-.78 2.05 0 2.83L4 21.41c.39.39.9.59 1.41.59.51 0 1.02-.2 1.41-.59l7.78-7.78 2.81-2.81c.8-.78.8-2.07 0-2.86zM5.41 20L4 18.59l7.72-7.72 1.47 1.35L5.41 20z\"/>\n",
              "  </svg>\n",
              "      </button>\n",
              "      \n",
              "  <style>\n",
              "    .colab-df-container {\n",
              "      display:flex;\n",
              "      flex-wrap:wrap;\n",
              "      gap: 12px;\n",
              "    }\n",
              "\n",
              "    .colab-df-convert {\n",
              "      background-color: #E8F0FE;\n",
              "      border: none;\n",
              "      border-radius: 50%;\n",
              "      cursor: pointer;\n",
              "      display: none;\n",
              "      fill: #1967D2;\n",
              "      height: 32px;\n",
              "      padding: 0 0 0 0;\n",
              "      width: 32px;\n",
              "    }\n",
              "\n",
              "    .colab-df-convert:hover {\n",
              "      background-color: #E2EBFA;\n",
              "      box-shadow: 0px 1px 2px rgba(60, 64, 67, 0.3), 0px 1px 3px 1px rgba(60, 64, 67, 0.15);\n",
              "      fill: #174EA6;\n",
              "    }\n",
              "\n",
              "    [theme=dark] .colab-df-convert {\n",
              "      background-color: #3B4455;\n",
              "      fill: #D2E3FC;\n",
              "    }\n",
              "\n",
              "    [theme=dark] .colab-df-convert:hover {\n",
              "      background-color: #434B5C;\n",
              "      box-shadow: 0px 1px 3px 1px rgba(0, 0, 0, 0.15);\n",
              "      filter: drop-shadow(0px 1px 2px rgba(0, 0, 0, 0.3));\n",
              "      fill: #FFFFFF;\n",
              "    }\n",
              "  </style>\n",
              "\n",
              "      <script>\n",
              "        const buttonEl =\n",
              "          document.querySelector('#df-9a183f77-8ed7-47b2-a57b-baefe81fa966 button.colab-df-convert');\n",
              "        buttonEl.style.display =\n",
              "          google.colab.kernel.accessAllowed ? 'block' : 'none';\n",
              "\n",
              "        async function convertToInteractive(key) {\n",
              "          const element = document.querySelector('#df-9a183f77-8ed7-47b2-a57b-baefe81fa966');\n",
              "          const dataTable =\n",
              "            await google.colab.kernel.invokeFunction('convertToInteractive',\n",
              "                                                     [key], {});\n",
              "          if (!dataTable) return;\n",
              "\n",
              "          const docLinkHtml = 'Like what you see? Visit the ' +\n",
              "            '<a target=\"_blank\" href=https://colab.research.google.com/notebooks/data_table.ipynb>data table notebook</a>'\n",
              "            + ' to learn more about interactive tables.';\n",
              "          element.innerHTML = '';\n",
              "          dataTable['output_type'] = 'display_data';\n",
              "          await google.colab.output.renderOutput(dataTable, element);\n",
              "          const docLink = document.createElement('div');\n",
              "          docLink.innerHTML = docLinkHtml;\n",
              "          element.appendChild(docLink);\n",
              "        }\n",
              "      </script>\n",
              "    </div>\n",
              "  </div>\n",
              "  "
            ]
          },
          "metadata": {},
          "execution_count": 23
        }
      ]
    },
    {
      "cell_type": "markdown",
      "source": [
        "# Nominal Encoding"
      ],
      "metadata": {
        "id": "UAbCqqfuhyZX"
      }
    },
    {
      "cell_type": "code",
      "source": [
        "df = pd.get_dummies(df, columns=[\"Geography\", \"Gender\"], drop_first=True)"
      ],
      "metadata": {
        "id": "lEDVuLm6hUZ1"
      },
      "execution_count": 25,
      "outputs": []
    },
    {
      "cell_type": "code",
      "source": [
        "df.head()"
      ],
      "metadata": {
        "colab": {
          "base_uri": "https://localhost:8080/",
          "height": 270
        },
        "id": "DY7XM-2qhoF7",
        "outputId": "7f572efb-c0fe-4fd7-dd16-ebedcf3d1053"
      },
      "execution_count": 26,
      "outputs": [
        {
          "output_type": "execute_result",
          "data": {
            "text/plain": [
              "   CreditScore  Age  Tenure    Balance  NumOfProducts  HasCrCard  \\\n",
              "0          619   42       2       0.00              1          1   \n",
              "1          608   41       1   83807.86              1          0   \n",
              "2          502   42       8  159660.80              3          1   \n",
              "3          699   39       1       0.00              2          0   \n",
              "4          850   43       2  125510.82              1          1   \n",
              "\n",
              "   IsActiveMember  EstimatedSalary  Exited  Geography_Germany  \\\n",
              "0               1        101348.88       1                  0   \n",
              "1               1        112542.58       0                  0   \n",
              "2               0        113931.57       1                  0   \n",
              "3               0         93826.63       0                  0   \n",
              "4               1         79084.10       0                  0   \n",
              "\n",
              "   Geography_Spain  Gender_Male  \n",
              "0                0            0  \n",
              "1                1            0  \n",
              "2                0            0  \n",
              "3                0            0  \n",
              "4                1            0  "
            ],
            "text/html": [
              "\n",
              "  <div id=\"df-c1e79840-338e-4e83-95d0-62578b8a98f8\">\n",
              "    <div class=\"colab-df-container\">\n",
              "      <div>\n",
              "<style scoped>\n",
              "    .dataframe tbody tr th:only-of-type {\n",
              "        vertical-align: middle;\n",
              "    }\n",
              "\n",
              "    .dataframe tbody tr th {\n",
              "        vertical-align: top;\n",
              "    }\n",
              "\n",
              "    .dataframe thead th {\n",
              "        text-align: right;\n",
              "    }\n",
              "</style>\n",
              "<table border=\"1\" class=\"dataframe\">\n",
              "  <thead>\n",
              "    <tr style=\"text-align: right;\">\n",
              "      <th></th>\n",
              "      <th>CreditScore</th>\n",
              "      <th>Age</th>\n",
              "      <th>Tenure</th>\n",
              "      <th>Balance</th>\n",
              "      <th>NumOfProducts</th>\n",
              "      <th>HasCrCard</th>\n",
              "      <th>IsActiveMember</th>\n",
              "      <th>EstimatedSalary</th>\n",
              "      <th>Exited</th>\n",
              "      <th>Geography_Germany</th>\n",
              "      <th>Geography_Spain</th>\n",
              "      <th>Gender_Male</th>\n",
              "    </tr>\n",
              "  </thead>\n",
              "  <tbody>\n",
              "    <tr>\n",
              "      <th>0</th>\n",
              "      <td>619</td>\n",
              "      <td>42</td>\n",
              "      <td>2</td>\n",
              "      <td>0.00</td>\n",
              "      <td>1</td>\n",
              "      <td>1</td>\n",
              "      <td>1</td>\n",
              "      <td>101348.88</td>\n",
              "      <td>1</td>\n",
              "      <td>0</td>\n",
              "      <td>0</td>\n",
              "      <td>0</td>\n",
              "    </tr>\n",
              "    <tr>\n",
              "      <th>1</th>\n",
              "      <td>608</td>\n",
              "      <td>41</td>\n",
              "      <td>1</td>\n",
              "      <td>83807.86</td>\n",
              "      <td>1</td>\n",
              "      <td>0</td>\n",
              "      <td>1</td>\n",
              "      <td>112542.58</td>\n",
              "      <td>0</td>\n",
              "      <td>0</td>\n",
              "      <td>1</td>\n",
              "      <td>0</td>\n",
              "    </tr>\n",
              "    <tr>\n",
              "      <th>2</th>\n",
              "      <td>502</td>\n",
              "      <td>42</td>\n",
              "      <td>8</td>\n",
              "      <td>159660.80</td>\n",
              "      <td>3</td>\n",
              "      <td>1</td>\n",
              "      <td>0</td>\n",
              "      <td>113931.57</td>\n",
              "      <td>1</td>\n",
              "      <td>0</td>\n",
              "      <td>0</td>\n",
              "      <td>0</td>\n",
              "    </tr>\n",
              "    <tr>\n",
              "      <th>3</th>\n",
              "      <td>699</td>\n",
              "      <td>39</td>\n",
              "      <td>1</td>\n",
              "      <td>0.00</td>\n",
              "      <td>2</td>\n",
              "      <td>0</td>\n",
              "      <td>0</td>\n",
              "      <td>93826.63</td>\n",
              "      <td>0</td>\n",
              "      <td>0</td>\n",
              "      <td>0</td>\n",
              "      <td>0</td>\n",
              "    </tr>\n",
              "    <tr>\n",
              "      <th>4</th>\n",
              "      <td>850</td>\n",
              "      <td>43</td>\n",
              "      <td>2</td>\n",
              "      <td>125510.82</td>\n",
              "      <td>1</td>\n",
              "      <td>1</td>\n",
              "      <td>1</td>\n",
              "      <td>79084.10</td>\n",
              "      <td>0</td>\n",
              "      <td>0</td>\n",
              "      <td>1</td>\n",
              "      <td>0</td>\n",
              "    </tr>\n",
              "  </tbody>\n",
              "</table>\n",
              "</div>\n",
              "      <button class=\"colab-df-convert\" onclick=\"convertToInteractive('df-c1e79840-338e-4e83-95d0-62578b8a98f8')\"\n",
              "              title=\"Convert this dataframe to an interactive table.\"\n",
              "              style=\"display:none;\">\n",
              "        \n",
              "  <svg xmlns=\"http://www.w3.org/2000/svg\" height=\"24px\"viewBox=\"0 0 24 24\"\n",
              "       width=\"24px\">\n",
              "    <path d=\"M0 0h24v24H0V0z\" fill=\"none\"/>\n",
              "    <path d=\"M18.56 5.44l.94 2.06.94-2.06 2.06-.94-2.06-.94-.94-2.06-.94 2.06-2.06.94zm-11 1L8.5 8.5l.94-2.06 2.06-.94-2.06-.94L8.5 2.5l-.94 2.06-2.06.94zm10 10l.94 2.06.94-2.06 2.06-.94-2.06-.94-.94-2.06-.94 2.06-2.06.94z\"/><path d=\"M17.41 7.96l-1.37-1.37c-.4-.4-.92-.59-1.43-.59-.52 0-1.04.2-1.43.59L10.3 9.45l-7.72 7.72c-.78.78-.78 2.05 0 2.83L4 21.41c.39.39.9.59 1.41.59.51 0 1.02-.2 1.41-.59l7.78-7.78 2.81-2.81c.8-.78.8-2.07 0-2.86zM5.41 20L4 18.59l7.72-7.72 1.47 1.35L5.41 20z\"/>\n",
              "  </svg>\n",
              "      </button>\n",
              "      \n",
              "  <style>\n",
              "    .colab-df-container {\n",
              "      display:flex;\n",
              "      flex-wrap:wrap;\n",
              "      gap: 12px;\n",
              "    }\n",
              "\n",
              "    .colab-df-convert {\n",
              "      background-color: #E8F0FE;\n",
              "      border: none;\n",
              "      border-radius: 50%;\n",
              "      cursor: pointer;\n",
              "      display: none;\n",
              "      fill: #1967D2;\n",
              "      height: 32px;\n",
              "      padding: 0 0 0 0;\n",
              "      width: 32px;\n",
              "    }\n",
              "\n",
              "    .colab-df-convert:hover {\n",
              "      background-color: #E2EBFA;\n",
              "      box-shadow: 0px 1px 2px rgba(60, 64, 67, 0.3), 0px 1px 3px 1px rgba(60, 64, 67, 0.15);\n",
              "      fill: #174EA6;\n",
              "    }\n",
              "\n",
              "    [theme=dark] .colab-df-convert {\n",
              "      background-color: #3B4455;\n",
              "      fill: #D2E3FC;\n",
              "    }\n",
              "\n",
              "    [theme=dark] .colab-df-convert:hover {\n",
              "      background-color: #434B5C;\n",
              "      box-shadow: 0px 1px 3px 1px rgba(0, 0, 0, 0.15);\n",
              "      filter: drop-shadow(0px 1px 2px rgba(0, 0, 0, 0.3));\n",
              "      fill: #FFFFFF;\n",
              "    }\n",
              "  </style>\n",
              "\n",
              "      <script>\n",
              "        const buttonEl =\n",
              "          document.querySelector('#df-c1e79840-338e-4e83-95d0-62578b8a98f8 button.colab-df-convert');\n",
              "        buttonEl.style.display =\n",
              "          google.colab.kernel.accessAllowed ? 'block' : 'none';\n",
              "\n",
              "        async function convertToInteractive(key) {\n",
              "          const element = document.querySelector('#df-c1e79840-338e-4e83-95d0-62578b8a98f8');\n",
              "          const dataTable =\n",
              "            await google.colab.kernel.invokeFunction('convertToInteractive',\n",
              "                                                     [key], {});\n",
              "          if (!dataTable) return;\n",
              "\n",
              "          const docLinkHtml = 'Like what you see? Visit the ' +\n",
              "            '<a target=\"_blank\" href=https://colab.research.google.com/notebooks/data_table.ipynb>data table notebook</a>'\n",
              "            + ' to learn more about interactive tables.';\n",
              "          element.innerHTML = '';\n",
              "          dataTable['output_type'] = 'display_data';\n",
              "          await google.colab.output.renderOutput(dataTable, element);\n",
              "          const docLink = document.createElement('div');\n",
              "          docLink.innerHTML = docLinkHtml;\n",
              "          element.appendChild(docLink);\n",
              "        }\n",
              "      </script>\n",
              "    </div>\n",
              "  </div>\n",
              "  "
            ]
          },
          "metadata": {},
          "execution_count": 26
        }
      ]
    },
    {
      "cell_type": "markdown",
      "source": [
        "# Scaling the values"
      ],
      "metadata": {
        "id": "m9Ai19sTh1v1"
      }
    },
    {
      "cell_type": "code",
      "source": [
        "X = df.drop(columns=[\"Exited\"])\n",
        "y = df[\"Exited\"]"
      ],
      "metadata": {
        "id": "YYl1C-J3iIlo"
      },
      "execution_count": 27,
      "outputs": []
    },
    {
      "cell_type": "code",
      "source": [
        "from sklearn.model_selection import train_test_split\n",
        "X_train, X_test, y_train, y_test = train_test_split(X, y, test_size=0.2, random_state=1)"
      ],
      "metadata": {
        "id": "3F3DrrErhuhv"
      },
      "execution_count": 28,
      "outputs": []
    },
    {
      "cell_type": "code",
      "source": [
        "X_train.shape"
      ],
      "metadata": {
        "colab": {
          "base_uri": "https://localhost:8080/"
        },
        "id": "26n2Ak0eiP-y",
        "outputId": "4df3fb5a-3b86-4ecc-bf3c-42bccf3f7ebe"
      },
      "execution_count": 29,
      "outputs": [
        {
          "output_type": "execute_result",
          "data": {
            "text/plain": [
              "(8000, 11)"
            ]
          },
          "metadata": {},
          "execution_count": 29
        }
      ]
    },
    {
      "cell_type": "code",
      "source": [
        "X_test.shape"
      ],
      "metadata": {
        "colab": {
          "base_uri": "https://localhost:8080/"
        },
        "id": "o8wAVDPXiRRF",
        "outputId": "fe20d433-f932-4a80-96d4-0ce056d7924f"
      },
      "execution_count": 30,
      "outputs": [
        {
          "output_type": "execute_result",
          "data": {
            "text/plain": [
              "(2000, 11)"
            ]
          },
          "metadata": {},
          "execution_count": 30
        }
      ]
    },
    {
      "cell_type": "code",
      "source": [
        "from sklearn.preprocessing import StandardScaler\n",
        "\n",
        "scaler = StandardScaler()"
      ],
      "metadata": {
        "id": "rIEnKhWIiSZq"
      },
      "execution_count": 31,
      "outputs": []
    },
    {
      "cell_type": "code",
      "source": [
        "X_train_scaled = scaler.fit_transform(X_train)\n",
        "X_test_scaled = scaler.transform(X_test)"
      ],
      "metadata": {
        "id": "PaIP0aBZiZlA"
      },
      "execution_count": 32,
      "outputs": []
    },
    {
      "cell_type": "code",
      "source": [
        "X_train_scaled"
      ],
      "metadata": {
        "colab": {
          "base_uri": "https://localhost:8080/"
        },
        "id": "8aCt8H6dilUG",
        "outputId": "696ed76c-9ea9-4005-9323-4059a3bbe6e9"
      },
      "execution_count": 33,
      "outputs": [
        {
          "output_type": "execute_result",
          "data": {
            "text/plain": [
              "array([[-0.23082038, -0.94449979, -0.70174202, ...,  1.71490137,\n",
              "        -0.57273139,  0.91509065],\n",
              "       [-0.25150912, -0.94449979, -0.35520275, ..., -0.58312392,\n",
              "        -0.57273139, -1.09278791],\n",
              "       [-0.3963303 ,  0.77498705,  0.33787579, ...,  1.71490137,\n",
              "        -0.57273139, -1.09278791],\n",
              "       ...,\n",
              "       [ 0.22433188,  0.58393295,  1.3774936 , ..., -0.58312392,\n",
              "        -0.57273139, -1.09278791],\n",
              "       [ 0.13123255,  0.01077067,  1.03095433, ..., -0.58312392,\n",
              "        -0.57273139, -1.09278791],\n",
              "       [ 1.1656695 ,  0.29735181,  0.33787579, ...,  1.71490137,\n",
              "        -0.57273139,  0.91509065]])"
            ]
          },
          "metadata": {},
          "execution_count": 33
        }
      ]
    },
    {
      "cell_type": "code",
      "source": [
        "! pip install tensorflow"
      ],
      "metadata": {
        "id": "3k0PvINNjCd-"
      },
      "execution_count": null,
      "outputs": []
    },
    {
      "cell_type": "code",
      "source": [
        "import tensorflow\n",
        "from tensorflow import keras\n",
        "from tensorflow.keras import Sequential\n",
        "from tensorflow.keras.layers import Dense"
      ],
      "metadata": {
        "id": "MybfVxt9inJG"
      },
      "execution_count": 36,
      "outputs": []
    },
    {
      "cell_type": "code",
      "source": [
        "model = Sequential()"
      ],
      "metadata": {
        "id": "pNyMa4wpi8Tt"
      },
      "execution_count": 58,
      "outputs": []
    },
    {
      "cell_type": "markdown",
      "source": [
        "### Now after creating model, we start to add layers to it."
      ],
      "metadata": {
        "id": "axjpTzBVjL64"
      }
    },
    {
      "cell_type": "code",
      "source": [
        "# adding layers to model via add() function\n",
        "# Dense is used to create dense network of perceptrons\n",
        "# Dense(no.of nodes, activation_function, no.of inputs)\n",
        "\n",
        "# original\n",
        "# model.add(Dense(3, activation=\"sigmoid\", input_dim=11))\n",
        "\n",
        "# optimizations\n",
        "model.add(Dense(11, activation=\"relu\", input_dim=11))\n",
        "model.add(Dense(11, activation=\"relu\"))\n",
        "\n",
        "# adding output layer\n",
        "# Dense(no.of nodes, activationFunction)\n",
        "\n",
        "model.add(Dense(1, activation=\"sigmoid\"))"
      ],
      "metadata": {
        "id": "UwDu5wKsjK7o"
      },
      "execution_count": 59,
      "outputs": []
    },
    {
      "cell_type": "code",
      "source": [
        "model.summary()"
      ],
      "metadata": {
        "colab": {
          "base_uri": "https://localhost:8080/"
        },
        "id": "EbXiBFm0j6eg",
        "outputId": "a0ff4020-f46e-44b4-de7c-06ee72d17f17"
      },
      "execution_count": 60,
      "outputs": [
        {
          "output_type": "stream",
          "name": "stdout",
          "text": [
            "Model: \"sequential_2\"\n",
            "_________________________________________________________________\n",
            " Layer (type)                Output Shape              Param #   \n",
            "=================================================================\n",
            " dense_8 (Dense)             (None, 11)                132       \n",
            "                                                                 \n",
            " dense_9 (Dense)             (None, 11)                132       \n",
            "                                                                 \n",
            " dense_10 (Dense)            (None, 1)                 12        \n",
            "                                                                 \n",
            "=================================================================\n",
            "Total params: 276\n",
            "Trainable params: 276\n",
            "Non-trainable params: 0\n",
            "_________________________________________________________________\n"
          ]
        }
      ]
    },
    {
      "cell_type": "markdown",
      "source": [
        "## This is how model looks"
      ],
      "metadata": {
        "id": "I60Vvk9UpUSL"
      }
    },
    {
      "cell_type": "markdown",
      "source": [
        "<a href=\"https://ibb.co/TgHvw5s\"><img src=\"https://i.ibb.co/TgHvw5s/11-3-1nn-drawio.png\" alt=\"11-3-1nn-drawio\" border=\"0\" height=\"350\" width=\"400\"></a>"
      ],
      "metadata": {
        "id": "3FCdo2lQqNw6"
      }
    },
    {
      "cell_type": "markdown",
      "source": [
        "Compiling the model"
      ],
      "metadata": {
        "id": "WPwstNvZqlmJ"
      }
    },
    {
      "cell_type": "code",
      "source": [
        "# binary_crossentropy means log loss"
      ],
      "metadata": {
        "id": "hV_T2CTgqudP"
      },
      "execution_count": 61,
      "outputs": []
    },
    {
      "cell_type": "code",
      "source": [
        "model.compile(loss=\"binary_crossentropy\", optimizer=\"Adam\", metrics=[\"accuracy\"])"
      ],
      "metadata": {
        "id": "eDfKzUCCj8fj"
      },
      "execution_count": 62,
      "outputs": []
    },
    {
      "cell_type": "code",
      "source": [
        "history = model.fit(X_train_scaled, y_train, epochs=100, validation_split=0.2)\n",
        "# use of validation split parameter\n",
        "# since in our model compilation, we set metrics = accuracy\n",
        "# now here our model will do prediction on 80% data, and calculate loss and tell accuracy\n",
        "# on remaining 20% data "
      ],
      "metadata": {
        "colab": {
          "base_uri": "https://localhost:8080/"
        },
        "id": "tPG1x4-cqtqg",
        "outputId": "77acf395-dde0-46a3-9b46-47849de0e8f6"
      },
      "execution_count": 72,
      "outputs": [
        {
          "output_type": "stream",
          "name": "stdout",
          "text": [
            "Epoch 1/100\n",
            "200/200 [==============================] - 1s 3ms/step - loss: 0.3232 - accuracy: 0.8652 - val_loss: 0.3488 - val_accuracy: 0.8456\n",
            "Epoch 2/100\n",
            "200/200 [==============================] - 1s 3ms/step - loss: 0.3229 - accuracy: 0.8653 - val_loss: 0.3459 - val_accuracy: 0.8544\n",
            "Epoch 3/100\n",
            "200/200 [==============================] - 1s 3ms/step - loss: 0.3228 - accuracy: 0.8661 - val_loss: 0.3449 - val_accuracy: 0.8537\n",
            "Epoch 4/100\n",
            "200/200 [==============================] - 0s 2ms/step - loss: 0.3222 - accuracy: 0.8648 - val_loss: 0.3470 - val_accuracy: 0.8475\n",
            "Epoch 5/100\n",
            "200/200 [==============================] - 0s 2ms/step - loss: 0.3225 - accuracy: 0.8680 - val_loss: 0.3454 - val_accuracy: 0.8550\n",
            "Epoch 6/100\n",
            "200/200 [==============================] - 0s 2ms/step - loss: 0.3224 - accuracy: 0.8653 - val_loss: 0.3457 - val_accuracy: 0.8494\n",
            "Epoch 7/100\n",
            "200/200 [==============================] - 0s 2ms/step - loss: 0.3229 - accuracy: 0.8645 - val_loss: 0.3463 - val_accuracy: 0.8500\n",
            "Epoch 8/100\n",
            "200/200 [==============================] - 0s 2ms/step - loss: 0.3215 - accuracy: 0.8656 - val_loss: 0.3475 - val_accuracy: 0.8519\n",
            "Epoch 9/100\n",
            "200/200 [==============================] - 1s 3ms/step - loss: 0.3217 - accuracy: 0.8669 - val_loss: 0.3460 - val_accuracy: 0.8525\n",
            "Epoch 10/100\n",
            "200/200 [==============================] - 1s 3ms/step - loss: 0.3218 - accuracy: 0.8655 - val_loss: 0.3465 - val_accuracy: 0.8519\n",
            "Epoch 11/100\n",
            "200/200 [==============================] - 1s 3ms/step - loss: 0.3220 - accuracy: 0.8644 - val_loss: 0.3461 - val_accuracy: 0.8481\n",
            "Epoch 12/100\n",
            "200/200 [==============================] - 1s 3ms/step - loss: 0.3218 - accuracy: 0.8655 - val_loss: 0.3454 - val_accuracy: 0.8525\n",
            "Epoch 13/100\n",
            "200/200 [==============================] - 1s 3ms/step - loss: 0.3224 - accuracy: 0.8659 - val_loss: 0.3478 - val_accuracy: 0.8512\n",
            "Epoch 14/100\n",
            "200/200 [==============================] - 1s 3ms/step - loss: 0.3215 - accuracy: 0.8680 - val_loss: 0.3469 - val_accuracy: 0.8494\n",
            "Epoch 15/100\n",
            "200/200 [==============================] - 1s 3ms/step - loss: 0.3213 - accuracy: 0.8652 - val_loss: 0.3470 - val_accuracy: 0.8525\n",
            "Epoch 16/100\n",
            "200/200 [==============================] - 1s 3ms/step - loss: 0.3209 - accuracy: 0.8645 - val_loss: 0.3478 - val_accuracy: 0.8494\n",
            "Epoch 17/100\n",
            "200/200 [==============================] - 1s 2ms/step - loss: 0.3215 - accuracy: 0.8670 - val_loss: 0.3464 - val_accuracy: 0.8519\n",
            "Epoch 18/100\n",
            "200/200 [==============================] - 0s 2ms/step - loss: 0.3209 - accuracy: 0.8658 - val_loss: 0.3466 - val_accuracy: 0.8519\n",
            "Epoch 19/100\n",
            "200/200 [==============================] - 1s 3ms/step - loss: 0.3204 - accuracy: 0.8647 - val_loss: 0.3476 - val_accuracy: 0.8512\n",
            "Epoch 20/100\n",
            "200/200 [==============================] - 0s 2ms/step - loss: 0.3212 - accuracy: 0.8658 - val_loss: 0.3471 - val_accuracy: 0.8519\n",
            "Epoch 21/100\n",
            "200/200 [==============================] - 1s 3ms/step - loss: 0.3212 - accuracy: 0.8639 - val_loss: 0.3472 - val_accuracy: 0.8525\n",
            "Epoch 22/100\n",
            "200/200 [==============================] - 0s 2ms/step - loss: 0.3205 - accuracy: 0.8658 - val_loss: 0.3474 - val_accuracy: 0.8531\n",
            "Epoch 23/100\n",
            "200/200 [==============================] - 0s 2ms/step - loss: 0.3204 - accuracy: 0.8653 - val_loss: 0.3471 - val_accuracy: 0.8512\n",
            "Epoch 24/100\n",
            "200/200 [==============================] - 0s 2ms/step - loss: 0.3205 - accuracy: 0.8659 - val_loss: 0.3465 - val_accuracy: 0.8537\n",
            "Epoch 25/100\n",
            "200/200 [==============================] - 0s 2ms/step - loss: 0.3205 - accuracy: 0.8661 - val_loss: 0.3472 - val_accuracy: 0.8525\n",
            "Epoch 26/100\n",
            "200/200 [==============================] - 0s 2ms/step - loss: 0.3204 - accuracy: 0.8664 - val_loss: 0.3475 - val_accuracy: 0.8519\n",
            "Epoch 27/100\n",
            "200/200 [==============================] - 0s 2ms/step - loss: 0.3200 - accuracy: 0.8666 - val_loss: 0.3482 - val_accuracy: 0.8506\n",
            "Epoch 28/100\n",
            "200/200 [==============================] - 1s 3ms/step - loss: 0.3199 - accuracy: 0.8664 - val_loss: 0.3496 - val_accuracy: 0.8487\n",
            "Epoch 29/100\n",
            "200/200 [==============================] - 0s 2ms/step - loss: 0.3202 - accuracy: 0.8659 - val_loss: 0.3479 - val_accuracy: 0.8525\n",
            "Epoch 30/100\n",
            "200/200 [==============================] - 1s 3ms/step - loss: 0.3202 - accuracy: 0.8656 - val_loss: 0.3489 - val_accuracy: 0.8531\n",
            "Epoch 31/100\n",
            "200/200 [==============================] - 1s 4ms/step - loss: 0.3196 - accuracy: 0.8678 - val_loss: 0.3500 - val_accuracy: 0.8519\n",
            "Epoch 32/100\n",
            "200/200 [==============================] - 1s 3ms/step - loss: 0.3203 - accuracy: 0.8683 - val_loss: 0.3473 - val_accuracy: 0.8544\n",
            "Epoch 33/100\n",
            "200/200 [==============================] - 1s 3ms/step - loss: 0.3190 - accuracy: 0.8666 - val_loss: 0.3466 - val_accuracy: 0.8544\n",
            "Epoch 34/100\n",
            "200/200 [==============================] - 1s 4ms/step - loss: 0.3194 - accuracy: 0.8656 - val_loss: 0.3493 - val_accuracy: 0.8519\n",
            "Epoch 35/100\n",
            "200/200 [==============================] - 1s 4ms/step - loss: 0.3186 - accuracy: 0.8687 - val_loss: 0.3506 - val_accuracy: 0.8462\n",
            "Epoch 36/100\n",
            "200/200 [==============================] - 1s 3ms/step - loss: 0.3196 - accuracy: 0.8661 - val_loss: 0.3487 - val_accuracy: 0.8512\n",
            "Epoch 37/100\n",
            "200/200 [==============================] - 1s 3ms/step - loss: 0.3189 - accuracy: 0.8670 - val_loss: 0.3488 - val_accuracy: 0.8544\n",
            "Epoch 38/100\n",
            "200/200 [==============================] - 1s 3ms/step - loss: 0.3189 - accuracy: 0.8667 - val_loss: 0.3500 - val_accuracy: 0.8506\n",
            "Epoch 39/100\n",
            "200/200 [==============================] - 1s 4ms/step - loss: 0.3195 - accuracy: 0.8686 - val_loss: 0.3518 - val_accuracy: 0.8462\n",
            "Epoch 40/100\n",
            "200/200 [==============================] - 1s 3ms/step - loss: 0.3187 - accuracy: 0.8683 - val_loss: 0.3501 - val_accuracy: 0.8544\n",
            "Epoch 41/100\n",
            "200/200 [==============================] - 1s 4ms/step - loss: 0.3191 - accuracy: 0.8662 - val_loss: 0.3482 - val_accuracy: 0.8550\n",
            "Epoch 42/100\n",
            "200/200 [==============================] - 1s 3ms/step - loss: 0.3183 - accuracy: 0.8670 - val_loss: 0.3492 - val_accuracy: 0.8512\n",
            "Epoch 43/100\n",
            "200/200 [==============================] - 1s 3ms/step - loss: 0.3186 - accuracy: 0.8659 - val_loss: 0.3489 - val_accuracy: 0.8512\n",
            "Epoch 44/100\n",
            "200/200 [==============================] - 1s 5ms/step - loss: 0.3184 - accuracy: 0.8664 - val_loss: 0.3508 - val_accuracy: 0.8506\n",
            "Epoch 45/100\n",
            "200/200 [==============================] - 1s 5ms/step - loss: 0.3185 - accuracy: 0.8666 - val_loss: 0.3486 - val_accuracy: 0.8531\n",
            "Epoch 46/100\n",
            "200/200 [==============================] - 1s 5ms/step - loss: 0.3189 - accuracy: 0.8664 - val_loss: 0.3501 - val_accuracy: 0.8531\n",
            "Epoch 47/100\n",
            "200/200 [==============================] - 1s 5ms/step - loss: 0.3186 - accuracy: 0.8673 - val_loss: 0.3489 - val_accuracy: 0.8531\n",
            "Epoch 48/100\n",
            "200/200 [==============================] - 1s 5ms/step - loss: 0.3188 - accuracy: 0.8666 - val_loss: 0.3493 - val_accuracy: 0.8531\n",
            "Epoch 49/100\n",
            "200/200 [==============================] - 1s 5ms/step - loss: 0.3187 - accuracy: 0.8667 - val_loss: 0.3501 - val_accuracy: 0.8487\n",
            "Epoch 50/100\n",
            "200/200 [==============================] - 1s 4ms/step - loss: 0.3184 - accuracy: 0.8673 - val_loss: 0.3496 - val_accuracy: 0.8500\n",
            "Epoch 51/100\n",
            "200/200 [==============================] - 1s 4ms/step - loss: 0.3183 - accuracy: 0.8692 - val_loss: 0.3497 - val_accuracy: 0.8506\n",
            "Epoch 52/100\n",
            "200/200 [==============================] - 1s 4ms/step - loss: 0.3181 - accuracy: 0.8675 - val_loss: 0.3522 - val_accuracy: 0.8506\n",
            "Epoch 53/100\n",
            "200/200 [==============================] - 1s 6ms/step - loss: 0.3186 - accuracy: 0.8666 - val_loss: 0.3505 - val_accuracy: 0.8531\n",
            "Epoch 54/100\n",
            "200/200 [==============================] - 1s 7ms/step - loss: 0.3179 - accuracy: 0.8670 - val_loss: 0.3495 - val_accuracy: 0.8500\n",
            "Epoch 55/100\n",
            "200/200 [==============================] - 2s 8ms/step - loss: 0.3178 - accuracy: 0.8672 - val_loss: 0.3507 - val_accuracy: 0.8500\n",
            "Epoch 56/100\n",
            "200/200 [==============================] - 1s 7ms/step - loss: 0.3179 - accuracy: 0.8672 - val_loss: 0.3499 - val_accuracy: 0.8519\n",
            "Epoch 57/100\n",
            "200/200 [==============================] - 1s 7ms/step - loss: 0.3176 - accuracy: 0.8680 - val_loss: 0.3489 - val_accuracy: 0.8494\n",
            "Epoch 58/100\n",
            "200/200 [==============================] - 1s 5ms/step - loss: 0.3176 - accuracy: 0.8673 - val_loss: 0.3485 - val_accuracy: 0.8525\n",
            "Epoch 59/100\n",
            "200/200 [==============================] - 1s 5ms/step - loss: 0.3176 - accuracy: 0.8691 - val_loss: 0.3492 - val_accuracy: 0.8519\n",
            "Epoch 60/100\n",
            "200/200 [==============================] - 2s 9ms/step - loss: 0.3183 - accuracy: 0.8664 - val_loss: 0.3542 - val_accuracy: 0.8481\n",
            "Epoch 61/100\n",
            "200/200 [==============================] - 1s 5ms/step - loss: 0.3173 - accuracy: 0.8675 - val_loss: 0.3516 - val_accuracy: 0.8500\n",
            "Epoch 62/100\n",
            "200/200 [==============================] - 1s 5ms/step - loss: 0.3172 - accuracy: 0.8669 - val_loss: 0.3528 - val_accuracy: 0.8506\n",
            "Epoch 63/100\n",
            "200/200 [==============================] - 1s 6ms/step - loss: 0.3169 - accuracy: 0.8664 - val_loss: 0.3523 - val_accuracy: 0.8519\n",
            "Epoch 64/100\n",
            "200/200 [==============================] - 1s 5ms/step - loss: 0.3171 - accuracy: 0.8670 - val_loss: 0.3524 - val_accuracy: 0.8475\n",
            "Epoch 65/100\n",
            "200/200 [==============================] - 1s 4ms/step - loss: 0.3170 - accuracy: 0.8680 - val_loss: 0.3513 - val_accuracy: 0.8512\n",
            "Epoch 66/100\n",
            "200/200 [==============================] - 1s 3ms/step - loss: 0.3169 - accuracy: 0.8675 - val_loss: 0.3520 - val_accuracy: 0.8519\n",
            "Epoch 67/100\n",
            "200/200 [==============================] - 1s 3ms/step - loss: 0.3174 - accuracy: 0.8689 - val_loss: 0.3506 - val_accuracy: 0.8519\n",
            "Epoch 68/100\n",
            "200/200 [==============================] - 1s 3ms/step - loss: 0.3168 - accuracy: 0.8669 - val_loss: 0.3519 - val_accuracy: 0.8512\n",
            "Epoch 69/100\n",
            "200/200 [==============================] - 1s 3ms/step - loss: 0.3176 - accuracy: 0.8659 - val_loss: 0.3526 - val_accuracy: 0.8481\n",
            "Epoch 70/100\n",
            "200/200 [==============================] - 1s 3ms/step - loss: 0.3168 - accuracy: 0.8669 - val_loss: 0.3523 - val_accuracy: 0.8494\n",
            "Epoch 71/100\n",
            "200/200 [==============================] - 1s 3ms/step - loss: 0.3170 - accuracy: 0.8681 - val_loss: 0.3505 - val_accuracy: 0.8500\n",
            "Epoch 72/100\n",
            "200/200 [==============================] - 1s 3ms/step - loss: 0.3168 - accuracy: 0.8672 - val_loss: 0.3535 - val_accuracy: 0.8481\n",
            "Epoch 73/100\n",
            "200/200 [==============================] - 1s 3ms/step - loss: 0.3173 - accuracy: 0.8684 - val_loss: 0.3507 - val_accuracy: 0.8500\n",
            "Epoch 74/100\n",
            "200/200 [==============================] - 1s 3ms/step - loss: 0.3163 - accuracy: 0.8687 - val_loss: 0.3508 - val_accuracy: 0.8506\n",
            "Epoch 75/100\n",
            "200/200 [==============================] - 1s 3ms/step - loss: 0.3172 - accuracy: 0.8664 - val_loss: 0.3512 - val_accuracy: 0.8525\n",
            "Epoch 76/100\n",
            "200/200 [==============================] - 1s 3ms/step - loss: 0.3173 - accuracy: 0.8687 - val_loss: 0.3506 - val_accuracy: 0.8506\n",
            "Epoch 77/100\n",
            "200/200 [==============================] - 1s 3ms/step - loss: 0.3163 - accuracy: 0.8691 - val_loss: 0.3526 - val_accuracy: 0.8512\n",
            "Epoch 78/100\n",
            "200/200 [==============================] - 1s 3ms/step - loss: 0.3163 - accuracy: 0.8691 - val_loss: 0.3519 - val_accuracy: 0.8494\n",
            "Epoch 79/100\n",
            "200/200 [==============================] - 1s 3ms/step - loss: 0.3167 - accuracy: 0.8678 - val_loss: 0.3534 - val_accuracy: 0.8506\n",
            "Epoch 80/100\n",
            "200/200 [==============================] - 1s 3ms/step - loss: 0.3170 - accuracy: 0.8667 - val_loss: 0.3505 - val_accuracy: 0.8506\n",
            "Epoch 81/100\n",
            "200/200 [==============================] - 1s 3ms/step - loss: 0.3166 - accuracy: 0.8680 - val_loss: 0.3517 - val_accuracy: 0.8481\n",
            "Epoch 82/100\n",
            "200/200 [==============================] - 1s 3ms/step - loss: 0.3160 - accuracy: 0.8691 - val_loss: 0.3514 - val_accuracy: 0.8519\n",
            "Epoch 83/100\n",
            "200/200 [==============================] - 1s 3ms/step - loss: 0.3159 - accuracy: 0.8689 - val_loss: 0.3510 - val_accuracy: 0.8531\n",
            "Epoch 84/100\n",
            "200/200 [==============================] - 1s 3ms/step - loss: 0.3166 - accuracy: 0.8677 - val_loss: 0.3521 - val_accuracy: 0.8512\n",
            "Epoch 85/100\n",
            "200/200 [==============================] - 1s 3ms/step - loss: 0.3166 - accuracy: 0.8691 - val_loss: 0.3531 - val_accuracy: 0.8544\n",
            "Epoch 86/100\n",
            "200/200 [==============================] - 1s 3ms/step - loss: 0.3161 - accuracy: 0.8677 - val_loss: 0.3543 - val_accuracy: 0.8500\n",
            "Epoch 87/100\n",
            "200/200 [==============================] - 1s 3ms/step - loss: 0.3160 - accuracy: 0.8702 - val_loss: 0.3505 - val_accuracy: 0.8519\n",
            "Epoch 88/100\n",
            "200/200 [==============================] - 1s 4ms/step - loss: 0.3155 - accuracy: 0.8681 - val_loss: 0.3503 - val_accuracy: 0.8519\n",
            "Epoch 89/100\n",
            "200/200 [==============================] - 1s 3ms/step - loss: 0.3168 - accuracy: 0.8673 - val_loss: 0.3525 - val_accuracy: 0.8494\n",
            "Epoch 90/100\n",
            "200/200 [==============================] - 1s 3ms/step - loss: 0.3163 - accuracy: 0.8669 - val_loss: 0.3512 - val_accuracy: 0.8519\n",
            "Epoch 91/100\n",
            "200/200 [==============================] - 1s 3ms/step - loss: 0.3161 - accuracy: 0.8678 - val_loss: 0.3514 - val_accuracy: 0.8550\n",
            "Epoch 92/100\n",
            "200/200 [==============================] - 1s 3ms/step - loss: 0.3156 - accuracy: 0.8686 - val_loss: 0.3523 - val_accuracy: 0.8506\n",
            "Epoch 93/100\n",
            "200/200 [==============================] - 1s 3ms/step - loss: 0.3152 - accuracy: 0.8666 - val_loss: 0.3554 - val_accuracy: 0.8500\n",
            "Epoch 94/100\n",
            "200/200 [==============================] - 1s 3ms/step - loss: 0.3156 - accuracy: 0.8687 - val_loss: 0.3514 - val_accuracy: 0.8519\n",
            "Epoch 95/100\n",
            "200/200 [==============================] - 1s 3ms/step - loss: 0.3155 - accuracy: 0.8703 - val_loss: 0.3535 - val_accuracy: 0.8506\n",
            "Epoch 96/100\n",
            "200/200 [==============================] - 1s 3ms/step - loss: 0.3160 - accuracy: 0.8673 - val_loss: 0.3527 - val_accuracy: 0.8506\n",
            "Epoch 97/100\n",
            "200/200 [==============================] - 1s 3ms/step - loss: 0.3156 - accuracy: 0.8694 - val_loss: 0.3527 - val_accuracy: 0.8506\n",
            "Epoch 98/100\n",
            "200/200 [==============================] - 1s 3ms/step - loss: 0.3160 - accuracy: 0.8678 - val_loss: 0.3529 - val_accuracy: 0.8500\n",
            "Epoch 99/100\n",
            "200/200 [==============================] - 1s 3ms/step - loss: 0.3155 - accuracy: 0.8689 - val_loss: 0.3521 - val_accuracy: 0.8519\n",
            "Epoch 100/100\n",
            "200/200 [==============================] - 1s 3ms/step - loss: 0.3159 - accuracy: 0.8684 - val_loss: 0.3523 - val_accuracy: 0.8500\n"
          ]
        }
      ]
    },
    {
      "cell_type": "markdown",
      "source": [
        "### To get weights\n",
        "\n",
        "### 33 weights of first layer"
      ],
      "metadata": {
        "id": "jbbzknpnrO7T"
      }
    },
    {
      "cell_type": "code",
      "source": [
        "# model.layer[layer_number].get_weights()"
      ],
      "metadata": {
        "id": "hJSEbrU_rVj1"
      },
      "execution_count": 44,
      "outputs": []
    },
    {
      "cell_type": "code",
      "source": [
        "model.layers[0].get_weights()"
      ],
      "metadata": {
        "id": "Oa_lGxasq_a_"
      },
      "execution_count": null,
      "outputs": []
    },
    {
      "cell_type": "code",
      "source": [
        "model.layers[1].get_weights()"
      ],
      "metadata": {
        "id": "-rwM1e2QrMX1"
      },
      "execution_count": null,
      "outputs": []
    },
    {
      "cell_type": "code",
      "source": [
        "model.layers[2].get_weights()"
      ],
      "metadata": {
        "colab": {
          "base_uri": "https://localhost:8080/"
        },
        "id": "ujTJ3AzfvIqe",
        "outputId": "84b71605-f696-4be3-b04d-6240533b0deb"
      },
      "execution_count": 66,
      "outputs": [
        {
          "output_type": "execute_result",
          "data": {
            "text/plain": [
              "[array([[ 0.923564  ],\n",
              "        [-0.67183125],\n",
              "        [-0.91584367],\n",
              "        [-0.59455395],\n",
              "        [ 0.4963145 ],\n",
              "        [-0.6254339 ],\n",
              "        [-0.8707797 ],\n",
              "        [ 0.9312208 ],\n",
              "        [ 0.49271333],\n",
              "        [ 1.1630143 ],\n",
              "        [ 0.75592905]], dtype=float32), array([-0.17589249], dtype=float32)]"
            ]
          },
          "metadata": {},
          "execution_count": 66
        }
      ]
    },
    {
      "cell_type": "code",
      "source": [
        "model.predict(X_test_scaled)"
      ],
      "metadata": {
        "colab": {
          "base_uri": "https://localhost:8080/"
        },
        "id": "DVfOmBOYrewa",
        "outputId": "8d135154-0266-47af-a421-6de5a7c7888e"
      },
      "execution_count": 67,
      "outputs": [
        {
          "output_type": "execute_result",
          "data": {
            "text/plain": [
              "array([[0.02097479],\n",
              "       [0.05903342],\n",
              "       [0.05117548],\n",
              "       ...,\n",
              "       [0.00894868],\n",
              "       [0.04929239],\n",
              "       [0.2252425 ]], dtype=float32)"
            ]
          },
          "metadata": {},
          "execution_count": 67
        }
      ]
    },
    {
      "cell_type": "markdown",
      "source": [
        "Since we are using sigmoid, we get probabilites\n"
      ],
      "metadata": {
        "id": "BvvlUTu3rkwi"
      }
    },
    {
      "cell_type": "markdown",
      "source": [
        "\n",
        "we have to decide a threshold to decide if output is 0 or 1\n",
        "\n",
        "like 0.5 is a threshold , values below 0.5 will be 0 and above it will be 1.\n",
        "\n",
        "To get true optimal value of threshold, we have to do test like Roc Aoc curve, etc"
      ],
      "metadata": {
        "id": "J0ZuBVPcrwS2"
      }
    },
    {
      "cell_type": "code",
      "source": [
        "# for now let's take theshold 0.5\n",
        "\n",
        "y_log = model.predict(X_test_scaled)\n",
        "\n",
        "# np.where(if condition, then , else)\n",
        "y_prob = np.where(y_log>0.5, 1, 0)"
      ],
      "metadata": {
        "id": "tcc-yuXorhdU"
      },
      "execution_count": 68,
      "outputs": []
    },
    {
      "cell_type": "code",
      "source": [
        "y_prob"
      ],
      "metadata": {
        "colab": {
          "base_uri": "https://localhost:8080/"
        },
        "id": "F0gD4LNPsszg",
        "outputId": "2bfec29f-9ff9-4671-b0fa-d61515d610ec"
      },
      "execution_count": 69,
      "outputs": [
        {
          "output_type": "execute_result",
          "data": {
            "text/plain": [
              "array([[0],\n",
              "       [0],\n",
              "       [0],\n",
              "       ...,\n",
              "       [0],\n",
              "       [0],\n",
              "       [0]])"
            ]
          },
          "metadata": {},
          "execution_count": 69
        }
      ]
    },
    {
      "cell_type": "code",
      "source": [
        "y_prob.shape"
      ],
      "metadata": {
        "colab": {
          "base_uri": "https://localhost:8080/"
        },
        "id": "dtOkoKr7stp6",
        "outputId": "d54ee639-8521-4ea7-8ee7-a72e699084d6"
      },
      "execution_count": 70,
      "outputs": [
        {
          "output_type": "execute_result",
          "data": {
            "text/plain": [
              "(2000, 1)"
            ]
          },
          "metadata": {},
          "execution_count": 70
        }
      ]
    },
    {
      "cell_type": "code",
      "source": [
        "from sklearn.metrics import accuracy_score\n",
        "\n",
        "print(accuracy_score(y_test, y_prob))"
      ],
      "metadata": {
        "colab": {
          "base_uri": "https://localhost:8080/"
        },
        "id": "PzMkTeTBswCj",
        "outputId": "8328d78f-2c1b-4c64-d2ca-7a0e05c472ad"
      },
      "execution_count": 71,
      "outputs": [
        {
          "output_type": "stream",
          "name": "stdout",
          "text": [
            "0.8665\n"
          ]
        }
      ]
    },
    {
      "cell_type": "code",
      "source": [
        "# optimization\n",
        "# 1. increase epochs\n",
        "# 2. activation function = ReLu\n",
        "# 3. increase nodes in hidden layer\n",
        "# 4. Increase no. of layers\n"
      ],
      "metadata": {
        "id": "MqktH683s5oO"
      },
      "execution_count": 51,
      "outputs": []
    },
    {
      "cell_type": "code",
      "source": [
        "import matplotlib.pyplot as plt"
      ],
      "metadata": {
        "id": "P8H1wkiMtM6x"
      },
      "execution_count": 73,
      "outputs": []
    },
    {
      "cell_type": "code",
      "source": [
        "plt.plot(history.history[\"loss\"])\n",
        "plt.plot(history.history[\"val_loss\"])"
      ],
      "metadata": {
        "colab": {
          "base_uri": "https://localhost:8080/",
          "height": 283
        },
        "id": "91LYqWiRvv0k",
        "outputId": "f544dee2-8c7f-4494-f5f9-8ec92fe58d85"
      },
      "execution_count": 76,
      "outputs": [
        {
          "output_type": "execute_result",
          "data": {
            "text/plain": [
              "[<matplotlib.lines.Line2D at 0x7f9414bdb7d0>]"
            ]
          },
          "metadata": {},
          "execution_count": 76
        },
        {
          "output_type": "display_data",
          "data": {
            "text/plain": [
              "<Figure size 432x288 with 1 Axes>"
            ],
            "image/png": "[encoded data removed]"
          },
          "metadata": {
            "needs_background": "light"
          }
        }
      ]
    },
    {
      "cell_type": "code",
      "source": [
        "plt.plot(history.history[\"accuracy\"])\n",
        "plt.plot(history.history[\"val_accuracy\"])"
      ],
      "metadata": {
        "colab": {
          "base_uri": "https://localhost:8080/",
          "height": 283
        },
        "id": "LAE3iyCWv_oy",
        "outputId": "730a9469-4d2d-4548-a034-2041cc5194ca"
      },
      "execution_count": 77,
      "outputs": [
        {
          "output_type": "execute_result",
          "data": {
            "text/plain": [
              "[<matplotlib.lines.Line2D at 0x7f94146b10d0>]"
            ]
          },
          "metadata": {},
          "execution_count": 77
        },
        {
          "output_type": "display_data",
          "data": {
            "text/plain": [
              "<Figure size 432x288 with 1 Axes>"
            ],
            "image/png": "[encoded data removed]"
          },
          "metadata": {
            "needs_background": "light"
          }
        }
      ]
    },
    {
      "cell_type": "code",
      "source": [
        "history.history"
      ],
      "metadata": {
        "colab": {
          "base_uri": "https://localhost:8080/"
        },
        "id": "yxV3FW5bvjxt",
        "outputId": "c9f511ab-a01d-4b13-eb8d-aebab1e7f817"
      },
      "execution_count": 74,
      "outputs": [
        {
          "output_type": "execute_result",
          "data": {
            "text/plain": [
              "{'accuracy': [0.8651562333106995,\n",
              "  0.8653125166893005,\n",
              "  0.8660937547683716,\n",
              "  0.8648437261581421,\n",
              "  0.867968738079071,\n",
              "  0.8653125166893005,\n",
              "  0.8645312786102295,\n",
              "  0.8656250238418579,\n",
              "  0.8668749928474426,\n",
              "  0.8654687404632568,\n",
              "  0.8643749952316284,\n",
              "  0.8654687404632568,\n",
              "  0.8659374713897705,\n",
              "  0.867968738079071,\n",
              "  0.8651562333106995,\n",
              "  0.8645312786102295,\n",
              "  0.8670312762260437,\n",
              "  0.8657812476158142,\n",
              "  0.8646875023841858,\n",
              "  0.8657812476158142,\n",
              "  0.8639062643051147,\n",
              "  0.8657812476158142,\n",
              "  0.8653125166893005,\n",
              "  0.8659374713897705,\n",
              "  0.8660937547683716,\n",
              "  0.866406261920929,\n",
              "  0.8665624856948853,\n",
              "  0.866406261920929,\n",
              "  0.8659374713897705,\n",
              "  0.8656250238418579,\n",
              "  0.8678125143051147,\n",
              "  0.8682812452316284,\n",
              "  0.8665624856948853,\n",
              "  0.8656250238418579,\n",
              "  0.8687499761581421,\n",
              "  0.8660937547683716,\n",
              "  0.8670312762260437,\n",
              "  0.8667187690734863,\n",
              "  0.8685937523841858,\n",
              "  0.8682812452316284,\n",
              "  0.8662499785423279,\n",
              "  0.8670312762260437,\n",
              "  0.8659374713897705,\n",
              "  0.866406261920929,\n",
              "  0.8665624856948853,\n",
              "  0.866406261920929,\n",
              "  0.8673437237739563,\n",
              "  0.8665624856948853,\n",
              "  0.8667187690734863,\n",
              "  0.8673437237739563,\n",
              "  0.8692187666893005,\n",
              "  0.8675000071525574,\n",
              "  0.8665624856948853,\n",
              "  0.8670312762260437,\n",
              "  0.8671875,\n",
              "  0.8671875,\n",
              "  0.867968738079071,\n",
              "  0.8673437237739563,\n",
              "  0.8690624833106995,\n",
              "  0.866406261920929,\n",
              "  0.8675000071525574,\n",
              "  0.8668749928474426,\n",
              "  0.866406261920929,\n",
              "  0.8670312762260437,\n",
              "  0.867968738079071,\n",
              "  0.8675000071525574,\n",
              "  0.8689062595367432,\n",
              "  0.8668749928474426,\n",
              "  0.8659374713897705,\n",
              "  0.8668749928474426,\n",
              "  0.8681250214576721,\n",
              "  0.8671875,\n",
              "  0.8684375286102295,\n",
              "  0.8687499761581421,\n",
              "  0.866406261920929,\n",
              "  0.8687499761581421,\n",
              "  0.8690624833106995,\n",
              "  0.8690624833106995,\n",
              "  0.8678125143051147,\n",
              "  0.8667187690734863,\n",
              "  0.867968738079071,\n",
              "  0.8690624833106995,\n",
              "  0.8689062595367432,\n",
              "  0.8676562309265137,\n",
              "  0.8690624833106995,\n",
              "  0.8676562309265137,\n",
              "  0.8701562285423279,\n",
              "  0.8681250214576721,\n",
              "  0.8673437237739563,\n",
              "  0.8668749928474426,\n",
              "  0.8678125143051147,\n",
              "  0.8685937523841858,\n",
              "  0.8665624856948853,\n",
              "  0.8687499761581421,\n",
              "  0.870312511920929,\n",
              "  0.8673437237739563,\n",
              "  0.8693749904632568,\n",
              "  0.8678125143051147,\n",
              "  0.8689062595367432,\n",
              "  0.8684375286102295],\n",
              " 'loss': [0.32316070795059204,\n",
              "  0.32285645604133606,\n",
              "  0.3228380084037781,\n",
              "  0.32223835587501526,\n",
              "  0.3224916458129883,\n",
              "  0.3224007785320282,\n",
              "  0.32287082076072693,\n",
              "  0.3215099275112152,\n",
              "  0.32170742750167847,\n",
              "  0.3217994272708893,\n",
              "  0.3219758868217468,\n",
              "  0.32182812690734863,\n",
              "  0.32237690687179565,\n",
              "  0.321544885635376,\n",
              "  0.32130613923072815,\n",
              "  0.3208988904953003,\n",
              "  0.3214739263057709,\n",
              "  0.3208664357662201,\n",
              "  0.3204011023044586,\n",
              "  0.32121917605400085,\n",
              "  0.32116615772247314,\n",
              "  0.32048821449279785,\n",
              "  0.3203990161418915,\n",
              "  0.32048359513282776,\n",
              "  0.3205226957798004,\n",
              "  0.3203919529914856,\n",
              "  0.32001736760139465,\n",
              "  0.31985175609588623,\n",
              "  0.32024747133255005,\n",
              "  0.3201856315135956,\n",
              "  0.3195675015449524,\n",
              "  0.320341557264328,\n",
              "  0.31897422671318054,\n",
              "  0.31941094994544983,\n",
              "  0.31863635778427124,\n",
              "  0.3196467161178589,\n",
              "  0.3188766837120056,\n",
              "  0.3188967704772949,\n",
              "  0.31951504945755005,\n",
              "  0.3187175691127777,\n",
              "  0.3190721571445465,\n",
              "  0.31830084323883057,\n",
              "  0.31861594319343567,\n",
              "  0.31836098432540894,\n",
              "  0.3185247480869293,\n",
              "  0.3189016878604889,\n",
              "  0.31857192516326904,\n",
              "  0.3188362717628479,\n",
              "  0.31865158677101135,\n",
              "  0.3183513581752777,\n",
              "  0.3182881474494934,\n",
              "  0.3180773854255676,\n",
              "  0.31864047050476074,\n",
              "  0.31788915395736694,\n",
              "  0.3178483843803406,\n",
              "  0.3178864121437073,\n",
              "  0.3176005780696869,\n",
              "  0.3175874948501587,\n",
              "  0.3175591230392456,\n",
              "  0.3182654082775116,\n",
              "  0.31734034419059753,\n",
              "  0.31715038418769836,\n",
              "  0.3168947696685791,\n",
              "  0.3170742690563202,\n",
              "  0.3170420825481415,\n",
              "  0.31688034534454346,\n",
              "  0.3174058794975281,\n",
              "  0.31676676869392395,\n",
              "  0.31760165095329285,\n",
              "  0.3168044984340668,\n",
              "  0.31703290343284607,\n",
              "  0.3168482482433319,\n",
              "  0.3172907829284668,\n",
              "  0.3163130581378937,\n",
              "  0.3171844780445099,\n",
              "  0.31728222966194153,\n",
              "  0.31630614399909973,\n",
              "  0.316277414560318,\n",
              "  0.31669333577156067,\n",
              "  0.31700438261032104,\n",
              "  0.3166079819202423,\n",
              "  0.31600356101989746,\n",
              "  0.3159072995185852,\n",
              "  0.31661927700042725,\n",
              "  0.3166216015815735,\n",
              "  0.31609469652175903,\n",
              "  0.31601735949516296,\n",
              "  0.31550246477127075,\n",
              "  0.3167632818222046,\n",
              "  0.31625592708587646,\n",
              "  0.316135048866272,\n",
              "  0.3156290352344513,\n",
              "  0.3152002990245819,\n",
              "  0.315573126077652,\n",
              "  0.31549832224845886,\n",
              "  0.3159855902194977,\n",
              "  0.3156419098377228,\n",
              "  0.31596091389656067,\n",
              "  0.31547293066978455,\n",
              "  0.31592047214508057],\n",
              " 'val_accuracy': [0.8456249833106995,\n",
              "  0.8543750047683716,\n",
              "  0.8537499904632568,\n",
              "  0.8475000262260437,\n",
              "  0.8550000190734863,\n",
              "  0.8493750095367432,\n",
              "  0.8500000238418579,\n",
              "  0.8518750071525574,\n",
              "  0.8525000214576721,\n",
              "  0.8518750071525574,\n",
              "  0.8481249809265137,\n",
              "  0.8525000214576721,\n",
              "  0.8512499928474426,\n",
              "  0.8493750095367432,\n",
              "  0.8525000214576721,\n",
              "  0.8493750095367432,\n",
              "  0.8518750071525574,\n",
              "  0.8518750071525574,\n",
              "  0.8512499928474426,\n",
              "  0.8518750071525574,\n",
              "  0.8525000214576721,\n",
              "  0.8531249761581421,\n",
              "  0.8512499928474426,\n",
              "  0.8537499904632568,\n",
              "  0.8525000214576721,\n",
              "  0.8518750071525574,\n",
              "  0.8506249785423279,\n",
              "  0.8487499952316284,\n",
              "  0.8525000214576721,\n",
              "  0.8531249761581421,\n",
              "  0.8518750071525574,\n",
              "  0.8543750047683716,\n",
              "  0.8543750047683716,\n",
              "  0.8518750071525574,\n",
              "  0.8462499976158142,\n",
              "  0.8512499928474426,\n",
              "  0.8543750047683716,\n",
              "  0.8506249785423279,\n",
              "  0.8462499976158142,\n",
              "  0.8543750047683716,\n",
              "  0.8550000190734863,\n",
              "  0.8512499928474426,\n",
              "  0.8512499928474426,\n",
              "  0.8506249785423279,\n",
              "  0.8531249761581421,\n",
              "  0.8531249761581421,\n",
              "  0.8531249761581421,\n",
              "  0.8531249761581421,\n",
              "  0.8487499952316284,\n",
              "  0.8500000238418579,\n",
              "  0.8506249785423279,\n",
              "  0.8506249785423279,\n",
              "  0.8531249761581421,\n",
              "  0.8500000238418579,\n",
              "  0.8500000238418579,\n",
              "  0.8518750071525574,\n",
              "  0.8493750095367432,\n",
              "  0.8525000214576721,\n",
              "  0.8518750071525574,\n",
              "  0.8481249809265137,\n",
              "  0.8500000238418579,\n",
              "  0.8506249785423279,\n",
              "  0.8518750071525574,\n",
              "  0.8475000262260437,\n",
              "  0.8512499928474426,\n",
              "  0.8518750071525574,\n",
              "  0.8518750071525574,\n",
              "  0.8512499928474426,\n",
              "  0.8481249809265137,\n",
              "  0.8493750095367432,\n",
              "  0.8500000238418579,\n",
              "  0.8481249809265137,\n",
              "  0.8500000238418579,\n",
              "  0.8506249785423279,\n",
              "  0.8525000214576721,\n",
              "  0.8506249785423279,\n",
              "  0.8512499928474426,\n",
              "  0.8493750095367432,\n",
              "  0.8506249785423279,\n",
              "  0.8506249785423279,\n",
              "  0.8481249809265137,\n",
              "  0.8518750071525574,\n",
              "  0.8531249761581421,\n",
              "  0.8512499928474426,\n",
              "  0.8543750047683716,\n",
              "  0.8500000238418579,\n",
              "  0.8518750071525574,\n",
              "  0.8518750071525574,\n",
              "  0.8493750095367432,\n",
              "  0.8518750071525574,\n",
              "  0.8550000190734863,\n",
              "  0.8506249785423279,\n",
              "  0.8500000238418579,\n",
              "  0.8518750071525574,\n",
              "  0.8506249785423279,\n",
              "  0.8506249785423279,\n",
              "  0.8506249785423279,\n",
              "  0.8500000238418579,\n",
              "  0.8518750071525574,\n",
              "  0.8500000238418579],\n",
              " 'val_loss': [0.34882616996765137,\n",
              "  0.34590187668800354,\n",
              "  0.3449467420578003,\n",
              "  0.346985787153244,\n",
              "  0.34537413716316223,\n",
              "  0.3457268178462982,\n",
              "  0.34628966450691223,\n",
              "  0.34747985005378723,\n",
              "  0.3460201323032379,\n",
              "  0.34653064608573914,\n",
              "  0.3460743725299835,\n",
              "  0.34539729356765747,\n",
              "  0.34776270389556885,\n",
              "  0.3469369113445282,\n",
              "  0.3470315933227539,\n",
              "  0.34779468178749084,\n",
              "  0.346444308757782,\n",
              "  0.34657931327819824,\n",
              "  0.3476223051548004,\n",
              "  0.3470979928970337,\n",
              "  0.34723055362701416,\n",
              "  0.3473798334598541,\n",
              "  0.3471323251724243,\n",
              "  0.3465464413166046,\n",
              "  0.3471740782260895,\n",
              "  0.34747546911239624,\n",
              "  0.34818145632743835,\n",
              "  0.3495580554008484,\n",
              "  0.347908616065979,\n",
              "  0.3488626182079315,\n",
              "  0.34996864199638367,\n",
              "  0.34725773334503174,\n",
              "  0.34657394886016846,\n",
              "  0.3493170440196991,\n",
              "  0.3506229817867279,\n",
              "  0.3486998379230499,\n",
              "  0.3488254249095917,\n",
              "  0.3499898612499237,\n",
              "  0.3517985939979553,\n",
              "  0.35007190704345703,\n",
              "  0.3481650650501251,\n",
              "  0.3492441177368164,\n",
              "  0.34892043471336365,\n",
              "  0.35076504945755005,\n",
              "  0.34857481718063354,\n",
              "  0.35009846091270447,\n",
              "  0.3489055335521698,\n",
              "  0.34926795959472656,\n",
              "  0.3501463234424591,\n",
              "  0.3495683968067169,\n",
              "  0.3496820330619812,\n",
              "  0.35216209292411804,\n",
              "  0.35047656297683716,\n",
              "  0.34945401549339294,\n",
              "  0.35073375701904297,\n",
              "  0.34990420937538147,\n",
              "  0.34893283247947693,\n",
              "  0.3485330641269684,\n",
              "  0.34922629594802856,\n",
              "  0.3541525900363922,\n",
              "  0.3516126871109009,\n",
              "  0.3528289794921875,\n",
              "  0.3523104190826416,\n",
              "  0.35241279006004333,\n",
              "  0.35127153992652893,\n",
              "  0.35199984908103943,\n",
              "  0.3505791425704956,\n",
              "  0.35188302397727966,\n",
              "  0.35263848304748535,\n",
              "  0.3522976338863373,\n",
              "  0.35051172971725464,\n",
              "  0.3535131812095642,\n",
              "  0.35074299573898315,\n",
              "  0.35080838203430176,\n",
              "  0.35117384791374207,\n",
              "  0.3505632281303406,\n",
              "  0.3525627553462982,\n",
              "  0.3518604636192322,\n",
              "  0.35342350602149963,\n",
              "  0.3504604697227478,\n",
              "  0.35165223479270935,\n",
              "  0.3514363765716553,\n",
              "  0.3510439991950989,\n",
              "  0.35208526253700256,\n",
              "  0.35306116938591003,\n",
              "  0.35428833961486816,\n",
              "  0.3505403995513916,\n",
              "  0.35028281807899475,\n",
              "  0.3524707853794098,\n",
              "  0.35123634338378906,\n",
              "  0.35135000944137573,\n",
              "  0.3523359000682831,\n",
              "  0.35542720556259155,\n",
              "  0.3513895273208618,\n",
              "  0.3534991443157196,\n",
              "  0.35267287492752075,\n",
              "  0.35270607471466064,\n",
              "  0.35291969776153564,\n",
              "  0.3520524203777313,\n",
              "  0.35227492451667786]}"
            ]
          },
          "metadata": {},
          "execution_count": 74
        }
      ]
    },
    {
      "cell_type": "code",
      "source": [
        ""
      ],
      "metadata": {
        "id": "opfK6j1dvls2"
      },
      "execution_count": null,
      "outputs": []
    }
  ]
}