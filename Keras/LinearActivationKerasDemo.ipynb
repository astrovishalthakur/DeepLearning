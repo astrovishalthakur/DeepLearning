{
  "nbformat": 4,
  "nbformat_minor": 0,
  "metadata": {
    "colab": {
      "name": "LinearActivationKerasDemo.ipynb",
      "provenance": [],
      "authorship_tag": "ABX9TyPrG2+HUnF7hyJH8599zmDN",
      "include_colab_link": true
    },
    "kernelspec": {
      "name": "python3",
      "display_name": "Python 3"
    },
    "language_info": {
      "name": "python"
    }
  },
  "cells": [
    {
      "cell_type": "markdown",
      "metadata": {
        "id": "view-in-github",
        "colab_type": "text"
      },
      "source": [
        "<a href=\"https://colab.research.google.com/github/astrovishalthakur/DeepLearning/blob/main/Keras/LinearActivationKerasDemo.ipynb\" target=\"_parent\"><img src=\"https://colab.research.google.com/assets/colab-badge.svg\" alt=\"Open In Colab\"/></a>"
      ]
    },
    {
      "cell_type": "code",
      "execution_count": 1,
      "metadata": {
        "id": "3pOkoKAf-4nW"
      },
      "outputs": [],
      "source": [
        "import numpy as np\n",
        "import pandas as pd\n"
      ]
    },
    {
      "cell_type": "code",
      "source": [
        "df = pd.DataFrame([[8, 8, 4], [7, 9, 5], [6, 10, 6], [5, 12, 7]], columns=[\"cgpa\", \"profile_score\", \"lpa\"])"
      ],
      "metadata": {
        "id": "12yGqwSU_Diu"
      },
      "execution_count": 4,
      "outputs": []
    },
    {
      "cell_type": "code",
      "source": [
        "df"
      ],
      "metadata": {
        "colab": {
          "base_uri": "https://localhost:8080/",
          "height": 175
        },
        "id": "jx42Zg55_Pes",
        "outputId": "130405ef-d3be-4095-efae-42b9cfe303c2"
      },
      "execution_count": 5,
      "outputs": [
        {
          "output_type": "execute_result",
          "data": {
            "text/plain": [
              "   cgpa  profile_score  lpa\n",
              "0     8              8    4\n",
              "1     7              9    5\n",
              "2     6             10    6\n",
              "3     5             12    7"
            ],
            "text/html": [
              "\n",
              "  <div id=\"df-04a4f8f1-228f-442d-a2c6-fd5831865ded\">\n",
              "    <div class=\"colab-df-container\">\n",
              "      <div>\n",
              "<style scoped>\n",
              "    .dataframe tbody tr th:only-of-type {\n",
              "        vertical-align: middle;\n",
              "    }\n",
              "\n",
              "    .dataframe tbody tr th {\n",
              "        vertical-align: top;\n",
              "    }\n",
              "\n",
              "    .dataframe thead th {\n",
              "        text-align: right;\n",
              "    }\n",
              "</style>\n",
              "<table border=\"1\" class=\"dataframe\">\n",
              "  <thead>\n",
              "    <tr style=\"text-align: right;\">\n",
              "      <th></th>\n",
              "      <th>cgpa</th>\n",
              "      <th>profile_score</th>\n",
              "      <th>lpa</th>\n",
              "    </tr>\n",
              "  </thead>\n",
              "  <tbody>\n",
              "    <tr>\n",
              "      <th>0</th>\n",
              "      <td>8</td>\n",
              "      <td>8</td>\n",
              "      <td>4</td>\n",
              "    </tr>\n",
              "    <tr>\n",
              "      <th>1</th>\n",
              "      <td>7</td>\n",
              "      <td>9</td>\n",
              "      <td>5</td>\n",
              "    </tr>\n",
              "    <tr>\n",
              "      <th>2</th>\n",
              "      <td>6</td>\n",
              "      <td>10</td>\n",
              "      <td>6</td>\n",
              "    </tr>\n",
              "    <tr>\n",
              "      <th>3</th>\n",
              "      <td>5</td>\n",
              "      <td>12</td>\n",
              "      <td>7</td>\n",
              "    </tr>\n",
              "  </tbody>\n",
              "</table>\n",
              "</div>\n",
              "      <button class=\"colab-df-convert\" onclick=\"convertToInteractive('df-04a4f8f1-228f-442d-a2c6-fd5831865ded')\"\n",
              "              title=\"Convert this dataframe to an interactive table.\"\n",
              "              style=\"display:none;\">\n",
              "        \n",
              "  <svg xmlns=\"http://www.w3.org/2000/svg\" height=\"24px\"viewBox=\"0 0 24 24\"\n",
              "       width=\"24px\">\n",
              "    <path d=\"M0 0h24v24H0V0z\" fill=\"none\"/>\n",
              "    <path d=\"M18.56 5.44l.94 2.06.94-2.06 2.06-.94-2.06-.94-.94-2.06-.94 2.06-2.06.94zm-11 1L8.5 8.5l.94-2.06 2.06-.94-2.06-.94L8.5 2.5l-.94 2.06-2.06.94zm10 10l.94 2.06.94-2.06 2.06-.94-2.06-.94-.94-2.06-.94 2.06-2.06.94z\"/><path d=\"M17.41 7.96l-1.37-1.37c-.4-.4-.92-.59-1.43-.59-.52 0-1.04.2-1.43.59L10.3 9.45l-7.72 7.72c-.78.78-.78 2.05 0 2.83L4 21.41c.39.39.9.59 1.41.59.51 0 1.02-.2 1.41-.59l7.78-7.78 2.81-2.81c.8-.78.8-2.07 0-2.86zM5.41 20L4 18.59l7.72-7.72 1.47 1.35L5.41 20z\"/>\n",
              "  </svg>\n",
              "      </button>\n",
              "      \n",
              "  <style>\n",
              "    .colab-df-container {\n",
              "      display:flex;\n",
              "      flex-wrap:wrap;\n",
              "      gap: 12px;\n",
              "    }\n",
              "\n",
              "    .colab-df-convert {\n",
              "      background-color: #E8F0FE;\n",
              "      border: none;\n",
              "      border-radius: 50%;\n",
              "      cursor: pointer;\n",
              "      display: none;\n",
              "      fill: #1967D2;\n",
              "      height: 32px;\n",
              "      padding: 0 0 0 0;\n",
              "      width: 32px;\n",
              "    }\n",
              "\n",
              "    .colab-df-convert:hover {\n",
              "      background-color: #E2EBFA;\n",
              "      box-shadow: 0px 1px 2px rgba(60, 64, 67, 0.3), 0px 1px 3px 1px rgba(60, 64, 67, 0.15);\n",
              "      fill: #174EA6;\n",
              "    }\n",
              "\n",
              "    [theme=dark] .colab-df-convert {\n",
              "      background-color: #3B4455;\n",
              "      fill: #D2E3FC;\n",
              "    }\n",
              "\n",
              "    [theme=dark] .colab-df-convert:hover {\n",
              "      background-color: #434B5C;\n",
              "      box-shadow: 0px 1px 3px 1px rgba(0, 0, 0, 0.15);\n",
              "      filter: drop-shadow(0px 1px 2px rgba(0, 0, 0, 0.3));\n",
              "      fill: #FFFFFF;\n",
              "    }\n",
              "  </style>\n",
              "\n",
              "      <script>\n",
              "        const buttonEl =\n",
              "          document.querySelector('#df-04a4f8f1-228f-442d-a2c6-fd5831865ded button.colab-df-convert');\n",
              "        buttonEl.style.display =\n",
              "          google.colab.kernel.accessAllowed ? 'block' : 'none';\n",
              "\n",
              "        async function convertToInteractive(key) {\n",
              "          const element = document.querySelector('#df-04a4f8f1-228f-442d-a2c6-fd5831865ded');\n",
              "          const dataTable =\n",
              "            await google.colab.kernel.invokeFunction('convertToInteractive',\n",
              "                                                     [key], {});\n",
              "          if (!dataTable) return;\n",
              "\n",
              "          const docLinkHtml = 'Like what you see? Visit the ' +\n",
              "            '<a target=\"_blank\" href=https://colab.research.google.com/notebooks/data_table.ipynb>data table notebook</a>'\n",
              "            + ' to learn more about interactive tables.';\n",
              "          element.innerHTML = '';\n",
              "          dataTable['output_type'] = 'display_data';\n",
              "          await google.colab.output.renderOutput(dataTable, element);\n",
              "          const docLink = document.createElement('div');\n",
              "          docLink.innerHTML = docLinkHtml;\n",
              "          element.appendChild(docLink);\n",
              "        }\n",
              "      </script>\n",
              "    </div>\n",
              "  </div>\n",
              "  "
            ]
          },
          "metadata": {},
          "execution_count": 5
        }
      ]
    },
    {
      "cell_type": "code",
      "source": [
        "import tensorflow\n",
        "from tensorflow import keras\n",
        "from keras import Sequential\n",
        "from keras.layers import Dense"
      ],
      "metadata": {
        "id": "e0rflXxN_P3x"
      },
      "execution_count": 6,
      "outputs": []
    },
    {
      "cell_type": "code",
      "source": [
        "model = Sequential()\n",
        "\n",
        "model.add(Dense(2, activation=\"linear\", input_dim=2))\n",
        "model.add(Dense(1, activation=\"linear\"))"
      ],
      "metadata": {
        "id": "burSVzqQ_kiU"
      },
      "execution_count": 9,
      "outputs": []
    },
    {
      "cell_type": "code",
      "source": [
        "model.summary()"
      ],
      "metadata": {
        "colab": {
          "base_uri": "https://localhost:8080/"
        },
        "id": "5Q-s-6AJ_0D2",
        "outputId": "2361c700-0faf-4cd4-faec-c1921efd7c00"
      },
      "execution_count": 10,
      "outputs": [
        {
          "output_type": "stream",
          "name": "stdout",
          "text": [
            "Model: \"sequential_1\"\n",
            "_________________________________________________________________\n",
            " Layer (type)                Output Shape              Param #   \n",
            "=================================================================\n",
            " dense_2 (Dense)             (None, 2)                 6         \n",
            "                                                                 \n",
            " dense_3 (Dense)             (None, 1)                 3         \n",
            "                                                                 \n",
            "=================================================================\n",
            "Total params: 9\n",
            "Trainable params: 9\n",
            "Non-trainable params: 0\n",
            "_________________________________________________________________\n"
          ]
        }
      ]
    },
    {
      "cell_type": "code",
      "source": [
        "model.get_weights()"
      ],
      "metadata": {
        "colab": {
          "base_uri": "https://localhost:8080/"
        },
        "id": "NdG-O5ws_1FH",
        "outputId": "392fd91a-23d7-41f2-e5ed-7edac7723dd6"
      },
      "execution_count": 11,
      "outputs": [
        {
          "output_type": "execute_result",
          "data": {
            "text/plain": [
              "[array([[-0.41757268,  0.20824063],\n",
              "        [-1.2236615 , -1.1017779 ]], dtype=float32),\n",
              " array([0., 0.], dtype=float32),\n",
              " array([[ 0.78497875],\n",
              "        [-0.83556056]], dtype=float32),\n",
              " array([0.], dtype=float32)]"
            ]
          },
          "metadata": {},
          "execution_count": 11
        }
      ]
    },
    {
      "cell_type": "code",
      "source": [
        "new_weights = [np.array([[0.1, 0.1], [0.1, 0.1]], dtype = np.float32),\n",
        "               np.array([0., 0.], dtype=np.float32),\n",
        "               np.array([[0.1], [0.1]], dtype=np.float32),\n",
        "               np.array([0.], dtype=np.float32)]"
      ],
      "metadata": {
        "id": "W0FvI68G_8Xn"
      },
      "execution_count": 14,
      "outputs": []
    },
    {
      "cell_type": "code",
      "source": [
        "new_weights"
      ],
      "metadata": {
        "colab": {
          "base_uri": "https://localhost:8080/"
        },
        "id": "Z0Wsj1ZzAw7_",
        "outputId": "9f3a2251-3760-4a85-d090-f0c14b8e2985"
      },
      "execution_count": 15,
      "outputs": [
        {
          "output_type": "execute_result",
          "data": {
            "text/plain": [
              "[array([[0.1, 0.1],\n",
              "        [0.1, 0.1]], dtype=float32),\n",
              " array([0., 0.], dtype=float32),\n",
              " array([[0.1],\n",
              "        [0.1]], dtype=float32),\n",
              " array([0.], dtype=float32)]"
            ]
          },
          "metadata": {},
          "execution_count": 15
        }
      ]
    },
    {
      "cell_type": "code",
      "source": [
        "model.set_weights(new_weights)"
      ],
      "metadata": {
        "id": "0gTizf8DA6FQ"
      },
      "execution_count": 16,
      "outputs": []
    },
    {
      "cell_type": "code",
      "source": [
        "model.get_weights()"
      ],
      "metadata": {
        "colab": {
          "base_uri": "https://localhost:8080/"
        },
        "id": "ABukyRcSA-XZ",
        "outputId": "e7a0bf5d-30a6-4f70-9dcd-5f95ccb140ab"
      },
      "execution_count": 18,
      "outputs": [
        {
          "output_type": "execute_result",
          "data": {
            "text/plain": [
              "[array([[0.1, 0.1],\n",
              "        [0.1, 0.1]], dtype=float32),\n",
              " array([0., 0.], dtype=float32),\n",
              " array([[0.1],\n",
              "        [0.1]], dtype=float32),\n",
              " array([0.], dtype=float32)]"
            ]
          },
          "metadata": {},
          "execution_count": 18
        }
      ]
    },
    {
      "cell_type": "code",
      "source": [
        "optimizer = keras.optimizers.Adam(learning_rate=0.001)\n",
        "model.compile(loss=\"mean_squared_error\", optimizer=optimizer)"
      ],
      "metadata": {
        "id": "hZ22URRaBA3G"
      },
      "execution_count": 28,
      "outputs": []
    },
    {
      "cell_type": "code",
      "source": [
        "df.iloc[:, 0:-1].values"
      ],
      "metadata": {
        "colab": {
          "base_uri": "https://localhost:8080/"
        },
        "id": "LLzEcA06CQkc",
        "outputId": "8751bb84-daec-4df3-b8ad-9676ce93ce4d"
      },
      "execution_count": 29,
      "outputs": [
        {
          "output_type": "execute_result",
          "data": {
            "text/plain": [
              "array([[ 8,  8],\n",
              "       [ 7,  9],\n",
              "       [ 6, 10],\n",
              "       [ 5, 12]])"
            ]
          },
          "metadata": {},
          "execution_count": 29
        }
      ]
    },
    {
      "cell_type": "code",
      "source": [
        "df[\"lpa\"].values"
      ],
      "metadata": {
        "colab": {
          "base_uri": "https://localhost:8080/"
        },
        "id": "QtXjZKm1CUFW",
        "outputId": "c5a74b7b-768a-4940-a69b-e369e03ed3f1"
      },
      "execution_count": 30,
      "outputs": [
        {
          "output_type": "execute_result",
          "data": {
            "text/plain": [
              "array([4, 5, 6, 7])"
            ]
          },
          "metadata": {},
          "execution_count": 30
        }
      ]
    },
    {
      "cell_type": "code",
      "source": [
        "history = model.fit(df.iloc[:,0:-1].values, df['lpa'].values, epochs=75, verbose=1, batch_size=1)"
      ],
      "metadata": {
        "colab": {
          "base_uri": "https://localhost:8080/"
        },
        "id": "b4C3NNS7BQRx",
        "outputId": "6c04962b-106f-4fa7-f130-8c74114fbb45"
      },
      "execution_count": 40,
      "outputs": [
        {
          "output_type": "stream",
          "name": "stdout",
          "text": [
            "Epoch 1/75\n",
            "4/4 [==============================] - 0s 4ms/step - loss: 0.9398\n",
            "Epoch 2/75\n",
            "4/4 [==============================] - 0s 4ms/step - loss: 0.9382\n",
            "Epoch 3/75\n",
            "4/4 [==============================] - 0s 5ms/step - loss: 0.9394\n",
            "Epoch 4/75\n",
            "4/4 [==============================] - 0s 5ms/step - loss: 0.9373\n",
            "Epoch 5/75\n",
            "4/4 [==============================] - 0s 6ms/step - loss: 0.9341\n",
            "Epoch 6/75\n",
            "4/4 [==============================] - 0s 5ms/step - loss: 0.9316\n",
            "Epoch 7/75\n",
            "4/4 [==============================] - 0s 5ms/step - loss: 0.9322\n",
            "Epoch 8/75\n",
            "4/4 [==============================] - 0s 10ms/step - loss: 0.9282\n",
            "Epoch 9/75\n",
            "4/4 [==============================] - 0s 11ms/step - loss: 0.9322\n",
            "Epoch 10/75\n",
            "4/4 [==============================] - 0s 5ms/step - loss: 0.9246\n",
            "Epoch 11/75\n",
            "4/4 [==============================] - 0s 5ms/step - loss: 0.9245\n",
            "Epoch 12/75\n",
            "4/4 [==============================] - 0s 5ms/step - loss: 0.9246\n",
            "Epoch 13/75\n",
            "4/4 [==============================] - 0s 11ms/step - loss: 0.9209\n",
            "Epoch 14/75\n",
            "4/4 [==============================] - 0s 6ms/step - loss: 0.9183\n",
            "Epoch 15/75\n",
            "4/4 [==============================] - 0s 6ms/step - loss: 0.9167\n",
            "Epoch 16/75\n",
            "4/4 [==============================] - 0s 7ms/step - loss: 0.9189\n",
            "Epoch 17/75\n",
            "4/4 [==============================] - 0s 6ms/step - loss: 0.9124\n",
            "Epoch 18/75\n",
            "4/4 [==============================] - 0s 10ms/step - loss: 0.9160\n",
            "Epoch 19/75\n",
            "4/4 [==============================] - 0s 13ms/step - loss: 0.9128\n",
            "Epoch 20/75\n",
            "4/4 [==============================] - 0s 10ms/step - loss: 0.9102\n",
            "Epoch 21/75\n",
            "4/4 [==============================] - 0s 9ms/step - loss: 0.9074\n",
            "Epoch 22/75\n",
            "4/4 [==============================] - 0s 6ms/step - loss: 0.9055\n",
            "Epoch 23/75\n",
            "4/4 [==============================] - 0s 12ms/step - loss: 0.9048\n",
            "Epoch 24/75\n",
            "4/4 [==============================] - 0s 6ms/step - loss: 0.9010\n",
            "Epoch 25/75\n",
            "4/4 [==============================] - 0s 13ms/step - loss: 0.8998\n",
            "Epoch 26/75\n",
            "4/4 [==============================] - 0s 8ms/step - loss: 0.8999\n",
            "Epoch 27/75\n",
            "4/4 [==============================] - 0s 7ms/step - loss: 0.8959\n",
            "Epoch 28/75\n",
            "4/4 [==============================] - 0s 7ms/step - loss: 0.8949\n",
            "Epoch 29/75\n",
            "4/4 [==============================] - 0s 6ms/step - loss: 0.8929\n",
            "Epoch 30/75\n",
            "4/4 [==============================] - 0s 6ms/step - loss: 0.8937\n",
            "Epoch 31/75\n",
            "4/4 [==============================] - 0s 6ms/step - loss: 0.8885\n",
            "Epoch 32/75\n",
            "4/4 [==============================] - 0s 8ms/step - loss: 0.8914\n",
            "Epoch 33/75\n",
            "4/4 [==============================] - 0s 6ms/step - loss: 0.8887\n",
            "Epoch 34/75\n",
            "4/4 [==============================] - 0s 6ms/step - loss: 0.8852\n",
            "Epoch 35/75\n",
            "4/4 [==============================] - 0s 5ms/step - loss: 0.8815\n",
            "Epoch 36/75\n",
            "4/4 [==============================] - 0s 5ms/step - loss: 0.8813\n",
            "Epoch 37/75\n",
            "4/4 [==============================] - 0s 4ms/step - loss: 0.8789\n",
            "Epoch 38/75\n",
            "4/4 [==============================] - 0s 4ms/step - loss: 0.8773\n",
            "Epoch 39/75\n",
            "4/4 [==============================] - 0s 7ms/step - loss: 0.8763\n",
            "Epoch 40/75\n",
            "4/4 [==============================] - 0s 4ms/step - loss: 0.8729\n",
            "Epoch 41/75\n",
            "4/4 [==============================] - 0s 4ms/step - loss: 0.8722\n",
            "Epoch 42/75\n",
            "4/4 [==============================] - 0s 5ms/step - loss: 0.8719\n",
            "Epoch 43/75\n",
            "4/4 [==============================] - 0s 5ms/step - loss: 0.8682\n",
            "Epoch 44/75\n",
            "4/4 [==============================] - 0s 4ms/step - loss: 0.8661\n",
            "Epoch 45/75\n",
            "4/4 [==============================] - 0s 9ms/step - loss: 0.8655\n",
            "Epoch 46/75\n",
            "4/4 [==============================] - 0s 10ms/step - loss: 0.8628\n",
            "Epoch 47/75\n",
            "4/4 [==============================] - 0s 5ms/step - loss: 0.8623\n",
            "Epoch 48/75\n",
            "4/4 [==============================] - 0s 10ms/step - loss: 0.8603\n",
            "Epoch 49/75\n",
            "4/4 [==============================] - 0s 12ms/step - loss: 0.8584\n",
            "Epoch 50/75\n",
            "4/4 [==============================] - 0s 15ms/step - loss: 0.8563\n",
            "Epoch 51/75\n",
            "4/4 [==============================] - 0s 8ms/step - loss: 0.8573\n",
            "Epoch 52/75\n",
            "4/4 [==============================] - 0s 6ms/step - loss: 0.8569\n",
            "Epoch 53/75\n",
            "4/4 [==============================] - 0s 5ms/step - loss: 0.8526\n",
            "Epoch 54/75\n",
            "4/4 [==============================] - 0s 5ms/step - loss: 0.8522\n",
            "Epoch 55/75\n",
            "4/4 [==============================] - 0s 5ms/step - loss: 0.8487\n",
            "Epoch 56/75\n",
            "4/4 [==============================] - 0s 7ms/step - loss: 0.8479\n",
            "Epoch 57/75\n",
            "4/4 [==============================] - 0s 5ms/step - loss: 0.8485\n",
            "Epoch 58/75\n",
            "4/4 [==============================] - 0s 7ms/step - loss: 0.8426\n",
            "Epoch 59/75\n",
            "4/4 [==============================] - 0s 7ms/step - loss: 0.8443\n",
            "Epoch 60/75\n",
            "4/4 [==============================] - 0s 7ms/step - loss: 0.8394\n",
            "Epoch 61/75\n",
            "4/4 [==============================] - 0s 8ms/step - loss: 0.8385\n",
            "Epoch 62/75\n",
            "4/4 [==============================] - 0s 5ms/step - loss: 0.8369\n",
            "Epoch 63/75\n",
            "4/4 [==============================] - 0s 12ms/step - loss: 0.8393\n",
            "Epoch 64/75\n",
            "4/4 [==============================] - 0s 15ms/step - loss: 0.8332\n",
            "Epoch 65/75\n",
            "4/4 [==============================] - 0s 8ms/step - loss: 0.8305\n",
            "Epoch 66/75\n",
            "4/4 [==============================] - 0s 8ms/step - loss: 0.8294\n",
            "Epoch 67/75\n",
            "4/4 [==============================] - 0s 6ms/step - loss: 0.8272\n",
            "Epoch 68/75\n",
            "4/4 [==============================] - 0s 7ms/step - loss: 0.8290\n",
            "Epoch 69/75\n",
            "4/4 [==============================] - 0s 7ms/step - loss: 0.8274\n",
            "Epoch 70/75\n",
            "4/4 [==============================] - 0s 6ms/step - loss: 0.8244\n",
            "Epoch 71/75\n",
            "4/4 [==============================] - 0s 5ms/step - loss: 0.8239\n",
            "Epoch 72/75\n",
            "4/4 [==============================] - 0s 8ms/step - loss: 0.8182\n",
            "Epoch 73/75\n",
            "4/4 [==============================] - 0s 6ms/step - loss: 0.8164\n",
            "Epoch 74/75\n",
            "4/4 [==============================] - 0s 6ms/step - loss: 0.8157\n",
            "Epoch 75/75\n",
            "4/4 [==============================] - 0s 5ms/step - loss: 0.8136\n"
          ]
        }
      ]
    },
    {
      "cell_type": "code",
      "source": [
        "model.get_weights()"
      ],
      "metadata": {
        "colab": {
          "base_uri": "https://localhost:8080/"
        },
        "id": "uyY4oaS3B1Ar",
        "outputId": "e2ba0951-3537-4617-a04e-25095c4eaece"
      },
      "execution_count": 33,
      "outputs": [
        {
          "output_type": "execute_result",
          "data": {
            "text/plain": [
              "[array([[0.3617561 , 0.3617561 ],\n",
              "        [0.41051742, 0.41051742]], dtype=float32),\n",
              " array([0.2938639, 0.2938639], dtype=float32),\n",
              " array([[0.39836207],\n",
              "        [0.39836207]], dtype=float32),\n",
              " array([0.21743743], dtype=float32)]"
            ]
          },
          "metadata": {},
          "execution_count": 33
        }
      ]
    },
    {
      "cell_type": "code",
      "source": [
        "y_pred = model.predict(df.iloc[:,0:-1].values)"
      ],
      "metadata": {
        "id": "1vZoHuJADeUP"
      },
      "execution_count": 37,
      "outputs": []
    },
    {
      "cell_type": "code",
      "source": [
        "y_pred"
      ],
      "metadata": {
        "colab": {
          "base_uri": "https://localhost:8080/"
        },
        "id": "E4WV8PLuD0e2",
        "outputId": "a23a5343-418d-4f0a-b5af-75a3647c6f47"
      },
      "execution_count": 38,
      "outputs": [
        {
          "output_type": "execute_result",
          "data": {
            "text/plain": [
              "array([[5.3738775],\n",
              "       [5.412727 ],\n",
              "       [5.4515758],\n",
              "       [5.817494 ]], dtype=float32)"
            ]
          },
          "metadata": {},
          "execution_count": 38
        }
      ]
    },
    {
      "cell_type": "code",
      "source": [
        "from sklearn.metrics import r2_score\n",
        "print(r2_score(y_pred, df.lpa.values))"
      ],
      "metadata": {
        "colab": {
          "base_uri": "https://localhost:8080/"
        },
        "id": "V-Fr-ACPEPDR",
        "outputId": "8383c83c-bd66-41f1-9017-5f5a465c912b"
      },
      "execution_count": 39,
      "outputs": [
        {
          "output_type": "stream",
          "name": "stdout",
          "text": [
            "-28.84190616230402\n"
          ]
        }
      ]
    },
    {
      "cell_type": "code",
      "source": [
        "import matplotlib.pyplot as plt\n"
      ],
      "metadata": {
        "id": "2Pbez7PREuo6"
      },
      "execution_count": 41,
      "outputs": []
    },
    {
      "cell_type": "code",
      "source": [
        "plt.plot(history.history[\"loss\"])\n",
        "plt.xlabel(\"Epochs\")\n",
        "plt.ylabel(\"Loss\")\n",
        "plt.show()"
      ],
      "metadata": {
        "colab": {
          "base_uri": "https://localhost:8080/",
          "height": 279
        },
        "id": "3krMb7-cEf89",
        "outputId": "217b1ad9-b009-4274-efa1-57664250b614"
      },
      "execution_count": 44,
      "outputs": [
        {
          "output_type": "display_data",
          "data": {
            "text/plain": [
              "<Figure size 432x288 with 1 Axes>"
            ],
            "image/png": "[encoded data removed]"
          },
          "metadata": {
            "needs_background": "light"
          }
        }
      ]
    },
    {
      "cell_type": "code",
      "source": [
        ""
      ],
      "metadata": {
        "id": "2bpJg4nEEwo8"
      },
      "execution_count": null,
      "outputs": []
    }
  ]
}