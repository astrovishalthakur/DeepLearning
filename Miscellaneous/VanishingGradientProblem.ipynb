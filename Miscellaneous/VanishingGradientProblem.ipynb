{
  "nbformat": 4,
  "nbformat_minor": 0,
  "metadata": {
    "colab": {
      "name": "VanishingGradientProblem.ipynb",
      "provenance": [],
      "authorship_tag": "ABX9TyPrwnatVFV+fLjfsw/ARNBM",
      "include_colab_link": true
    },
    "kernelspec": {
      "name": "python3",
      "display_name": "Python 3"
    },
    "language_info": {
      "name": "python"
    }
  },
  "cells": [
    {
      "cell_type": "markdown",
      "metadata": {
        "id": "view-in-github",
        "colab_type": "text"
      },
      "source": [
        "<a href=\"https://colab.research.google.com/github/astrovishalthakur/DeepLearning/blob/main/Miscellaneous/VanishingGradientProblem.ipynb\" target=\"_parent\"><img src=\"https://colab.research.google.com/assets/colab-badge.svg\" alt=\"Open In Colab\"/></a>"
      ]
    },
    {
      "cell_type": "code",
      "execution_count": null,
      "metadata": {
        "id": "FY4rYPLeFWFt"
      },
      "outputs": [],
      "source": [
        "import matplotlib.pyplot as plt\n",
        "import numpy as np\n",
        "import pandas as pd\n",
        "import tensorflow as tf\n",
        "import keras\n",
        "from sklearn.datasets import make_moons\n",
        "from keras.layers import Dense\n",
        "from sklearn.model_selection import train_test_split\n",
        "from keras.models import Sequential"
      ]
    },
    {
      "cell_type": "code",
      "source": [
        "X, y = make_moons(n_samples=250, noise=0.05, random_state=42)"
      ],
      "metadata": {
        "id": "p2gq8oKFF95l"
      },
      "execution_count": null,
      "outputs": []
    },
    {
      "cell_type": "code",
      "source": [
        "plt.scatter(X[:, 0], X[:, 1], c=y, s=100)\n",
        "plt.show()"
      ],
      "metadata": {
        "colab": {
          "base_uri": "https://localhost:8080/",
          "height": 265
        },
        "id": "vY6sPBdkGJSl",
        "outputId": "f6eb8365-404a-4176-bcc5-4d0cb677e3b1"
      },
      "execution_count": null,
      "outputs": [
        {
          "output_type": "display_data",
          "data": {
            "text/plain": [
              "<Figure size 432x288 with 1 Axes>"
            ],
            "image/png": "[encoded data removed]"
          },
          "metadata": {
            "needs_background": "light"
          }
        }
      ]
    },
    {
      "cell_type": "code",
      "source": [
        "model = Sequential()\n",
        "\n",
        "model.add(Dense(10,activation='relu',input_dim=2))\n",
        "model.add(Dense(10,activation='relu'))\n",
        "model.add(Dense(10,activation='sigmoid'))\n",
        "model.add(Dense(10,activation='sigmoid'))\n",
        "model.add(Dense(10,activation='sigmoid'))\n",
        "model.add(Dense(10,activation='sigmoid'))\n",
        "model.add(Dense(10,activation='sigmoid'))\n",
        "model.add(Dense(10,activation='sigmoid'))\n",
        "model.add(Dense(10,activation='sigmoid'))\n",
        "model.add(Dense(10,activation='sigmoid'))\n",
        "model.add(Dense(10,activation='sigmoid'))\n",
        "model.add(Dense(1, activation='sigmoid'))"
      ],
      "metadata": {
        "id": "4fs3RIiJGXh_"
      },
      "execution_count": null,
      "outputs": []
    },
    {
      "cell_type": "code",
      "source": [
        "model.compile(loss=\"binary_crossentropy\", optimizer=\"adam\", metrics=[\"accuracy\"])"
      ],
      "metadata": {
        "id": "58w5qZXXGzgH"
      },
      "execution_count": null,
      "outputs": []
    },
    {
      "cell_type": "code",
      "source": [
        "# first layer weights\n",
        "old_weights = model.get_weights()[0]"
      ],
      "metadata": {
        "id": "6ZaGVJJBIOS8"
      },
      "execution_count": null,
      "outputs": []
    },
    {
      "cell_type": "code",
      "source": [
        "old_weights"
      ],
      "metadata": {
        "colab": {
          "base_uri": "https://localhost:8080/"
        },
        "id": "z8h20aKWIUGD",
        "outputId": "efd3f852-ea12-4710-dd35-e6f8ac159b91"
      },
      "execution_count": null,
      "outputs": [
        {
          "output_type": "execute_result",
          "data": {
            "text/plain": [
              "array([[-0.07865715,  0.17468333, -0.68386686,  0.3705681 , -0.4505599 ,\n",
              "        -0.68803096,  0.24505186,  0.42872244, -0.695906  ,  0.499996  ],\n",
              "       [-0.09632158,  0.25661343, -0.10394204,  0.4062031 ,  0.2009201 ,\n",
              "         0.21086353,  0.34487277,  0.2669381 , -0.52046657,  0.53236276]],\n",
              "      dtype=float32)"
            ]
          },
          "metadata": {},
          "execution_count": 26
        }
      ]
    },
    {
      "cell_type": "code",
      "source": [
        "model.summary()"
      ],
      "metadata": {
        "id": "-OVpGB63IVNJ"
      },
      "execution_count": null,
      "outputs": []
    },
    {
      "cell_type": "code",
      "source": [
        "X_train, X_test, y_train, y_test = train_test_split(X, y, test_size=0.20, random_state=42)"
      ],
      "metadata": {
        "id": "Fc34fxVKIYgl"
      },
      "execution_count": null,
      "outputs": []
    },
    {
      "cell_type": "code",
      "source": [
        "model.fit(X_train, y_train, epochs=1)"
      ],
      "metadata": {
        "colab": {
          "base_uri": "https://localhost:8080/"
        },
        "id": "IdXJGcbgItHY",
        "outputId": "26a5f43d-815b-458c-bed3-220ac7b4b541"
      },
      "execution_count": null,
      "outputs": [
        {
          "output_type": "stream",
          "name": "stdout",
          "text": [
            "7/7 [==============================] - 1s 3ms/step - loss: 0.7005 - accuracy: 0.5100\n"
          ]
        },
        {
          "output_type": "execute_result",
          "data": {
            "text/plain": [
              "<keras.callbacks.History at 0x7f8266b44e50>"
            ]
          },
          "metadata": {},
          "execution_count": 29
        }
      ]
    },
    {
      "cell_type": "code",
      "source": [
        "new_weights = model.get_weights()[0]"
      ],
      "metadata": {
        "id": "DbP4enBMIyJt"
      },
      "execution_count": null,
      "outputs": []
    },
    {
      "cell_type": "code",
      "source": [
        "new_weights"
      ],
      "metadata": {
        "colab": {
          "base_uri": "https://localhost:8080/"
        },
        "id": "w-lr810gJIWS",
        "outputId": "f1a9e101-0204-4fe8-fca2-9837256b957c"
      },
      "execution_count": null,
      "outputs": [
        {
          "output_type": "execute_result",
          "data": {
            "text/plain": [
              "array([[-0.07863887,  0.17468083, -0.683883  ,  0.37056136, -0.4505754 ,\n",
              "        -0.687997  ,  0.24507895,  0.42870334, -0.6959167 ,  0.49999085],\n",
              "       [-0.0963323 ,  0.25661513, -0.10393032,  0.40620714,  0.20093024,\n",
              "         0.21083821,  0.3448565 ,  0.26695004, -0.52045894,  0.53236604]],\n",
              "      dtype=float32)"
            ]
          },
          "metadata": {},
          "execution_count": 31
        }
      ]
    },
    {
      "cell_type": "markdown",
      "source": [
        "### Gradient:\n",
        "\n",
        "$$\\eta\\frac{\\partial{L}}{\\partial{w}} = \\frac{w_0 - w_n}{\\eta}$$"
      ],
      "metadata": {
        "id": "t8k9d78_NnrN"
      }
    },
    {
      "cell_type": "code",
      "source": [
        "gradient = (old_weights - new_weights) / 0.001\n",
        "percent_change = abs(100 * (old_weights - new_weights) / old_weights)"
      ],
      "metadata": {
        "id": "blIySXJEJLkx"
      },
      "execution_count": null,
      "outputs": []
    },
    {
      "cell_type": "code",
      "source": [
        "gradient"
      ],
      "metadata": {
        "colab": {
          "base_uri": "https://localhost:8080/"
        },
        "id": "L-GtBExFK_Pm",
        "outputId": "532a35d3-1316-49dd-9e72-d579f2c16cbf"
      },
      "execution_count": null,
      "outputs": [
        {
          "output_type": "execute_result",
          "data": {
            "text/plain": [
              "array([[-0.01828372,  0.00250339,  0.01615286,  0.00673532,  0.01549721,\n",
              "        -0.03397465, -0.02709031,  0.01910329,  0.01072884,  0.0051558 ],\n",
              "       [ 0.01072138, -0.00169873, -0.01171231, -0.00405312, -0.01013279,\n",
              "         0.02531707,  0.01627207, -0.01195073, -0.00762939, -0.00327826]],\n",
              "      dtype=float32)"
            ]
          },
          "metadata": {},
          "execution_count": 33
        }
      ]
    },
    {
      "cell_type": "markdown",
      "source": [
        "#### We can see that percentage change is very less after 1 epoch not even 1%"
      ],
      "metadata": {
        "id": "4URKYHjiNybk"
      }
    },
    {
      "cell_type": "markdown",
      "source": [
        "### Now we will see how to detect this problem"
      ],
      "metadata": {
        "id": "U2s72TjiOD5m"
      }
    },
    {
      "cell_type": "markdown",
      "source": [
        "Running for few more epochs"
      ],
      "metadata": {
        "id": "3Vu00x6gOH8u"
      }
    },
    {
      "cell_type": "markdown",
      "source": [
        "We can see above that loss has stuck at 0.69 and not changing any further"
      ],
      "metadata": {
        "id": "04gnhNafOdlS"
      }
    },
    {
      "cell_type": "markdown",
      "source": [
        "Run model again, code block 23, block 24"
      ],
      "metadata": {
        "id": "rqc1DD_gO7GP"
      }
    },
    {
      "cell_type": "code",
      "source": [
        "# first layer weights\n",
        "old_weights = model.get_weights()[0]"
      ],
      "metadata": {
        "id": "BYrL3qiWO5UJ"
      },
      "execution_count": null,
      "outputs": []
    },
    {
      "cell_type": "code",
      "source": [
        "model.fit(X_train, y_train, epochs=100)"
      ],
      "metadata": {
        "id": "HRoS2apUK_64"
      },
      "execution_count": null,
      "outputs": []
    },
    {
      "cell_type": "code",
      "source": [
        "new_weights = model.get_weights()[0]"
      ],
      "metadata": {
        "id": "bcYJZVt0Oajq"
      },
      "execution_count": null,
      "outputs": []
    },
    {
      "cell_type": "code",
      "source": [
        "old_weights"
      ],
      "metadata": {
        "colab": {
          "base_uri": "https://localhost:8080/"
        },
        "id": "hl3ZkWZ3Pe1Q",
        "outputId": "31c3586e-6b76-4c4a-c7c9-4ab0a42b0882"
      },
      "execution_count": null,
      "outputs": [
        {
          "output_type": "execute_result",
          "data": {
            "text/plain": [
              "array([[ 0.61228424, -0.5982146 , -0.06439179,  0.2370472 ,  0.46617848,\n",
              "         0.05757982,  0.5939737 ,  0.38322026,  0.6173603 ,  0.5149471 ],\n",
              "       [-0.4546554 , -0.22774404, -0.02293748,  0.09073371,  0.06845051,\n",
              "         0.51151305, -0.5478035 , -0.0625869 ,  0.05046797,  0.19617957]],\n",
              "      dtype=float32)"
            ]
          },
          "metadata": {},
          "execution_count": 46
        }
      ]
    },
    {
      "cell_type": "code",
      "source": [
        "new_weights"
      ],
      "metadata": {
        "colab": {
          "base_uri": "https://localhost:8080/"
        },
        "id": "wRY5RHIjPgwP",
        "outputId": "f1725810-ab41-4c3e-d032-f650d0d80a6a"
      },
      "execution_count": null,
      "outputs": [
        {
          "output_type": "execute_result",
          "data": {
            "text/plain": [
              "array([[ 0.61600405, -0.595144  , -0.06272628,  0.2746197 ,  0.47862473,\n",
              "         0.07000411,  0.6053974 ,  0.36862165,  0.6258177 ,  0.50206965],\n",
              "       [-0.45798028, -0.23043834, -0.02409832,  0.06039499,  0.05774298,\n",
              "         0.5020904 , -0.5585804 , -0.05071791,  0.0424408 ,  0.20752923]],\n",
              "      dtype=float32)"
            ]
          },
          "metadata": {},
          "execution_count": 49
        }
      ]
    },
    {
      "cell_type": "code",
      "source": [
        "gradient = (old_weights - new_weights) / 0.001\n",
        "percent_change = abs(100 * (old_weights - new_weights) / old_weights)"
      ],
      "metadata": {
        "id": "Fo_yfCiDOnNb"
      },
      "execution_count": null,
      "outputs": []
    },
    {
      "cell_type": "code",
      "source": [
        "percent_change"
      ],
      "metadata": {
        "colab": {
          "base_uri": "https://localhost:8080/"
        },
        "id": "NsIw3K6rOr8C",
        "outputId": "5b6d0498-8c77-49ce-f880-17aafe213b93"
      },
      "execution_count": null,
      "outputs": [
        {
          "output_type": "execute_result",
          "data": {
            "text/plain": [
              "array([[ 0.6075294,  0.5133028,  2.5865257, 15.850221 ,  2.6698475,\n",
              "        21.577509 ,  1.9232682,  3.8094563,  1.369933 ,  2.5007353],\n",
              "       [ 0.7312937,  1.183036 ,  5.060919 , 33.43709  , 15.642734 ,\n",
              "         1.8421153,  1.9672889, 18.964016 , 15.905467 ,  5.7853446]],\n",
              "      dtype=float32)"
            ]
          },
          "metadata": {},
          "execution_count": 51
        }
      ]
    },
    {
      "cell_type": "markdown",
      "source": [
        "## Points to avoid Vanishing Gradient Problem\n",
        "\n",
        "1. Reduce Model Complexity"
      ],
      "metadata": {
        "id": "aBaL5PEyY-Vm"
      }
    },
    {
      "cell_type": "code",
      "source": [
        "model = Sequential()\n",
        "\n",
        "model.add(Dense(10,activation='sigmoid',input_dim=2))\n",
        "model.add(Dense(10,activation='sigmoid'))\n",
        "model.add(Dense(10,activation='sigmoid'))\n",
        "model.add(Dense(10,activation='sigmoid'))\n",
        "model.add(Dense(10,activation='sigmoid'))\n",
        "model.add(Dense(1, activation='sigmoid'))"
      ],
      "metadata": {
        "id": "qw1zGqcbPnNw"
      },
      "execution_count": null,
      "outputs": []
    },
    {
      "cell_type": "code",
      "source": [
        "model.compile(loss=\"binary_crossentropy\", optimizer=\"adam\", metrics=[\"accuracy\"])"
      ],
      "metadata": {
        "id": "SNg4TJmLW92u"
      },
      "execution_count": null,
      "outputs": []
    },
    {
      "cell_type": "code",
      "source": [
        "# first layer weights\n",
        "old_weights = model.get_weights()[0]"
      ],
      "metadata": {
        "id": "GBM_0NBDY9LL"
      },
      "execution_count": null,
      "outputs": []
    },
    {
      "cell_type": "code",
      "source": [
        "model.fit(X_train, y_train, epochs=100)"
      ],
      "metadata": {
        "id": "rw-3VD3tZUnI"
      },
      "execution_count": null,
      "outputs": []
    },
    {
      "cell_type": "code",
      "source": [
        "new_weights = model.get_weights()[0]"
      ],
      "metadata": {
        "id": "YfGwT4PjZbfk"
      },
      "execution_count": null,
      "outputs": []
    },
    {
      "cell_type": "code",
      "source": [
        "gradient = (old_weights - new_weights) / 0.001\n",
        "percent_change = abs(100 * (old_weights - new_weights) / old_weights)"
      ],
      "metadata": {
        "id": "0wWIhxP7ZhY4"
      },
      "execution_count": null,
      "outputs": []
    },
    {
      "cell_type": "code",
      "source": [
        "percent_change"
      ],
      "metadata": {
        "colab": {
          "base_uri": "https://localhost:8080/"
        },
        "id": "GQvPuh48ZlmS",
        "outputId": "3959af8f-c5a9-4ecb-b015-963e0c3a269a"
      },
      "execution_count": null,
      "outputs": [
        {
          "output_type": "execute_result",
          "data": {
            "text/plain": [
              "array([[ 134.95862,  580.53687, 5806.503  ,   74.5052 ,  159.59901,\n",
              "         163.48848,  127.62971,   80.65983,  141.29047,  200.25761],\n",
              "       [8967.356  ,  502.75717,  158.52081,  241.98828,  617.27216,\n",
              "        1328.7458 ,  263.473  ,  344.07156,  376.73   ,  298.1894 ]],\n",
              "      dtype=float32)"
            ]
          },
          "metadata": {},
          "execution_count": 59
        }
      ]
    },
    {
      "cell_type": "code",
      "source": [
        "old_weights"
      ],
      "metadata": {
        "colab": {
          "base_uri": "https://localhost:8080/"
        },
        "id": "sT4eeO5jZmtg",
        "outputId": "a4281dbc-8df2-4b7f-865c-f36ea317f502"
      },
      "execution_count": null,
      "outputs": [
        {
          "output_type": "execute_result",
          "data": {
            "text/plain": [
              "array([[-0.47700793, -0.10577643,  0.00803876, -0.550019  , -0.33860388,\n",
              "         0.31544048,  0.58920735,  0.61491734, -0.35500458, -0.31118417],\n",
              "       [-0.01304966, -0.25559855,  0.6747392 ,  0.52544945, -0.20296204,\n",
              "         0.09212375,  0.4863767 ,  0.38016456,  0.33485585, -0.46304247]],\n",
              "      dtype=float32)"
            ]
          },
          "metadata": {},
          "execution_count": 60
        }
      ]
    },
    {
      "cell_type": "code",
      "source": [
        "new_weights"
      ],
      "metadata": {
        "colab": {
          "base_uri": "https://localhost:8080/"
        },
        "id": "WpblKaA0a4f6",
        "outputId": "1a23db7d-67ed-446d-c61a-b88439a7406b"
      },
      "execution_count": null,
      "outputs": [
        {
          "output_type": "execute_result",
          "data": {
            "text/plain": [
              "array([[ 0.1667553 , -0.7198476 ,  0.47480956, -0.9598118 , -0.87901235,\n",
              "         0.83114934, -0.16279635,  1.1109086 , -0.85659224, -0.9343542 ],\n",
              "       [-1.1832594 ,  1.0294414 , -0.39486286,  1.7969755 ,  1.0498662 ,\n",
              "        -1.1319667 ,  1.767848  , -0.9278736 ,  1.5963584 ,  0.9177012 ]],\n",
              "      dtype=float32)"
            ]
          },
          "metadata": {},
          "execution_count": 61
        }
      ]
    },
    {
      "cell_type": "code",
      "source": [
        "model = Sequential()\n",
        "\n",
        "model.add(Dense(10,activation='relu',input_dim=2))\n",
        "model.add(Dense(10,activation='relu'))\n",
        "model.add(Dense(10,activation='relu'))\n",
        "model.add(Dense(10,activation='relu'))\n",
        "model.add(Dense(10,activation='relu'))\n",
        "model.add(Dense(10,activation='relu'))\n",
        "model.add(Dense(10,activation='relu'))\n",
        "model.add(Dense(10,activation='relu'))\n",
        "model.add(Dense(10,activation='relu'))\n",
        "model.add(Dense(1, activation='sigmoid'))"
      ],
      "metadata": {
        "id": "Q-CHeOdEa6ep"
      },
      "execution_count": null,
      "outputs": []
    },
    {
      "cell_type": "code",
      "source": [
        "model.compile(loss=\"binary_crossentropy\", optimizer=\"adam\", metrics=[\"accuracy\"])"
      ],
      "metadata": {
        "id": "Ui_BebsodqS3"
      },
      "execution_count": null,
      "outputs": []
    },
    {
      "cell_type": "code",
      "source": [
        "# first layer weights\n",
        "old_weights = model.get_weights()[0]"
      ],
      "metadata": {
        "id": "S2oOzQV-dxkm"
      },
      "execution_count": null,
      "outputs": []
    },
    {
      "cell_type": "code",
      "source": [
        "model.fit(X_train, y_train, epochs=100)"
      ],
      "metadata": {
        "id": "PsGoalxOdzrX"
      },
      "execution_count": null,
      "outputs": []
    },
    {
      "cell_type": "code",
      "source": [
        "new_weights = model.get_weights()[0]"
      ],
      "metadata": {
        "id": "HZPcOTTgd1jB"
      },
      "execution_count": null,
      "outputs": []
    },
    {
      "cell_type": "code",
      "source": [
        "gradient = (old_weights - new_weights) / 0.001\n",
        "percent_change = abs(100 * (old_weights - new_weights) / old_weights)"
      ],
      "metadata": {
        "id": "S4HKEpV5d7Ue"
      },
      "execution_count": null,
      "outputs": []
    },
    {
      "cell_type": "code",
      "source": [
        "percent_change"
      ],
      "metadata": {
        "colab": {
          "base_uri": "https://localhost:8080/"
        },
        "id": "WZNXHiuUd88Y",
        "outputId": "8caef815-5c5e-46cb-f739-f1eef7d71997"
      },
      "execution_count": null,
      "outputs": [
        {
          "output_type": "execute_result",
          "data": {
            "text/plain": [
              "array([[ 19.722677  ,  22.107376  ,   0.80912673,  27.110392  ,\n",
              "         13.754524  ,   9.3304205 ,  32.18868   ,  35.56463   ,\n",
              "          0.80674195,  19.813969  ],\n",
              "       [ 20.845015  ,  20.178493  ,  30.243046  ,  29.797295  ,\n",
              "        115.23078   ,   6.143304  ,  22.556238  ,  13.23905   ,\n",
              "          7.8575897 ,   9.076785  ]], dtype=float32)"
            ]
          },
          "metadata": {},
          "execution_count": 69
        }
      ]
    },
    {
      "cell_type": "code",
      "source": [
        ""
      ],
      "metadata": {
        "id": "BDg-G1ard-G8"
      },
      "execution_count": null,
      "outputs": []
    }
  ]
}